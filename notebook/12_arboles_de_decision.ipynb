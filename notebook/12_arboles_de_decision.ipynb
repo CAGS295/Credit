{
 "cells": [
  {
   "cell_type": "markdown",
   "metadata": {},
   "source": [
    "# Árboles de decisión"
   ]
  },
  {
   "cell_type": "markdown",
   "metadata": {},
   "source": [
    "Crearemos un arbol de decisión para predecil el salario `log(Salary)` de un jugador de béisbol, basado en el numero de años que lleva jugando en las grandes ligas `Years`, y el numero de batazos de hit `Hits` que hizo en el año anterior."
   ]
  },
  {
   "cell_type": "code",
   "execution_count": null,
   "metadata": {},
   "outputs": [],
   "source": [
    "%matplotlib inline\n",
    "import pandas as pd\n",
    "import numpy as np\n",
    "import matplotlib.pyplot as plt"
   ]
  },
  {
   "cell_type": "markdown",
   "metadata": {},
   "source": [
    "Leemos los datos:"
   ]
  },
  {
   "cell_type": "code",
   "execution_count": null,
   "metadata": {},
   "outputs": [],
   "source": [
    "hitters = pd.read_csv('../data/hitters.csv').dropna()\n",
    "hitters['LogSalary'] = np.log(hitters.Salary)\n",
    "hitters = hitters[['Years', 'Hits', 'LogSalary']]\n",
    "hitters.head()"
   ]
  },
  {
   "cell_type": "markdown",
   "metadata": {},
   "source": [
    "### Recursive Binary Splitting\n",
    "1.- Select the predictor $X_j$ and the cut point $s$ such that splitting the predictor space into regions $R_1(j,s) = \\{X|X_j < s\\}$ and $R_2 =(j,s) = \\{X|X_j \\geqslant s\\}$ that leads to the greatest posible reduction in RSS.\n",
    "\n",
    "$$\\sum_{i: x_i\\in R_1(j,s)} (y_i - \\hat y_{R_1})^2 + \\sum_{i: x_i\\in R_2(j,s)} (y_i - \\hat y_{R_2})^2 $$"
   ]
  },
  {
   "cell_type": "code",
   "execution_count": null,
   "metadata": {},
   "outputs": [],
   "source": [
    "# Un árbol esta definido por la siguiente estructura\n",
    "# {'left': None, 'right': None, 'df': df, 'rss': 0}\n",
    "\n",
    "def _residual_squared_sum(df, y):\n",
    "    \"\"\"\n",
    "    Calculate the residual squared sum in R, using the target y.\n",
    "    \"\"\"\n",
    "    rss = 0\n",
    "    yhat = 0\n",
    "    return rss, yhat\n",
    "\n",
    "_residual_squared_sum(hitters, 'LogSalary')"
   ]
  },
  {
   "cell_type": "markdown",
   "metadata": {},
   "source": [
    "2.- We repeat the process, looking for the best predictor and best cutpoint in order to split the data further so as to minimize the RSS within each of the resulting regions. However, this time, instead of splitting the entire predictor space, we split one of the two previously identified regions. We now have three regions. Again, we look to split one of these three regions further, so as to minimize the RSS. The process continues until a stopping criterion is reached; for instance, we may continue until no region contains more than five observations."
   ]
  },
  {
   "cell_type": "code",
   "execution_count": null,
   "metadata": {},
   "outputs": [],
   "source": [
    "def _binary_splitting(df, y, x_j):\n",
    "    \"\"\"\n",
    "    Find the best split using the predictor x_j. \n",
    "    \"\"\"\n",
    "    split = {\n",
    "        'rss': 0,\n",
    "        's': 1,\n",
    "        'left': None,\n",
    "        'right': None\n",
    "    }\n",
    "    return split\n",
    "\n",
    "_binary_splitting(hitters, 'LogSalary', 'Years')"
   ]
  },
  {
   "cell_type": "code",
   "execution_count": null,
   "metadata": {},
   "outputs": [],
   "source": [
    "def _recursive_binary_splitting(df, y, predictors):\n",
    "    \"\"\"\n",
    "    Select the best variable to reduce the\n",
    "    residual square sum from predictors.\n",
    "    \"\"\"\n",
    "    return _binary_splitting(df, y, predictors[0])\n",
    "\n",
    "_recursive_binary_splitting(hitters, 'LogSalary', ['Years', 'Hits'])"
   ]
  },
  {
   "cell_type": "code",
   "execution_count": null,
   "metadata": {},
   "outputs": [],
   "source": [
    "def _make_tree(df, y):\n",
    "    rss, yhat = _residual_squared_sum(df, y)\n",
    "    return {'left': None, 'right':None, \n",
    "            'rss': rss,\n",
    "            'yhat': yhat,\n",
    "            'df': df,\n",
    "            'y': y}\n",
    "\n",
    "def _grow_tree(tree, predictors, min_points_per_leaf=5):\n",
    "    \"\"\"\n",
    "    Recursively divide tree using the split that\n",
    "    minimize rss. It stops when the region have\n",
    "    less than 5 elements.\n",
    "    \"\"\"\n",
    "\n",
    "hitters_tree = _make_tree(hitters, 'LogSalary')\n",
    "_grow_tree(hitters_tree, ['Years', 'Hits'])"
   ]
  },
  {
   "cell_type": "markdown",
   "metadata": {},
   "source": [
    "3.- Once the regions $R_1,...,R_J$ have been created,we predict the response for a given test observation using the mean of the training observations in the region to which that test observation belongs."
   ]
  },
  {
   "cell_type": "code",
   "execution_count": null,
   "metadata": {},
   "outputs": [],
   "source": [
    "def _evaluate(tree, event):\n",
    "    yhat = 0\n",
    "    return yhat\n",
    "\n",
    "_evaluate(hitters_tree, hitters.iloc[0])"
   ]
  },
  {
   "cell_type": "markdown",
   "metadata": {},
   "source": [
    "## Tree Pruning\n",
    "Cost complexity:\n",
    "\n",
    "For each value of $\\alpha$ there corresponds a subtree $T \\subset T_0$ such that\n",
    "\n",
    "$$\\sum_{m=1}^T \\sum_{i: x_i \\in R_m} (y_i - \\hat y_{R_m})^2 + \\alpha |T|$$\n",
    "\n",
    "is as small as possible. $|T|$ indicates the number of terminal nodes of the tree $T$, $R_m$ is the rectangle (i.e. the subset of predictor space) corresponding to the $m$th terminal node, and $\\hat y_{R_m}$ is the predicted response associated with $R_m$. \n"
   ]
  },
  {
   "cell_type": "markdown",
   "metadata": {},
   "source": [
    "1.- Calculate the total rss of a tree."
   ]
  },
  {
   "cell_type": "code",
   "execution_count": null,
   "metadata": {},
   "outputs": [],
   "source": [
    "def _is_leaf(tree):\n",
    "    \"\"\"\n",
    "    Return if a given tree is a leaf.\n",
    "    \"\"\"\n",
    "    return True\n",
    "\n",
    "def _tree_rss(tree):\n",
    "    \"\"\"\n",
    "    Calculate the total rss of a tree: the sum of the rss of\n",
    "    all leaves.\n",
    "    \"\"\"\n",
    "    rss = 0\n",
    "    return rss\n",
    "\n",
    "_tree_rss(hitters_tree)"
   ]
  },
  {
   "cell_type": "markdown",
   "metadata": {},
   "source": [
    "2.- Count the number of leaves in the tree."
   ]
  },
  {
   "cell_type": "code",
   "execution_count": null,
   "metadata": {},
   "outputs": [],
   "source": [
    "def _count_leafs(tree):\n",
    "    \"\"\"\n",
    "    Return the number of leaves in the tree.\n",
    "    \"\"\"\n",
    "    leafs = 0\n",
    "    return leafs\n",
    "\n",
    "_count_leafs(hitters_tree)"
   ]
  },
  {
   "cell_type": "code",
   "execution_count": null,
   "metadata": {},
   "outputs": [],
   "source": [
    "3.- Calculate the cost complexity of the tree."
   ]
  },
  {
   "cell_type": "code",
   "execution_count": null,
   "metadata": {},
   "outputs": [],
   "source": []
  },
  {
   "cell_type": "markdown",
   "metadata": {},
   "source": [
    "4.- Find the banch that if removed increase the tree rss the least."
   ]
  },
  {
   "cell_type": "code",
   "execution_count": null,
   "metadata": {},
   "outputs": [],
   "source": [
    "def _is_last_branch(tree):\n",
    "    \"\"\"\n",
    "    Return if a given tree is the last branch, i.e. both \n",
    "    subtrees are leaves.\n",
    "    \"\"\"\n",
    "    return True\n",
    "\n",
    "def _find_min_deltarss(tree):\n",
    "    \"\"\"\n",
    "    Find the tree that reduces for which the split reduces\n",
    "    the least the rss.\n",
    "    \"\"\"\n",
    "    min_deltarss = 0\n",
    "    min_tree = tree\n",
    "    return min_deltarss, min_tree\n",
    "\n",
    "_find_min_deltarss(hitters_tree)"
   ]
  },
  {
   "cell_type": "markdown",
   "metadata": {},
   "source": [
    "5.- Remove one by one the `min_deltarss` branch until the tree is a single leaf, while calculating the cost complexity. Return the tree that minimizes the cost complexity."
   ]
  },
  {
   "cell_type": "code",
   "execution_count": null,
   "metadata": {},
   "outputs": [],
   "source": [
    "from copy import deepcopy\n",
    "\n",
    "def _prune_tree(tree, alpha):\n",
    "    min_cc_tree = deepcopy(tree)\n",
    "    return min_cc_tree\n",
    "\n",
    "_prune_tree(hitters_tree, 0.1)"
   ]
  },
  {
   "cell_type": "code",
   "execution_count": null,
   "metadata": {},
   "outputs": [],
   "source": []
  }
 ],
 "metadata": {
  "kernelspec": {
   "display_name": "Python 3",
   "language": "python",
   "name": "python3"
  },
  "language_info": {
   "codemirror_mode": {
    "name": "ipython",
    "version": 3
   },
   "file_extension": ".py",
   "mimetype": "text/x-python",
   "name": "python",
   "nbconvert_exporter": "python",
   "pygments_lexer": "ipython3",
   "version": "3.6.4"
  }
 },
 "nbformat": 4,
 "nbformat_minor": 2
}
