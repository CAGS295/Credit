{
 "cells": [
  {
   "cell_type": "code",
   "execution_count": 138,
   "metadata": {},
   "outputs": [],
   "source": [
    "column_name = ['checking', 'duration_', 'history', 'purpose', 'amount_', 'savings',\n",
    "               'employment', 'installment_', 'personal', 'guarantors', 'recidence_', \n",
    "               'property', 'age_', 'other', 'housing', 'credits_',\n",
    "               'job', 'liable_', 'telephone', 'foreign', 'is_good']\n",
    "import pandas as pd\n",
    "import os\n",
    "import numpy as np\n",
    "from scipy.special import expit\n",
    "%matplotlib inline\n",
    "import matplotlib.pyplot as plt\n",
    "#\"/media/ibu/SHARED/repos/Credit/data/german.data\"\n",
    "gdata=pd.read_csv(\"../data/german.data\", sep=\" \",header = None)\n",
    "gdata.columns = column_name;\n",
    "#os.getcwd()\n",
    "gdata=pd.get_dummies(gdata,drop_first=True);\n",
    "#gdata.loc[:,gdata.columns.map(lambda x: x.startswith('hist')).values]\n",
    "W = np.random.randn(gdata.shape[1]);\n",
    "gdata['X0'] = 1\n",
    "gucci=gdata[\"is_good\"]\n",
    "gdata=gdata.drop([\"is_good\",\"amount_\"], axis=1)\n",
    "gucci = gucci.apply(lambda x:1 if x== 2 else -1)"
   ]
  },
  {
   "cell_type": "code",
   "execution_count": 151,
   "metadata": {
    "collapsed": true
   },
   "outputs": [],
   "source": [
    "def logistic(df, w):    \n",
    "    s = df.apply(lambda row: np.dot(w,row), axis=1)\n",
    "    return 1/(1+np.exp(-s))\n",
    "def cross_entropy(df,y, w):    \n",
    "    z = - df.apply(lambda row: np.dot(w, row), axis=1) * y\n",
    "    return (1/len(df)) * (np.log(1 + expit(z))).sum()\n",
    "def gradiente(df,y, w):\n",
    "    # z = yWx\n",
    "    z = df.apply(lambda row: np.dot(w, row), axis=1) * y\n",
    "    # v = yx\n",
    "    v = df.multiply(y, axis=0)   \n",
    "    return - (1/len(df)) * (v.divide(1 + expit(z), axis=0)).sum()\n",
    "def gradiente_descendente(df,y,w0, eta=0.002, iterations=1000, error_threshold=0.001):\n",
    "    w = w0\n",
    "    error_prev = cross_entropy(df,y, w)       \n",
    "    for _ in range(iterations):\n",
    "        w -= eta*gradiente(df,y, w)\n",
    "        error = cross_entropy(df,y,w)\n",
    "                   \n",
    "        if (error_prev - error ) < error_threshold:\n",
    "            break  \n",
    "        error_prev = error\n",
    "           \n",
    "    return w"
   ]
  },
  {
   "cell_type": "code",
   "execution_count": 169,
   "metadata": {},
   "outputs": [],
   "source": [
    "W=gradiente_descendente(gdata,gucci,np.random.rand(len(gdata.columns)))"
   ]
  },
  {
   "cell_type": "code",
   "execution_count": 170,
   "metadata": {},
   "outputs": [
    {
     "data": {
      "text/plain": [
       "<matplotlib.axes._subplots.AxesSubplot at 0x7f300c0176d8>"
      ]
     },
     "execution_count": 170,
     "metadata": {},
     "output_type": "execute_result"
    },
    {
     "data": {
      "image/png": "[encoded data removed]",
      "text/plain": [
       "<matplotlib.figure.Figure at 0x7f304016e898>"
      ]
     },
     "metadata": {},
     "output_type": "display_data"
    }
   ],
   "source": [
    "result = pd.DataFrame({'yhat': logistic(gdata,W), 'y':gucci})\n",
    "result[result.y == 1].yhat.hist(alpha=.4,color='b')\n",
    "result[result.y == -1].yhat.hist(alpha=.4,color='r')"
   ]
  },
  {
   "cell_type": "markdown",
   "metadata": {},
   "source": [
    "Se puede ver que este modelo no sirve, quiero pensar que demasiadas variables dicotómicas hacen que 1/(1+e^-s) tienda a 1 para todas las observaciones lo cual hace a este modelo inútil."
   ]
  },
  {
   "cell_type": "code",
   "execution_count": null,
   "metadata": {
    "collapsed": true
   },
   "outputs": [],
   "source": []
  }
 ],
 "metadata": {
  "kernelspec": {
   "display_name": "Python 3",
   "language": "python",
   "name": "python3"
  },
  "language_info": {
   "codemirror_mode": {
    "name": "ipython",
    "version": 3
   },
   "file_extension": ".py",
   "mimetype": "text/x-python",
   "name": "python",
   "nbconvert_exporter": "python",
   "pygments_lexer": "ipython3",
   "version": "3.6.3"
  }
 },
 "nbformat": 4,
 "nbformat_minor": 2
}
