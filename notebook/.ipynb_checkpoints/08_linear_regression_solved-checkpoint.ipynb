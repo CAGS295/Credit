{
 "cells": [
  {
   "cell_type": "code",
   "execution_count": 1,
   "metadata": {
    "collapsed": true
   },
   "outputs": [],
   "source": [
    "%matplotlib inline\n",
    "import pandas as pd\n",
    "import numpy as np\n",
    "import matplotlib.pyplot as plt"
   ]
  },
  {
   "cell_type": "code",
   "execution_count": 2,
   "metadata": {},
   "outputs": [
    {
     "data": {
      "text/html": [
       "<div>\n",
       "<style>\n",
       "    .dataframe thead tr:only-child th {\n",
       "        text-align: right;\n",
       "    }\n",
       "\n",
       "    .dataframe thead th {\n",
       "        text-align: left;\n",
       "    }\n",
       "\n",
       "    .dataframe tbody tr th {\n",
       "        vertical-align: top;\n",
       "    }\n",
       "</style>\n",
       "<table border=\"1\" class=\"dataframe\">\n",
       "  <thead>\n",
       "    <tr style=\"text-align: right;\">\n",
       "      <th></th>\n",
       "      <th>Education</th>\n",
       "      <th>Seniority</th>\n",
       "      <th>Income</th>\n",
       "    </tr>\n",
       "  </thead>\n",
       "  <tbody>\n",
       "    <tr>\n",
       "      <th>1</th>\n",
       "      <td>21.586207</td>\n",
       "      <td>113.103448</td>\n",
       "      <td>99.917173</td>\n",
       "    </tr>\n",
       "    <tr>\n",
       "      <th>2</th>\n",
       "      <td>18.275862</td>\n",
       "      <td>119.310345</td>\n",
       "      <td>92.579135</td>\n",
       "    </tr>\n",
       "    <tr>\n",
       "      <th>3</th>\n",
       "      <td>12.068966</td>\n",
       "      <td>100.689655</td>\n",
       "      <td>34.678727</td>\n",
       "    </tr>\n",
       "    <tr>\n",
       "      <th>4</th>\n",
       "      <td>17.034483</td>\n",
       "      <td>187.586207</td>\n",
       "      <td>78.702806</td>\n",
       "    </tr>\n",
       "    <tr>\n",
       "      <th>5</th>\n",
       "      <td>19.931034</td>\n",
       "      <td>20.000000</td>\n",
       "      <td>68.009922</td>\n",
       "    </tr>\n",
       "  </tbody>\n",
       "</table>\n",
       "</div>"
      ],
      "text/plain": [
       "   Education   Seniority     Income\n",
       "1  21.586207  113.103448  99.917173\n",
       "2  18.275862  119.310345  92.579135\n",
       "3  12.068966  100.689655  34.678727\n",
       "4  17.034483  187.586207  78.702806\n",
       "5  19.931034   20.000000  68.009922"
      ]
     },
     "execution_count": 2,
     "metadata": {},
     "output_type": "execute_result"
    }
   ],
   "source": [
    "income_data = pd.read_csv('../data/income2.csv', index_col=0)\n",
    "income_data.head()"
   ]
  },
  {
   "cell_type": "code",
   "execution_count": 3,
   "metadata": {},
   "outputs": [
    {
     "data": {
      "text/plain": [
       "<matplotlib.axes._subplots.AxesSubplot at 0x7fb3dc8a3f60>"
      ]
     },
     "execution_count": 3,
     "metadata": {},
     "output_type": "execute_result"
    },
    {
     "data": {
      "image/png": "[encoded data removed]",
      "text/plain": [
       "<matplotlib.figure.Figure at 0x7fb3dc8a35c0>"
      ]
     },
     "metadata": {},
     "output_type": "display_data"
    }
   ],
   "source": [
    "income_data.plot.scatter('Education', 'Seniority', s=income_data.Income)"
   ]
  },
  {
   "cell_type": "markdown",
   "metadata": {},
   "source": [
    "# Utiliza una regresion lineal para modelar `income_data`"
   ]
  },
  {
   "cell_type": "code",
   "execution_count": 4,
   "metadata": {},
   "outputs": [
    {
     "data": {
      "text/plain": [
       "array([[ -1.71440766e-01,  -5.11504895e-02,   1.90903328e-01,\n",
       "         -4.20239861e-02,  -5.88037286e-02,  -3.51877434e-04,\n",
       "         -1.29921786e-01,  -1.39048289e-01,  -1.11515650e-01,\n",
       "          2.61428211e-01,   1.56157496e-01,  -8.01563924e-02,\n",
       "          2.50388398e-01,   2.42342323e-02,   2.20789321e-01,\n",
       "         -1.14902225e-01,   1.57630760e-01,   5.13268255e-02,\n",
       "         -1.97912315e-02,  -1.65700837e-01,  -4.09907671e-02,\n",
       "          7.78262450e-02,  -6.68498032e-03,   2.89994069e-01,\n",
       "         -1.20642154e-01,   2.52301708e-01,  -1.40081508e-01,\n",
       "          2.30068953e-01,   2.28155643e-01,   2.00147773e-03],\n",
       "       [  1.22022872e-02,   3.82825508e-03,  -1.08795241e-02,\n",
       "         -1.47739501e-03,   1.11741902e-02,   6.88527351e-03,\n",
       "          6.89436436e-03,   1.22000145e-02,   9.95365551e-03,\n",
       "         -1.63935208e-02,  -5.16399884e-03,   4.03432902e-03,\n",
       "         -9.25138698e-03,   5.58344563e-04,  -1.88391356e-02,\n",
       "          9.74985428e-03,  -3.12371384e-03,   2.18875439e-03,\n",
       "         -2.09107141e-03,   6.69283585e-03,   4.43965876e-03,\n",
       "         -5.97465833e-03,   2.60090228e-03,  -1.27228260e-02,\n",
       "          1.52593056e-02,  -1.10878708e-02,   6.28296068e-03,\n",
       "         -1.04741944e-02,  -8.63771058e-03,   1.17202096e-03],\n",
       "       [  5.14041215e-05,   2.31757550e-04,   2.20580460e-04,\n",
       "          1.06077163e-03,  -9.69140475e-04,  -8.43134041e-04,\n",
       "          5.35707752e-04,  -2.93306327e-04,  -1.94473390e-04,\n",
       "          4.31833082e-04,  -4.07042049e-04,   5.04808558e-04,\n",
       "         -6.97405503e-04,  -5.33213594e-07,   1.29174635e-03,\n",
       "         -1.22813951e-04,  -7.78925995e-04,  -5.73808729e-04,\n",
       "          9.31039498e-04,   9.52077640e-04,   1.67792314e-05,\n",
       "          5.69016605e-04,  -2.77067108e-05,  -5.13326379e-04,\n",
       "         -1.02348747e-03,  -3.97180997e-04,   7.50686070e-04,\n",
       "         -2.67448867e-04,  -5.67673373e-04,   1.29198917e-04]])"
      ]
     },
     "execution_count": 4,
     "metadata": {},
     "output_type": "execute_result"
    }
   ],
   "source": [
    "income_data['x0'] = 1 \n",
    "X = income_data[['x0','Education', 'Seniority']]\n",
    "X_pseudoinv = np.linalg.pinv(X.values)\n",
    "X_pseudoinv"
   ]
  },
  {
   "cell_type": "code",
   "execution_count": 32,
   "metadata": {},
   "outputs": [
    {
     "data": {
      "text/plain": [
       "array([[ -1.71440766e-01,  -5.11504895e-02,   1.90903328e-01,\n",
       "         -4.20239861e-02,  -5.88037286e-02,  -3.51877434e-04,\n",
       "         -1.29921786e-01,  -1.39048289e-01,  -1.11515650e-01,\n",
       "          2.61428211e-01,   1.56157496e-01,  -8.01563924e-02,\n",
       "          2.50388398e-01,   2.42342323e-02,   2.20789321e-01,\n",
       "         -1.14902225e-01,   1.57630760e-01,   5.13268255e-02,\n",
       "         -1.97912315e-02,  -1.65700837e-01,  -4.09907671e-02,\n",
       "          7.78262450e-02,  -6.68498032e-03,   2.89994069e-01,\n",
       "         -1.20642154e-01,   2.52301708e-01,  -1.40081508e-01,\n",
       "          2.30068953e-01,   2.28155643e-01,   2.00147773e-03],\n",
       "       [  1.22022872e-02,   3.82825508e-03,  -1.08795241e-02,\n",
       "         -1.47739501e-03,   1.11741902e-02,   6.88527351e-03,\n",
       "          6.89436436e-03,   1.22000145e-02,   9.95365551e-03,\n",
       "         -1.63935208e-02,  -5.16399884e-03,   4.03432902e-03,\n",
       "         -9.25138698e-03,   5.58344563e-04,  -1.88391356e-02,\n",
       "          9.74985428e-03,  -3.12371384e-03,   2.18875439e-03,\n",
       "         -2.09107141e-03,   6.69283585e-03,   4.43965876e-03,\n",
       "         -5.97465833e-03,   2.60090228e-03,  -1.27228260e-02,\n",
       "          1.52593056e-02,  -1.10878708e-02,   6.28296068e-03,\n",
       "         -1.04741944e-02,  -8.63771058e-03,   1.17202096e-03],\n",
       "       [  5.14041215e-05,   2.31757550e-04,   2.20580460e-04,\n",
       "          1.06077163e-03,  -9.69140475e-04,  -8.43134041e-04,\n",
       "          5.35707752e-04,  -2.93306327e-04,  -1.94473390e-04,\n",
       "          4.31833082e-04,  -4.07042049e-04,   5.04808558e-04,\n",
       "         -6.97405503e-04,  -5.33213594e-07,   1.29174635e-03,\n",
       "         -1.22813951e-04,  -7.78925995e-04,  -5.73808729e-04,\n",
       "          9.31039498e-04,   9.52077640e-04,   1.67792314e-05,\n",
       "          5.69016605e-04,  -2.77067108e-05,  -5.13326379e-04,\n",
       "         -1.02348747e-03,  -3.97180997e-04,   7.50686070e-04,\n",
       "         -2.67448867e-04,  -5.67673373e-04,   1.29198917e-04]])"
      ]
     },
     "execution_count": 32,
     "metadata": {},
     "output_type": "execute_result"
    }
   ],
   "source": [
    "#pseudo inverse\n",
    "np.linalg.inv((X.T @ X)) @ X.T\n",
    "#np.dot(np.linalg.inv(np.dot(X.T, X)), X.T)"
   ]
  },
  {
   "cell_type": "code",
   "execution_count": 36,
   "metadata": {},
   "outputs": [
    {
     "data": {
      "text/plain": [
       "array([-50.08563875,   5.89555596,   0.17285547])"
      ]
     },
     "execution_count": 36,
     "metadata": {},
     "output_type": "execute_result"
    }
   ],
   "source": [
    "w = np.dot(X_pseudoinv, income_data['Income'].values)\n",
    "w"
   ]
  },
  {
   "cell_type": "code",
   "execution_count": 38,
   "metadata": {
    "collapsed": true
   },
   "outputs": [],
   "source": [
    "income_data['guess'] = np.dot(X,w)"
   ]
  },
  {
   "cell_type": "code",
   "execution_count": 42,
   "metadata": {},
   "outputs": [
    {
     "data": {
      "text/plain": [
       "46.482940957746543"
      ]
     },
     "execution_count": 42,
     "metadata": {},
     "output_type": "execute_result"
    }
   ],
   "source": [
    "RMS = (np.dot(X,w)-income_data['Income'].values)\n",
    "np.dot(RMS.T, RMS)/len(income_data)"
   ]
  },
  {
   "cell_type": "code",
   "execution_count": 39,
   "metadata": {},
   "outputs": [
    {
     "data": {
      "text/html": [
       "<div>\n",
       "<table border=\"1\" class=\"dataframe\">\n",
       "  <thead>\n",
       "    <tr style=\"text-align: right;\">\n",
       "      <th></th>\n",
       "      <th>Education</th>\n",
       "      <th>Seniority</th>\n",
       "      <th>Income</th>\n",
       "      <th>x0</th>\n",
       "      <th>guess</th>\n",
       "    </tr>\n",
       "  </thead>\n",
       "  <tbody>\n",
       "    <tr>\n",
       "      <th>1</th>\n",
       "      <td>21.586207</td>\n",
       "      <td>113.103448</td>\n",
       "      <td>99.917173</td>\n",
       "      <td>1</td>\n",
       "      <td>96.727602</td>\n",
       "    </tr>\n",
       "    <tr>\n",
       "      <th>2</th>\n",
       "      <td>18.275862</td>\n",
       "      <td>119.310345</td>\n",
       "      <td>92.579135</td>\n",
       "      <td>1</td>\n",
       "      <td>78.284174</td>\n",
       "    </tr>\n",
       "    <tr>\n",
       "      <th>3</th>\n",
       "      <td>12.068966</td>\n",
       "      <td>100.689655</td>\n",
       "      <td>34.678727</td>\n",
       "      <td>1</td>\n",
       "      <td>38.472380</td>\n",
       "    </tr>\n",
       "    <tr>\n",
       "      <th>4</th>\n",
       "      <td>17.034483</td>\n",
       "      <td>187.586207</td>\n",
       "      <td>78.702806</td>\n",
       "      <td>1</td>\n",
       "      <td>82.767409</td>\n",
       "    </tr>\n",
       "    <tr>\n",
       "      <th>5</th>\n",
       "      <td>19.931034</td>\n",
       "      <td>20.000000</td>\n",
       "      <td>68.009922</td>\n",
       "      <td>1</td>\n",
       "      <td>70.876000</td>\n",
       "    </tr>\n",
       "    <tr>\n",
       "      <th>6</th>\n",
       "      <td>18.275862</td>\n",
       "      <td>26.206897</td>\n",
       "      <td>71.504485</td>\n",
       "      <td>1</td>\n",
       "      <td>62.190734</td>\n",
       "    </tr>\n",
       "    <tr>\n",
       "      <th>7</th>\n",
       "      <td>19.931034</td>\n",
       "      <td>150.344828</td>\n",
       "      <td>87.970467</td>\n",
       "      <td>1</td>\n",
       "      <td>93.406816</td>\n",
       "    </tr>\n",
       "    <tr>\n",
       "      <th>8</th>\n",
       "      <td>21.172414</td>\n",
       "      <td>82.068966</td>\n",
       "      <td>79.811030</td>\n",
       "      <td>1</td>\n",
       "      <td>88.923581</td>\n",
       "    </tr>\n",
       "    <tr>\n",
       "      <th>9</th>\n",
       "      <td>20.344828</td>\n",
       "      <td>88.275862</td>\n",
       "      <td>90.006327</td>\n",
       "      <td>1</td>\n",
       "      <td>85.117396</td>\n",
       "    </tr>\n",
       "    <tr>\n",
       "      <th>10</th>\n",
       "      <td>10.000000</td>\n",
       "      <td>113.103448</td>\n",
       "      <td>45.655529</td>\n",
       "      <td>1</td>\n",
       "      <td>28.420470</td>\n",
       "    </tr>\n",
       "    <tr>\n",
       "      <th>11</th>\n",
       "      <td>13.724138</td>\n",
       "      <td>51.034483</td>\n",
       "      <td>31.913808</td>\n",
       "      <td>1</td>\n",
       "      <td>39.647374</td>\n",
       "    </tr>\n",
       "    <tr>\n",
       "      <th>12</th>\n",
       "      <td>18.689655</td>\n",
       "      <td>144.137931</td>\n",
       "      <td>96.282997</td>\n",
       "      <td>1</td>\n",
       "      <td>85.015299</td>\n",
       "    </tr>\n",
       "    <tr>\n",
       "      <th>13</th>\n",
       "      <td>11.655172</td>\n",
       "      <td>20.000000</td>\n",
       "      <td>27.982505</td>\n",
       "      <td>1</td>\n",
       "      <td>22.085192</td>\n",
       "    </tr>\n",
       "    <tr>\n",
       "      <th>14</th>\n",
       "      <td>16.620690</td>\n",
       "      <td>94.482759</td>\n",
       "      <td>66.601792</td>\n",
       "      <td>1</td>\n",
       "      <td>64.234429</td>\n",
       "    </tr>\n",
       "    <tr>\n",
       "      <th>15</th>\n",
       "      <td>10.000000</td>\n",
       "      <td>187.586207</td>\n",
       "      <td>41.531992</td>\n",
       "      <td>1</td>\n",
       "      <td>41.295223</td>\n",
       "    </tr>\n",
       "    <tr>\n",
       "      <th>16</th>\n",
       "      <td>20.344828</td>\n",
       "      <td>94.482759</td>\n",
       "      <td>89.000701</td>\n",
       "      <td>1</td>\n",
       "      <td>86.190292</td>\n",
       "    </tr>\n",
       "    <tr>\n",
       "      <th>17</th>\n",
       "      <td>14.137931</td>\n",
       "      <td>20.000000</td>\n",
       "      <td>28.816301</td>\n",
       "      <td>1</td>\n",
       "      <td>36.722434</td>\n",
       "    </tr>\n",
       "    <tr>\n",
       "      <th>18</th>\n",
       "      <td>16.620690</td>\n",
       "      <td>44.827586</td>\n",
       "      <td>57.681694</td>\n",
       "      <td>1</td>\n",
       "      <td>55.651261</td>\n",
       "    </tr>\n",
       "    <tr>\n",
       "      <th>19</th>\n",
       "      <td>16.620690</td>\n",
       "      <td>175.172414</td>\n",
       "      <td>70.105096</td>\n",
       "      <td>1</td>\n",
       "      <td>78.182077</td>\n",
       "    </tr>\n",
       "    <tr>\n",
       "      <th>20</th>\n",
       "      <td>20.344828</td>\n",
       "      <td>187.586207</td>\n",
       "      <td>98.834012</td>\n",
       "      <td>1</td>\n",
       "      <td>102.283733</td>\n",
       "    </tr>\n",
       "    <tr>\n",
       "      <th>21</th>\n",
       "      <td>18.275862</td>\n",
       "      <td>100.689655</td>\n",
       "      <td>74.704699</td>\n",
       "      <td>1</td>\n",
       "      <td>75.065486</td>\n",
       "    </tr>\n",
       "    <tr>\n",
       "      <th>22</th>\n",
       "      <td>14.551724</td>\n",
       "      <td>137.931034</td>\n",
       "      <td>53.532106</td>\n",
       "      <td>1</td>\n",
       "      <td>59.546999</td>\n",
       "    </tr>\n",
       "    <tr>\n",
       "      <th>23</th>\n",
       "      <td>17.448276</td>\n",
       "      <td>94.482759</td>\n",
       "      <td>72.078924</td>\n",
       "      <td>1</td>\n",
       "      <td>69.113510</td>\n",
       "    </tr>\n",
       "    <tr>\n",
       "      <th>24</th>\n",
       "      <td>10.413793</td>\n",
       "      <td>32.413793</td>\n",
       "      <td>18.570665</td>\n",
       "      <td>1</td>\n",
       "      <td>16.912363</td>\n",
       "    </tr>\n",
       "    <tr>\n",
       "      <th>25</th>\n",
       "      <td>21.586207</td>\n",
       "      <td>20.000000</td>\n",
       "      <td>78.805784</td>\n",
       "      <td>1</td>\n",
       "      <td>80.634161</td>\n",
       "    </tr>\n",
       "    <tr>\n",
       "      <th>26</th>\n",
       "      <td>11.241379</td>\n",
       "      <td>44.827586</td>\n",
       "      <td>21.388561</td>\n",
       "      <td>1</td>\n",
       "      <td>23.937236</td>\n",
       "    </tr>\n",
       "    <tr>\n",
       "      <th>27</th>\n",
       "      <td>19.931034</td>\n",
       "      <td>168.965517</td>\n",
       "      <td>90.814035</td>\n",
       "      <td>1</td>\n",
       "      <td>96.625504</td>\n",
       "    </tr>\n",
       "    <tr>\n",
       "      <th>28</th>\n",
       "      <td>11.655172</td>\n",
       "      <td>57.241379</td>\n",
       "      <td>22.636163</td>\n",
       "      <td>1</td>\n",
       "      <td>28.522568</td>\n",
       "    </tr>\n",
       "    <tr>\n",
       "      <th>29</th>\n",
       "      <td>12.068966</td>\n",
       "      <td>32.413793</td>\n",
       "      <td>17.613593</td>\n",
       "      <td>1</td>\n",
       "      <td>26.670524</td>\n",
       "    </tr>\n",
       "    <tr>\n",
       "      <th>30</th>\n",
       "      <td>17.034483</td>\n",
       "      <td>106.896552</td>\n",
       "      <td>74.610960</td>\n",
       "      <td>1</td>\n",
       "      <td>68.819761</td>\n",
       "    </tr>\n",
       "  </tbody>\n",
       "</table>\n",
       "</div>"
      ],
      "text/plain": [
       "    Education   Seniority     Income  x0       guess\n",
       "1   21.586207  113.103448  99.917173   1   96.727602\n",
       "2   18.275862  119.310345  92.579135   1   78.284174\n",
       "3   12.068966  100.689655  34.678727   1   38.472380\n",
       "4   17.034483  187.586207  78.702806   1   82.767409\n",
       "5   19.931034   20.000000  68.009922   1   70.876000\n",
       "6   18.275862   26.206897  71.504485   1   62.190734\n",
       "7   19.931034  150.344828  87.970467   1   93.406816\n",
       "8   21.172414   82.068966  79.811030   1   88.923581\n",
       "9   20.344828   88.275862  90.006327   1   85.117396\n",
       "10  10.000000  113.103448  45.655529   1   28.420470\n",
       "11  13.724138   51.034483  31.913808   1   39.647374\n",
       "12  18.689655  144.137931  96.282997   1   85.015299\n",
       "13  11.655172   20.000000  27.982505   1   22.085192\n",
       "14  16.620690   94.482759  66.601792   1   64.234429\n",
       "15  10.000000  187.586207  41.531992   1   41.295223\n",
       "16  20.344828   94.482759  89.000701   1   86.190292\n",
       "17  14.137931   20.000000  28.816301   1   36.722434\n",
       "18  16.620690   44.827586  57.681694   1   55.651261\n",
       "19  16.620690  175.172414  70.105096   1   78.182077\n",
       "20  20.344828  187.586207  98.834012   1  102.283733\n",
       "21  18.275862  100.689655  74.704699   1   75.065486\n",
       "22  14.551724  137.931034  53.532106   1   59.546999\n",
       "23  17.448276   94.482759  72.078924   1   69.113510\n",
       "24  10.413793   32.413793  18.570665   1   16.912363\n",
       "25  21.586207   20.000000  78.805784   1   80.634161\n",
       "26  11.241379   44.827586  21.388561   1   23.937236\n",
       "27  19.931034  168.965517  90.814035   1   96.625504\n",
       "28  11.655172   57.241379  22.636163   1   28.522568\n",
       "29  12.068966   32.413793  17.613593   1   26.670524\n",
       "30  17.034483  106.896552  74.610960   1   68.819761"
      ]
     },
     "execution_count": 39,
     "metadata": {},
     "output_type": "execute_result"
    }
   ],
   "source": [
    "income_data"
   ]
  },
  {
   "cell_type": "markdown",
   "metadata": {},
   "source": [
    "# Grafica el resultado del modelo comparando contra los datos"
   ]
  },
  {
   "cell_type": "code",
   "execution_count": 89,
   "metadata": {},
   "outputs": [
    {
     "name": "stdout",
     "output_type": "stream",
     "text": [
      "(380, 250)\n"
     ]
    }
   ],
   "source": [
    "Xc = np.arange(0, 25, 0.1)\n",
    "Yc = np.arange(10,200, 0.5)\n",
    "C = np.ndarray((len(Yc),len(Xc)))\n",
    "print(C.shape)\n",
    "for i, x in enumerate(Xc):\n",
    "    for j, y in enumerate(Yc):\n",
    "        C[j, i] = w[0] + w[1]*x + w[2]*y"
   ]
  },
  {
   "cell_type": "code",
   "execution_count": 91,
   "metadata": {},
   "outputs": [
    {
     "data": {
      "text/plain": [
       "<matplotlib.axes._subplots.AxesSubplot at 0x7f1bbb15c2e8>"
      ]
     },
     "execution_count": 91,
     "metadata": {},
     "output_type": "execute_result"
    },
    {
     "data": {
      "image/png": "[encoded data removed]",
      "text/plain": [
       "<matplotlib.figure.Figure at 0x7f1bbb15ce80>"
      ]
     },
     "metadata": {},
     "output_type": "display_data"
    }
   ],
   "source": [
    "fig = plt.figure(figsize=(6,6))\n",
    "ax = fig.add_subplot(111)\n",
    "ax.pcolor(Xc, Yc, C)\n",
    "income_data.plot.scatter('Education', 'Seniority', s=income_data.Income, c='red', ax=ax)"
   ]
  },
  {
   "cell_type": "code",
   "execution_count": null,
   "metadata": {
    "collapsed": true
   },
   "outputs": [],
   "source": []
  }
 ],
 "metadata": {
  "kernelspec": {
   "display_name": "Python 3",
   "language": "python",
   "name": "python3"
  },
  "language_info": {
   "codemirror_mode": {
    "name": "ipython",
    "version": 3
   },
   "file_extension": ".py",
   "mimetype": "text/x-python",
   "name": "python",
   "nbconvert_exporter": "python",
   "pygments_lexer": "ipython3",
   "version": "3.6.3"
  }
 },
 "nbformat": 4,
 "nbformat_minor": 2
}
