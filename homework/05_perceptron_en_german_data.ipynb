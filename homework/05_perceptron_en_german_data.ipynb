{
 "cells": [
  {
   "cell_type": "markdown",
   "metadata": {},
   "source": [
    "Intente aplicar el algoritmo del perceptrón a los datos de prestamos Alemánes.\n",
    "Transforme las columnas de datos categoricos en una columna para cada categoría. Por ejémplo, `genero` => `genero_hombre`, `genero_mujer` donde `genero_hombre` es `1` si es hombre y `0` de lo contrario. Puede utilizar la funcion `get_dummies` de pandas (`pd.get_dummies(dataset)`)"
   ]
  },
  {
   "cell_type": "code",
   "execution_count": 72,
   "metadata": {
    "collapsed": true
   },
   "outputs": [],
   "source": [
    "attribute_desc = {\n",
    "# Status of existing checking account\n",
    "'A11': \"... <    0 DM\",\n",
    "'A12': '0 <= ... <  200 DM',\n",
    "'A13': '     ... >= 200 DM',\n",
    "'A14': 'no checking account',\n",
    "# Duration in month\n",
    "# Credit history\n",
    "'A30': 'no credits taken',\n",
    "'A31': 'all credits at this bank paid back duly',\n",
    "'A32': 'existing credits paid back duly till now',\n",
    "'A33': 'delay in paying off in the past',\n",
    "'A34': 'critical account',\n",
    "# Purpose\n",
    "'A40': 'car (new)',\n",
    "'A41': 'car (used)',\n",
    "'A42': 'furniture/equipment',\n",
    "'A43': 'radio/television',\n",
    "'A44': 'domestic appliances',\n",
    "'A45': 'repairs',\n",
    "'A46': 'education',\n",
    "'A47': 'vacation',\n",
    "'A48': 'retraining',\n",
    "'A49': 'business',\n",
    "'A410': 'others',\n",
    "# Credit amount\n",
    "# Savings account/bonds\n",
    "'A61':   '       ... <  100 DM',\n",
    "'A62':   '100 <= ... <  500 DM',\n",
    "'A63':   '500 <= ... < 1000 DM',\n",
    "'A64':   '       .. >= 1000 DM',\n",
    "'A65':   'unknown/ no savings account',\n",
    "#Present employment since\n",
    "'A71' : 'unemployed',\n",
    "'A72' :  '... < 1 year',\n",
    "'A73' : '1  <= ... < 4 years',\n",
    "'A74' : '4  <= ... < 7 years',\n",
    "'A75' : '.. >= 7 years',\n",
    "# Installment rate in percentage of disposable income\n",
    "# Personal status and sex\n",
    "'A91' : 'male   : divorced/separated',\n",
    "'A92' : 'female : divorced/separated/married',\n",
    "'A93' : 'male   : single',\n",
    "'A94' : 'male   : married/widowed',\n",
    "'A95' : 'female : single',\n",
    "#Other debtors / guarantors\n",
    "'A101' : 'none',\n",
    "'A102' : 'co-applicant',\n",
    "'A103' : 'guarantor',\n",
    "#Present residence since\n",
    "#Property\n",
    "'A121' : 'real estate',\n",
    "'A122' : 'if not A121 : building society savings agreement/life insurance',\n",
    "'A123' : 'if not A121/A122 : car or other, not in attribute 6',\n",
    "'A124' : 'unknown / no property',\n",
    "# Age in years\n",
    "# Other installment plans \n",
    "'A141' : 'bank',\n",
    "'A142' : 'stores',\n",
    "'A143' : 'none',\n",
    "# Housing\n",
    "'A151' : 'rent',\n",
    "'A152' : 'own',\n",
    "'A153' : 'for free',\n",
    "# Number of existing credits at this bank\n",
    "# Job\n",
    "'A171': 'unemployed/ unskilled - non-resident',\n",
    "'A172': 'unskilled - resident',\n",
    "'A173': 'skilled employee / official',\n",
    "'A174': 'management/self-employed/highly qualified employee/officer',\n",
    "# Number of people being liable to provide maintenance for\n",
    "# Telephone\n",
    "'A191': 'none',\n",
    "'A192': 'yes, registered under the customers name',\n",
    "# Foreign worker\n",
    "'A201': 'yes',\n",
    "'A202': 'no',\n",
    "}\n",
    "\n",
    "column_name = ['checking', 'duration_', 'history', 'purpose', 'amount_', 'savings',\n",
    "               'employment', 'installment_', 'personal', 'guarantors', 'recidence_', \n",
    "               'property', 'age_', 'other', 'housing', 'credits_',\n",
    "               'job', 'liable_', 'telephone', 'foreign', 'is_good']"
   ]
  },
  {
   "cell_type": "code",
   "execution_count": 98,
   "metadata": {},
   "outputs": [
    {
     "name": "stdout",
     "output_type": "stream",
     "text": [
      "268\n"
     ]
    }
   ],
   "source": [
    "import pandas as pd\n",
    "import os\n",
    "import numpy as np\n",
    "%matplotlib inline\n",
    "import matplotlib.pyplot as plt\n",
    "#\"/media/ibu/SHARED/repos/Credit/data/german.data\"\n",
    "gdata=pd.read_csv(\"/media/ibu/SHARED/repos/Credit/data/german.data\", sep=\" \",header = None)\n",
    "gdata.columns = column_name;\n",
    "##os.getcwd()\n",
    "gdata=pd.get_dummies(gdata);\n",
    "gdata.loc[:,gdata.columns.map(lambda x: x.startswith('hist')).values]\n",
    "W = np.random.randn(gdata.shape[1]);\n",
    "gdata['X0'] = 1\n",
    "gucci=gdata[\"is_good\"]\n",
    "gdata=gdata.drop(\"is_good\", axis=1)\n",
    "\n",
    "def fitness(observation,W,eval_):\n",
    "     return eval_(observation.dot(W))     \n",
    "    \n",
    "def update(Yc,W):\n",
    "    W += (-1 if Yc > 0 else 1) * W\n",
    "    return W\n",
    "\n",
    "#Yc = gdata.apply( lambda row:fitness(row,W,lambda y: 2 if y > 0 else 1), axis=1) #guess\n",
    "i = 0\n",
    "error = []\n",
    "\n",
    "while i < 1000 :\n",
    "    Yc = gdata.apply( lambda row:fitness(row,W,lambda y: 2 if y > 0 else 1), axis=1) #guess\n",
    "    if not len(Yc) == 0:        \n",
    "        W = update(fitness(gdata[Yc != gucci].iloc[0],W,lambda y: 2 if y > 0 else 1), W)\n",
    "        #print(len(gdata[Yc != gucci]))    \n",
    "    else: break    \n",
    "    error.append(len(gdata[Yc != gucci])/len(gdata))\n",
    "    i +=1 \n",
    "print(len(gdata[Yc != gucci]))"
   ]
  },
  {
   "cell_type": "markdown",
   "metadata": {},
   "source": [
    "¿Funcionó? ¿Qué ocurrio?"
   ]
  },
  {
   "cell_type": "code",
   "execution_count": 111,
   "metadata": {},
   "outputs": [
    {
     "name": "stdout",
     "output_type": "stream",
     "text": [
      "268\n",
      "268\n"
     ]
    }
   ],
   "source": [
    "print(len(gucci[Yc != gucci]))\n",
    "print(len(grupo_residual_mal_clasificado[grupo_residual_mal_clasificado == 2]))"
   ]
  },
  {
   "cell_type": "markdown",
   "metadata": {},
   "source": [
    "Al parecer el modelo no puede separar correctamente algunos 2 que deben ser 1.\n",
    "Estos datos no son linealmente separables."
   ]
  },
  {
   "cell_type": "markdown",
   "metadata": {},
   "source": [
    "Grafique el error en la muestra para cada paso del entrenamiento durante los primeros 1000 pasos."
   ]
  },
  {
   "cell_type": "code",
   "execution_count": 112,
   "metadata": {},
   "outputs": [
    {
     "data": {
      "image/png": "[encoded data removed]",
      "text/plain": [
       "<matplotlib.figure.Figure at 0x7f80aaf415c0>"
      ]
     },
     "metadata": {},
     "output_type": "display_data"
    }
   ],
   "source": [
    "plt.plot(error)\n",
    "plt.show()"
   ]
  }
 ],
 "metadata": {
  "kernelspec": {
   "display_name": "Python 3",
   "language": "python",
   "name": "python3"
  },
  "language_info": {
   "codemirror_mode": {
    "name": "ipython",
    "version": 3
   },
   "file_extension": ".py",
   "mimetype": "text/x-python",
   "name": "python",
   "nbconvert_exporter": "python",
   "pygments_lexer": "ipython3",
   "version": "3.6.3"
  }
 },
 "nbformat": 4,
 "nbformat_minor": 2
}
