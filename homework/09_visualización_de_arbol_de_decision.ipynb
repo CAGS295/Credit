{
 "cells": [
  {
   "cell_type": "markdown",
   "metadata": {},
   "source": [
    "# Árboles de decisión"
   ]
  },
  {
   "cell_type": "markdown",
   "metadata": {},
   "source": [
    "Crearemos un arbol de decisión para predecil el salario `log(Salary)` de un jugador de béisbol, basado en el numero de años que lleva jugando en las grandes ligas `Years`, y el numero de batazos de hit `Hits` que hizo en el año anterior."
   ]
  },
  {
   "cell_type": "code",
   "execution_count": 1,
   "metadata": {},
   "outputs": [],
   "source": [
    "%matplotlib inline\n",
    "import pandas as pd\n",
    "import numpy as np\n",
    "import matplotlib.pyplot as plt"
   ]
  },
  {
   "cell_type": "markdown",
   "metadata": {},
   "source": [
    "Leemos los datos:"
   ]
  },
  {
   "cell_type": "code",
   "execution_count": 2,
   "metadata": {},
   "outputs": [],
   "source": [
    "hitters = pd.read_csv('../data/hitters.csv').dropna()\n",
    "hitters['LogSalary'] = np.log(hitters.Salary)\n",
    "hitters = hitters[['Years', 'Hits', 'LogSalary']]"
   ]
  },
  {
   "cell_type": "markdown",
   "metadata": {},
   "source": [
    "### Recursive Binary Splitting\n",
    "1.- Select the predictor $X_j$ and the cut point $s$ such that splitting the predictor space into regions $R_1(j,s) = \\{X|X_j < s\\}$ and $R_2 =(j,s) = \\{X|X_j \\geqslant s\\}$ that leads to the greatest posible reduction in RSS.\n",
    "\n",
    "$$\\sum_{i: x_i\\in R_1(j,s)} (y_i - \\hat y_{R_1})^2 + \\sum_{i: x_i\\in R_2(j,s)} (y_i - \\hat y_{R_2})^2 $$"
   ]
  },
  {
   "cell_type": "code",
   "execution_count": 3,
   "metadata": {},
   "outputs": [],
   "source": [
    "# Un árbol esta definido por la siguiente estructura\n",
    "# {'left': None, 'right': None, 'df': df, 'rss': 0}\n",
    "\n",
    "def _residual_squared_sum(df, y):\n",
    "    \"\"\"\n",
    "    Calculate the residual squared sum in R, using the target y.\n",
    "    \"\"\"\n",
    "    yhat = df[y].mean()\n",
    "    r = df[y] - yhat\n",
    "    return r.values @ r.values , yhat\n",
    "\n",
    "# _residual_squared_sum(hitters, 'LogSalary')"
   ]
  },
  {
   "cell_type": "markdown",
   "metadata": {},
   "source": [
    "2.- We repeat the process, looking for the best predictor and best cutpoint in order to split the data further so as to minimize the RSS within each of the resulting regions. However, this time, instead of splitting the entire predictor space, we split one of the two previously identified regions. We now have three regions. Again, we look to split one of these three regions further, so as to minimize the RSS. The process continues until a stopping criterion is reached; for instance, we may continue until no region contains more than five observations."
   ]
  },
  {
   "cell_type": "code",
   "execution_count": 4,
   "metadata": {
    "scrolled": false
   },
   "outputs": [],
   "source": [
    "def _binary_splitting(df, y, x_j):\n",
    "    \"\"\"\n",
    "    Find the best split using the predictor x_j. \n",
    "    \"\"\"\n",
    "    cut_values = sorted(set(df[x_j]))\n",
    "    min_s = None\n",
    "    min_rss, _ = _residual_squared_sum(df, y)\n",
    "    for i in range(len(cut_values) - 1):\n",
    "        s = (cut_values[i] + cut_values[i+1]) / 2    \n",
    "        left_rss, _ = _residual_squared_sum(df[df[x_j] < s ] , y)\n",
    "        right_rss, _ = _residual_squared_sum(df[df[x_j] >= s] , y)\n",
    "        rss = left_rss + right_rss        \n",
    "        if rss < min_rss:\n",
    "            min_s = s\n",
    "            min_rss = rss    \n",
    "    return {\n",
    "        'rss': min_rss,\n",
    "        's': min_s,\n",
    "        'x_j': x_j,\n",
    "        'left_df': df[df[x_j] < min_s ],\n",
    "        'right_df': df[df[x_j] >= min_s]\n",
    "    }\n",
    "    \n",
    "#_binary_splitting(hitters, 'LogSalary', 'Years')"
   ]
  },
  {
   "cell_type": "code",
   "execution_count": 5,
   "metadata": {
    "collapsed": true
   },
   "outputs": [],
   "source": [
    "def _recursive_binary_splitting(df, y, predictors):\n",
    "    \"\"\"\n",
    "    Select the best variable to reduce the\n",
    "    residual square sum from predictors.\n",
    "    \"\"\"\n",
    "    assert(len(predictors) > 0) # You should have at least one predictor\n",
    "    min_split = _binary_splitting(df, y, predictors[0])\n",
    "    min_rss = min_split['rss']\n",
    "    for x_j in predictors[1:]:\n",
    "        split = _binary_splitting(df, y, x_j)\n",
    "        if split['rss'] < min_rss:\n",
    "            min_split = split     \n",
    "    return {\n",
    "        'rss': min_split['rss'],\n",
    "        's': min_split['s'],\n",
    "        'x_j': min_split['x_j'],\n",
    "        'left_df': min_split['left_df'],\n",
    "        'right_df': min_split['right_df']\n",
    "    }\n",
    "#_recursive_binary_splitting(hitters, 'LogSalary', ['Years', 'Hits'])"
   ]
  },
  {
   "cell_type": "code",
   "execution_count": 6,
   "metadata": {
    "scrolled": true
   },
   "outputs": [],
   "source": [
    "def _make_tree(df, y):\n",
    "    rss, yhat = _residual_squared_sum(df, y)\n",
    "    return {'left': None, 'right':None, \n",
    "            'rss': rss,\n",
    "            'yhat': yhat,\n",
    "            'df': df,\n",
    "            'y': y}\n",
    "\n",
    "def _grow_tree(tree, predictors, min_points_per_leaf=5):\n",
    "    \"\"\"\n",
    "    Recursively divide tree using the split that\n",
    "    minimize rss. It stops when the region have\n",
    "    less than 5 elements.\n",
    "    \"\"\"\n",
    "    if len(tree['df']) <= min_points_per_leaf:\n",
    "        return tree\n",
    "    \n",
    "    split = _recursive_binary_splitting(tree['df'], tree['y'], predictors)\n",
    "    left_tree = _make_tree(split['left_df'], tree['y'])\n",
    "    right_tree = _make_tree(split['right_df'], tree['y'])\n",
    "\n",
    "    _grow_tree(left_tree, predictors, min_points_per_leaf)\n",
    "    _grow_tree(right_tree, predictors, min_points_per_leaf)\n",
    "    \n",
    "    tree['left'] = left_tree\n",
    "    tree['right'] = right_tree\n",
    "    tree['x_j'] = split['x_j']\n",
    "    tree['s'] = split['s']    \n",
    "    #return tree\n",
    "hitters_tree = _make_tree(hitters, 'LogSalary')\n",
    "_grow_tree(hitters_tree, ['Years', 'Hits'], 20)"
   ]
  },
  {
   "cell_type": "markdown",
   "metadata": {},
   "source": [
    "3.- Once the regions $R_1,...,R_J$ have been created,we predict the response for a given test observation using the mean of the training observations in the region to which that test observation belongs."
   ]
  },
  {
   "cell_type": "code",
   "execution_count": 7,
   "metadata": {},
   "outputs": [
    {
     "data": {
      "text/plain": [
       "6.215442058018243"
      ]
     },
     "execution_count": 7,
     "metadata": {},
     "output_type": "execute_result"
    }
   ],
   "source": [
    "def _is_leaf(tree):\n",
    "    \"\"\"\n",
    "    Return if a given tree is a leaf.\n",
    "    \"\"\"\n",
    "    return not tree['left'] and not tree['right']\n",
    "\n",
    "def _evaluate(tree, event):\n",
    "    if _is_leaf(tree):\n",
    "        return tree['yhat']\n",
    "    if event[tree['x_j']] < tree['s']:\n",
    "        return _evaluate(tree['left'], event)\n",
    "    else:\n",
    "        return _evaluate(tree['right'], event)\n",
    "\n",
    "_evaluate(hitters_tree, hitters.iloc[0])"
   ]
  },
  {
   "cell_type": "markdown",
   "metadata": {},
   "source": [
    "## Tree Pruning\n",
    "Cost complexity:\n",
    "\n",
    "For each value of $\\alpha$ there corresponds a subtree $T \\subset T_0$ such that\n",
    "\n",
    "$$\\sum_{m=1}^T \\sum_{i: x_i \\in R_m} (y_i - \\hat y_{R_m})^2 + \\alpha |T|$$\n",
    "\n",
    "is as small as possible. $|T|$ indicates the number of terminal nodes of the tree $T$, $R_m$ is the rectangle (i.e. the subset of predictor space) corresponding to the $m$th terminal node, and $\\hat y_{R_m}$ is the predicted response associated with $R_m$. \n"
   ]
  },
  {
   "cell_type": "markdown",
   "metadata": {},
   "source": [
    "1.- Calculate the total rss of a tree."
   ]
  },
  {
   "cell_type": "code",
   "execution_count": 8,
   "metadata": {},
   "outputs": [],
   "source": [
    "def _tree_rss(tree):\n",
    "    \"\"\"\n",
    "    Calculate the total rss of a tree: the sum of the rss of\n",
    "    all leaves.\n",
    "    \"\"\"\n",
    "    if _is_leaf(tree):\n",
    "        return tree['rss']\n",
    "\n",
    "    return _tree_rss(tree['left']) + _tree_rss(tree['right'])\n",
    "# _tree_rss(hitters_tree)"
   ]
  },
  {
   "cell_type": "markdown",
   "metadata": {},
   "source": [
    "2.- Count the number of leaves in the tree."
   ]
  },
  {
   "cell_type": "code",
   "execution_count": 9,
   "metadata": {},
   "outputs": [],
   "source": [
    "def _count_leafs(tree):\n",
    "    \"\"\"\n",
    "    Return the number of leaves in the tree.\n",
    "    \"\"\"\n",
    "    if _is_leaf(tree):\n",
    "        return 1    \n",
    "    return _count_leafs(tree['left']) + _count_leafs(tree['right'])\n",
    "# _count_leafs(hitters_tree)"
   ]
  },
  {
   "cell_type": "markdown",
   "metadata": {},
   "source": [
    "3.- Calculate the cost complexity of the tree."
   ]
  },
  {
   "cell_type": "code",
   "execution_count": 10,
   "metadata": {},
   "outputs": [],
   "source": [
    "def cost_complexity(tree,alpha):\n",
    "#     assert(alpha > 0)\n",
    "    return _tree_rss(tree) + alpha * _count_leafs(tree)\n",
    "#cost_complexity(hitters_tree,5)"
   ]
  },
  {
   "cell_type": "markdown",
   "metadata": {},
   "source": [
    "4.- Find the banch that if removed increase the tree rss the least."
   ]
  },
  {
   "cell_type": "code",
   "execution_count": 11,
   "metadata": {
    "collapsed": true
   },
   "outputs": [],
   "source": [
    "def _is_last_branch(tree):\n",
    "    \"\"\"\n",
    "    Return if a given tree is the last branch, i.e. both \n",
    "    subtrees are leaves.\n",
    "    \"\"\"\n",
    "    return _is_leaf(tree['left']) and _is_leaf(tree['right'])\n",
    "\n",
    "def _find_min_deltarss(tree):\n",
    "    \"\"\"\n",
    "    Find the tree that reduces for which the split reduces\n",
    "    the least the rss.\n",
    "    \"\"\"\n",
    "    if _is_last_branch(tree):\n",
    "        return tree['rss'] - _tree_rss(tree), tree\n",
    "    \n",
    "    is_left_leaf = _is_leaf(tree['left'])\n",
    "    is_right_leaf = _is_leaf(tree['right'])\n",
    "    \n",
    "    if is_left_leaf and not is_right_leaf:\n",
    "        return _find_min_deltarss(tree['right'])\n",
    "    elif not is_left_leaf and is_right_leaf:\n",
    "        return _find_min_deltarss(tree['left'])\n",
    "    \n",
    "    deltarss_left, left_tree_branch = _find_min_deltarss(tree['left'])\n",
    "    deltarss_right, right_tree_branch = _find_min_deltarss(tree['right'])\n",
    "    \n",
    "    if deltarss_left < deltarss_right:\n",
    "        return deltarss_left, left_tree_branch\n",
    "    else:\n",
    "        return deltarss_right, right_tree_branch\n",
    "    #?? inalcanzable\n",
    "    #return min_deltarss, min_tree\n",
    "\n",
    "#_find_min_deltarss(hitters_tree)"
   ]
  },
  {
   "cell_type": "markdown",
   "metadata": {},
   "source": [
    "5.- Remove one by one the `min_deltarss` branch until the tree is a single leaf, while calculating the cost complexity. Return the tree that minimizes the cost complexity."
   ]
  },
  {
   "cell_type": "code",
   "execution_count": 12,
   "metadata": {},
   "outputs": [],
   "source": [
    "from copy import deepcopy\n",
    "\n",
    "def _prune_tree(tree, alpha):\n",
    "    current_tree = deepcopy(tree)\n",
    "    min_cc_tree = deepcopy(current_tree)\n",
    "    min_cc = cost_complexity(min_cc_tree,alpha)\n",
    "#     print('-1-',min_cc)\n",
    "    while not _is_leaf(current_tree):\n",
    "        delta_rss, prune_tree = _find_min_deltarss(current_tree)\n",
    "        prune_tree['left'] = None\n",
    "        prune_tree['right'] = None\n",
    "        cc = cost_complexity(current_tree,alpha)\n",
    "#         print('cc ', cc, 'mincc ', cost_complexity(min_cc_tree,alpha))\n",
    "        if cc < min_cc:\n",
    "            min_cc = cc\n",
    "            min_cc_tree = deepcopy(current_tree)\n",
    "    cc = cost_complexity(current_tree,alpha)\n",
    "#     print('--','current ', cost_complexity(current_tree,alpha), 'min_cc ', cost_complexity(min_cc_tree,alpha))\n",
    "    if cc < min_cc:        \n",
    "        min_cc = cc\n",
    "        min_cc_tree = deepcopy(current_tree)   \n",
    "#     print(cost_complexity(min_cc_tree,alpha))   \n",
    "    return min_cc_tree\n",
    "\n",
    "pruned_hitters = _prune_tree(hitters_tree, 2)"
   ]
  },
  {
   "cell_type": "markdown",
   "metadata": {},
   "source": [
    "# Visualización"
   ]
  },
  {
   "cell_type": "code",
   "execution_count": 13,
   "metadata": {},
   "outputs": [],
   "source": [
    "import graphviz\n",
    "from IPython import display\n",
    "\n",
    "def make_node(g, name, tree):\n",
    "    attributes = {'label': 'rss: {:0.2f}'.format(tree['rss']),\n",
    "                  'shape': 'square'}\n",
    "    if tree.get('yhat'):\n",
    "        attributes['label'] += '\\n yhat: {:0.2f}'.format(tree['yhat'])\n",
    "    g.node(name, **attributes)\n",
    "    \n",
    "def make_edge(g, parent, child, tree, direction):\n",
    "    attributes = {}\n",
    "    if direction == 'l':\n",
    "        attributes['label'] = '{} < {}'.format(tree['x_j'], tree['s'])\n",
    "    if direction == 'r':\n",
    "        attributes['label'] = '{} >= {}'.format(tree['x_j'], tree['s'])\n",
    "    g.edge(parent, child, **attributes)\n",
    "    \n",
    "\n",
    "def construct_tree(g, dna, tree):\n",
    "    if not tree['left'] and not tree['right']:\n",
    "        make_node(g, dna, tree)\n",
    "    else:\n",
    "        make_node(g, dna + 'l', tree['left'])\n",
    "        make_edge(g, dna, dna + 'l', tree, 'l')\n",
    "        construct_tree(g, dna + 'l', tree['left'])\n",
    "\n",
    "        make_node(g, dna + 'r', tree['right'])\n",
    "        make_edge(g, dna, dna + 'r', tree, 'r')\n",
    "        construct_tree(g, dna + 'r', tree['right'])\n",
    "        \n",
    "def visualize_tree(tree):\n",
    "    g = graphviz.Graph('tree', 'tree.dot', engine='dot')\n",
    "    make_node(g, 'r', tree)\n",
    "    construct_tree(g, 'r', tree)\n",
    "    display.display(g)\n"
   ]
  },
  {
   "cell_type": "code",
   "execution_count": 14,
   "metadata": {
    "scrolled": false
   },
   "outputs": [],
   "source": [
    "# visualize_tree(hitters_tree)"
   ]
  },
  {
   "cell_type": "code",
   "execution_count": 15,
   "metadata": {},
   "outputs": [
    {
     "data": {
      "image/svg+xml": [
       "<?xml version=\"1.0\" encoding=\"UTF-8\" standalone=\"no\"?>\n",
       "<!DOCTYPE svg PUBLIC \"-//W3C//DTD SVG 1.1//EN\"\n",
       " \"http://www.w3.org/Graphics/SVG/1.1/DTD/svg11.dtd\">\n",
       "<!-- Generated by graphviz version 2.40.1 (20161225.0304)\n",
       " -->\n",
       "<!-- Title: tree Pages: 1 -->\n",
       "<svg width=\"449pt\" height=\"589pt\"\n",
       " viewBox=\"0.00 0.00 448.50 589.00\" xmlns=\"http://www.w3.org/2000/svg\" xmlns:xlink=\"http://www.w3.org/1999/xlink\">\n",
       "<g id=\"graph0\" class=\"graph\" transform=\"scale(1 1) rotate(0) translate(4 585)\">\n",
       "<title>tree</title>\n",
       "<polygon fill=\"#ffffff\" stroke=\"transparent\" points=\"-4,4 -4,-585 444.5,-585 444.5,4 -4,4\"/>\n",
       "<!-- r -->\n",
       "<g id=\"node1\" class=\"node\">\n",
       "<title>r</title>\n",
       "<polygon fill=\"none\" stroke=\"#000000\" points=\"265,-581 188,-581 188,-504 265,-504 265,-581\"/>\n",
       "<text text-anchor=\"middle\" x=\"226.5\" y=\"-546.3\" font-family=\"Times,serif\" font-size=\"14.00\" fill=\"#000000\">rss: 207.15</text>\n",
       "<text text-anchor=\"middle\" x=\"226.5\" y=\"-531.3\" font-family=\"Times,serif\" font-size=\"14.00\" fill=\"#000000\"> yhat: 5.93</text>\n",
       "</g>\n",
       "<!-- rl -->\n",
       "<g id=\"node2\" class=\"node\">\n",
       "<title>rl</title>\n",
       "<polygon fill=\"none\" stroke=\"#000000\" points=\"216,-453 141,-453 141,-378 216,-378 216,-453\"/>\n",
       "<text text-anchor=\"middle\" x=\"178.5\" y=\"-419.3\" font-family=\"Times,serif\" font-size=\"14.00\" fill=\"#000000\">rss: 42.35</text>\n",
       "<text text-anchor=\"middle\" x=\"178.5\" y=\"-404.3\" font-family=\"Times,serif\" font-size=\"14.00\" fill=\"#000000\"> yhat: 5.11</text>\n",
       "</g>\n",
       "<!-- r&#45;&#45;rl -->\n",
       "<g id=\"edge1\" class=\"edge\">\n",
       "<title>r&#45;&#45;rl</title>\n",
       "<path fill=\"none\" stroke=\"#000000\" d=\"M194.5479,-503.9075C190.995,-498.1678 187.826,-492.1173 185.5,-486 181.6094,-475.7679 179.5779,-464.1294 178.5831,-453.299\"/>\n",
       "<text text-anchor=\"middle\" x=\"218\" y=\"-474.8\" font-family=\"Times,serif\" font-size=\"14.00\" fill=\"#000000\">Years &lt; 4.5</text>\n",
       "</g>\n",
       "<!-- rr -->\n",
       "<g id=\"node9\" class=\"node\">\n",
       "<title>rr</title>\n",
       "<polygon fill=\"none\" stroke=\"#000000\" points=\"312,-453 237,-453 237,-378 312,-378 312,-453\"/>\n",
       "<text text-anchor=\"middle\" x=\"274.5\" y=\"-419.3\" font-family=\"Times,serif\" font-size=\"14.00\" fill=\"#000000\">rss: 72.71</text>\n",
       "<text text-anchor=\"middle\" x=\"274.5\" y=\"-404.3\" font-family=\"Times,serif\" font-size=\"14.00\" fill=\"#000000\"> yhat: 6.35</text>\n",
       "</g>\n",
       "<!-- r&#45;&#45;rr -->\n",
       "<g id=\"edge8\" class=\"edge\">\n",
       "<title>r&#45;&#45;rr</title>\n",
       "<path fill=\"none\" stroke=\"#000000\" d=\"M243.4038,-503.749C245.8559,-497.8322 248.2942,-491.7743 250.5,-486 254.5603,-475.3713 258.665,-463.7192 262.3039,-453.0034\"/>\n",
       "<text text-anchor=\"middle\" x=\"292\" y=\"-474.8\" font-family=\"Times,serif\" font-size=\"14.00\" fill=\"#000000\">Years &gt;= 4.5</text>\n",
       "</g>\n",
       "<!-- rll -->\n",
       "<g id=\"node3\" class=\"node\">\n",
       "<title>rll</title>\n",
       "<polygon fill=\"none\" stroke=\"#000000\" points=\"123,-327 48,-327 48,-252 123,-252 123,-327\"/>\n",
       "<text text-anchor=\"middle\" x=\"85.5\" y=\"-293.3\" font-family=\"Times,serif\" font-size=\"14.00\" fill=\"#000000\">rss: 0.35</text>\n",
       "<text text-anchor=\"middle\" x=\"85.5\" y=\"-278.3\" font-family=\"Times,serif\" font-size=\"14.00\" fill=\"#000000\"> yhat: 7.24</text>\n",
       "</g>\n",
       "<!-- rl&#45;&#45;rll -->\n",
       "<g id=\"edge2\" class=\"edge\">\n",
       "<title>rl&#45;&#45;rll</title>\n",
       "<path fill=\"none\" stroke=\"#000000\" d=\"M140.7786,-390.0327C130.2054,-381.4727 119.4433,-371.2174 111.5,-360 104.5641,-350.2053 99.2555,-338.3455 95.3003,-327.1698\"/>\n",
       "<text text-anchor=\"middle\" x=\"143\" y=\"-348.8\" font-family=\"Times,serif\" font-size=\"14.00\" fill=\"#000000\">Hits &lt; 15.5</text>\n",
       "</g>\n",
       "<!-- rlr -->\n",
       "<g id=\"node4\" class=\"node\">\n",
       "<title>rlr</title>\n",
       "<polygon fill=\"none\" stroke=\"#000000\" points=\"216,-327 141,-327 141,-252 216,-252 216,-327\"/>\n",
       "<text text-anchor=\"middle\" x=\"178.5\" y=\"-293.3\" font-family=\"Times,serif\" font-size=\"14.00\" fill=\"#000000\">rss: 32.66</text>\n",
       "<text text-anchor=\"middle\" x=\"178.5\" y=\"-278.3\" font-family=\"Times,serif\" font-size=\"14.00\" fill=\"#000000\"> yhat: 5.06</text>\n",
       "</g>\n",
       "<!-- rl&#45;&#45;rlr -->\n",
       "<g id=\"edge3\" class=\"edge\">\n",
       "<title>rl&#45;&#45;rlr</title>\n",
       "<path fill=\"none\" stroke=\"#000000\" d=\"M178.5,-377.6958C178.5,-361.7484 178.5,-343.2221 178.5,-327.2775\"/>\n",
       "<text text-anchor=\"middle\" x=\"214\" y=\"-348.8\" font-family=\"Times,serif\" font-size=\"14.00\" fill=\"#000000\">Hits &gt;= 15.5</text>\n",
       "</g>\n",
       "<!-- rlrl -->\n",
       "<g id=\"node5\" class=\"node\">\n",
       "<title>rlrl</title>\n",
       "<polygon fill=\"none\" stroke=\"#000000\" points=\"123,-201 48,-201 48,-126 123,-126 123,-201\"/>\n",
       "<text text-anchor=\"middle\" x=\"85.5\" y=\"-167.3\" font-family=\"Times,serif\" font-size=\"14.00\" fill=\"#000000\">rss: 11.23</text>\n",
       "<text text-anchor=\"middle\" x=\"85.5\" y=\"-152.3\" font-family=\"Times,serif\" font-size=\"14.00\" fill=\"#000000\"> yhat: 4.81</text>\n",
       "</g>\n",
       "<!-- rlr&#45;&#45;rlrl -->\n",
       "<g id=\"edge4\" class=\"edge\">\n",
       "<title>rlr&#45;&#45;rlrl</title>\n",
       "<path fill=\"none\" stroke=\"#000000\" d=\"M140.649,-259.2305C124.7604,-246.4937 109.8279,-234.4683 109.5,-234 102.6783,-224.2555 97.6601,-212.4097 94.0301,-201.2315\"/>\n",
       "<text text-anchor=\"middle\" x=\"142\" y=\"-222.8\" font-family=\"Times,serif\" font-size=\"14.00\" fill=\"#000000\">Years &lt; 3.5</text>\n",
       "</g>\n",
       "<!-- rlrr -->\n",
       "<g id=\"node8\" class=\"node\">\n",
       "<title>rlrr</title>\n",
       "<polygon fill=\"none\" stroke=\"#000000\" points=\"216,-201 141,-201 141,-126 216,-126 216,-201\"/>\n",
       "<text text-anchor=\"middle\" x=\"178.5\" y=\"-167.3\" font-family=\"Times,serif\" font-size=\"14.00\" fill=\"#000000\">rss: 10.13</text>\n",
       "<text text-anchor=\"middle\" x=\"178.5\" y=\"-152.3\" font-family=\"Times,serif\" font-size=\"14.00\" fill=\"#000000\"> yhat: 5.58</text>\n",
       "</g>\n",
       "<!-- rlr&#45;&#45;rlrr -->\n",
       "<g id=\"edge7\" class=\"edge\">\n",
       "<title>rlr&#45;&#45;rlrr</title>\n",
       "<path fill=\"none\" stroke=\"#000000\" d=\"M178.5,-251.6958C178.5,-235.7484 178.5,-217.2221 178.5,-201.2775\"/>\n",
       "<text text-anchor=\"middle\" x=\"215\" y=\"-222.8\" font-family=\"Times,serif\" font-size=\"14.00\" fill=\"#000000\">Years &gt;= 3.5</text>\n",
       "</g>\n",
       "<!-- rlrll -->\n",
       "<g id=\"node6\" class=\"node\">\n",
       "<title>rlrll</title>\n",
       "<polygon fill=\"none\" stroke=\"#000000\" points=\"75,-75 0,-75 0,0 75,0 75,-75\"/>\n",
       "<text text-anchor=\"middle\" x=\"37.5\" y=\"-41.3\" font-family=\"Times,serif\" font-size=\"14.00\" fill=\"#000000\">rss: 3.52</text>\n",
       "<text text-anchor=\"middle\" x=\"37.5\" y=\"-26.3\" font-family=\"Times,serif\" font-size=\"14.00\" fill=\"#000000\"> yhat: 4.60</text>\n",
       "</g>\n",
       "<!-- rlrl&#45;&#45;rlrll -->\n",
       "<g id=\"edge5\" class=\"edge\">\n",
       "<title>rlrl&#45;&#45;rlrll</title>\n",
       "<path fill=\"none\" stroke=\"#000000\" d=\"M47.8515,-130.152C42.3963,-123.404 37.5884,-115.9253 34.5,-108 30.4967,-97.7269 29.679,-85.9635 30.3018,-75.0274\"/>\n",
       "<text text-anchor=\"middle\" x=\"69.5\" y=\"-96.8\" font-family=\"Times,serif\" font-size=\"14.00\" fill=\"#000000\">Hits &lt; 114.0</text>\n",
       "</g>\n",
       "<!-- rlrlr -->\n",
       "<g id=\"node7\" class=\"node\">\n",
       "<title>rlrlr</title>\n",
       "<polygon fill=\"none\" stroke=\"#000000\" points=\"168,-75 93,-75 93,0 168,0 168,-75\"/>\n",
       "<text text-anchor=\"middle\" x=\"130.5\" y=\"-41.3\" font-family=\"Times,serif\" font-size=\"14.00\" fill=\"#000000\">rss: 2.07</text>\n",
       "<text text-anchor=\"middle\" x=\"130.5\" y=\"-26.3\" font-family=\"Times,serif\" font-size=\"14.00\" fill=\"#000000\"> yhat: 5.26</text>\n",
       "</g>\n",
       "<!-- rlrl&#45;&#45;rlrlr -->\n",
       "<g id=\"edge6\" class=\"edge\">\n",
       "<title>rlrl&#45;&#45;rlrlr</title>\n",
       "<path fill=\"none\" stroke=\"#000000\" d=\"M101.6733,-125.7632C104.0514,-119.8522 106.4033,-113.7855 108.5,-108 112.3443,-97.392 116.1453,-85.7465 119.4784,-75.0301\"/>\n",
       "<text text-anchor=\"middle\" x=\"152.5\" y=\"-96.8\" font-family=\"Times,serif\" font-size=\"14.00\" fill=\"#000000\">Hits &gt;= 114.0</text>\n",
       "</g>\n",
       "<!-- rrl -->\n",
       "<g id=\"node10\" class=\"node\">\n",
       "<title>rrl</title>\n",
       "<polygon fill=\"none\" stroke=\"#000000\" points=\"312,-327 237,-327 237,-252 312,-252 312,-327\"/>\n",
       "<text text-anchor=\"middle\" x=\"274.5\" y=\"-293.3\" font-family=\"Times,serif\" font-size=\"14.00\" fill=\"#000000\">rss: 28.09</text>\n",
       "<text text-anchor=\"middle\" x=\"274.5\" y=\"-278.3\" font-family=\"Times,serif\" font-size=\"14.00\" fill=\"#000000\"> yhat: 6.00</text>\n",
       "</g>\n",
       "<!-- rr&#45;&#45;rrl -->\n",
       "<g id=\"edge9\" class=\"edge\">\n",
       "<title>rr&#45;&#45;rrl</title>\n",
       "<path fill=\"none\" stroke=\"#000000\" d=\"M274.5,-377.6958C274.5,-361.7484 274.5,-343.2221 274.5,-327.2775\"/>\n",
       "<text text-anchor=\"middle\" x=\"309.5\" y=\"-348.8\" font-family=\"Times,serif\" font-size=\"14.00\" fill=\"#000000\">Hits &lt; 117.5</text>\n",
       "</g>\n",
       "<!-- rrr -->\n",
       "<g id=\"node15\" class=\"node\">\n",
       "<title>rrr</title>\n",
       "<polygon fill=\"none\" stroke=\"#000000\" points=\"405,-327 330,-327 330,-252 405,-252 405,-327\"/>\n",
       "<text text-anchor=\"middle\" x=\"367.5\" y=\"-293.3\" font-family=\"Times,serif\" font-size=\"14.00\" fill=\"#000000\">rss: 20.88</text>\n",
       "<text text-anchor=\"middle\" x=\"367.5\" y=\"-278.3\" font-family=\"Times,serif\" font-size=\"14.00\" fill=\"#000000\"> yhat: 6.74</text>\n",
       "</g>\n",
       "<!-- rr&#45;&#45;rrr -->\n",
       "<g id=\"edge14\" class=\"edge\">\n",
       "<title>rr&#45;&#45;rrr</title>\n",
       "<path fill=\"none\" stroke=\"#000000\" d=\"M312.2878,-392.5852C324.3324,-383.7011 336.7807,-372.6119 345.5,-360 352.2081,-350.2971 356.9361,-338.4631 360.2408,-327.2828\"/>\n",
       "<text text-anchor=\"middle\" x=\"392.5\" y=\"-348.8\" font-family=\"Times,serif\" font-size=\"14.00\" fill=\"#000000\">Hits &gt;= 117.5</text>\n",
       "</g>\n",
       "<!-- rrll -->\n",
       "<g id=\"node11\" class=\"node\">\n",
       "<title>rrll</title>\n",
       "<polygon fill=\"none\" stroke=\"#000000\" points=\"312,-201 237,-201 237,-126 312,-126 312,-201\"/>\n",
       "<text text-anchor=\"middle\" x=\"274.5\" y=\"-167.3\" font-family=\"Times,serif\" font-size=\"14.00\" fill=\"#000000\">rss: 7.24</text>\n",
       "<text text-anchor=\"middle\" x=\"274.5\" y=\"-152.3\" font-family=\"Times,serif\" font-size=\"14.00\" fill=\"#000000\"> yhat: 5.69</text>\n",
       "</g>\n",
       "<!-- rrl&#45;&#45;rrll -->\n",
       "<g id=\"edge10\" class=\"edge\">\n",
       "<title>rrl&#45;&#45;rrll</title>\n",
       "<path fill=\"none\" stroke=\"#000000\" d=\"M274.5,-251.6958C274.5,-235.7484 274.5,-217.2221 274.5,-201.2775\"/>\n",
       "<text text-anchor=\"middle\" x=\"307\" y=\"-222.8\" font-family=\"Times,serif\" font-size=\"14.00\" fill=\"#000000\">Years &lt; 6.5</text>\n",
       "</g>\n",
       "<!-- rrlr -->\n",
       "<g id=\"node12\" class=\"node\">\n",
       "<title>rrlr</title>\n",
       "<polygon fill=\"none\" stroke=\"#000000\" points=\"405,-201 330,-201 330,-126 405,-126 405,-201\"/>\n",
       "<text text-anchor=\"middle\" x=\"367.5\" y=\"-167.3\" font-family=\"Times,serif\" font-size=\"14.00\" fill=\"#000000\">rss: 17.35</text>\n",
       "<text text-anchor=\"middle\" x=\"367.5\" y=\"-152.3\" font-family=\"Times,serif\" font-size=\"14.00\" fill=\"#000000\"> yhat: 6.12</text>\n",
       "</g>\n",
       "<!-- rrl&#45;&#45;rrlr -->\n",
       "<g id=\"edge11\" class=\"edge\">\n",
       "<title>rrl&#45;&#45;rrlr</title>\n",
       "<path fill=\"none\" stroke=\"#000000\" d=\"M312.0099,-258.9276C327.7193,-246.1164 342.4184,-234.1158 342.5,-234 349.3788,-224.2315 354.5422,-212.379 358.3347,-201.202\"/>\n",
       "<text text-anchor=\"middle\" x=\"388\" y=\"-222.8\" font-family=\"Times,serif\" font-size=\"14.00\" fill=\"#000000\">Years &gt;= 6.5</text>\n",
       "</g>\n",
       "<!-- rrlrl -->\n",
       "<g id=\"node13\" class=\"node\">\n",
       "<title>rrlrl</title>\n",
       "<polygon fill=\"none\" stroke=\"#000000\" points=\"314,-75 239,-75 239,0 314,0 314,-75\"/>\n",
       "<text text-anchor=\"middle\" x=\"276.5\" y=\"-41.3\" font-family=\"Times,serif\" font-size=\"14.00\" fill=\"#000000\">rss: 2.69</text>\n",
       "<text text-anchor=\"middle\" x=\"276.5\" y=\"-26.3\" font-family=\"Times,serif\" font-size=\"14.00\" fill=\"#000000\"> yhat: 5.73</text>\n",
       "</g>\n",
       "<!-- rrlr&#45;&#45;rrlrl -->\n",
       "<g id=\"edge12\" class=\"edge\">\n",
       "<title>rrlr&#45;&#45;rrlrl</title>\n",
       "<path fill=\"none\" stroke=\"#000000\" d=\"M329.8738,-133.2366C316.3612,-122.1063 303.8457,-111.3835 301.5,-108 294.6931,-98.1813 289.5498,-86.3147 285.7537,-75.1402\"/>\n",
       "<text text-anchor=\"middle\" x=\"333\" y=\"-96.8\" font-family=\"Times,serif\" font-size=\"14.00\" fill=\"#000000\">Hits &lt; 50.5</text>\n",
       "</g>\n",
       "<!-- rrlrr -->\n",
       "<g id=\"node14\" class=\"node\">\n",
       "<title>rrlrr</title>\n",
       "<polygon fill=\"none\" stroke=\"#000000\" points=\"407,-75 332,-75 332,0 407,0 407,-75\"/>\n",
       "<text text-anchor=\"middle\" x=\"369.5\" y=\"-41.3\" font-family=\"Times,serif\" font-size=\"14.00\" fill=\"#000000\">rss: 12.37</text>\n",
       "<text text-anchor=\"middle\" x=\"369.5\" y=\"-26.3\" font-family=\"Times,serif\" font-size=\"14.00\" fill=\"#000000\"> yhat: 6.22</text>\n",
       "</g>\n",
       "<!-- rrlr&#45;&#45;rrlrr -->\n",
       "<g id=\"edge13\" class=\"edge\">\n",
       "<title>rrlr&#45;&#45;rrlrr</title>\n",
       "<path fill=\"none\" stroke=\"#000000\" d=\"M368.1001,-125.6958C368.3532,-109.7484 368.6473,-91.2221 368.9004,-75.2775\"/>\n",
       "<text text-anchor=\"middle\" x=\"405\" y=\"-96.8\" font-family=\"Times,serif\" font-size=\"14.00\" fill=\"#000000\">Hits &gt;= 50.5</text>\n",
       "</g>\n",
       "</g>\n",
       "</svg>\n"
      ],
      "text/plain": [
       "<graphviz.dot.Graph at 0x7f9077443828>"
      ]
     },
     "metadata": {},
     "output_type": "display_data"
    }
   ],
   "source": [
    "visualize_tree(pruned_hitters)"
   ]
  },
  {
   "cell_type": "code",
   "execution_count": 16,
   "metadata": {},
   "outputs": [
    {
     "data": {
      "text/plain": [
       "43.535340171999891"
      ]
     },
     "execution_count": 16,
     "metadata": {},
     "output_type": "execute_result"
    }
   ],
   "source": [
    "_tree_rss(hitters_tree)\n",
    "# 18.580352765943754"
   ]
  },
  {
   "cell_type": "code",
   "execution_count": 17,
   "metadata": {},
   "outputs": [
    {
     "data": {
      "text/plain": [
       "59.252076648734693"
      ]
     },
     "execution_count": 17,
     "metadata": {},
     "output_type": "execute_result"
    }
   ],
   "source": [
    "_tree_rss(pruned_hitters)\n",
    "# 61.545711042259285"
   ]
  },
  {
   "cell_type": "code",
   "execution_count": 18,
   "metadata": {},
   "outputs": [],
   "source": [
    "#_evaluate(pruned_hitters, hitters.iloc[0])"
   ]
  },
  {
   "cell_type": "code",
   "execution_count": 19,
   "metadata": {},
   "outputs": [],
   "source": [
    "#hitters['Yhat']=hitters.apply(lambda x:_evaluate(pruned_hitters,x),axis=1)"
   ]
  },
  {
   "cell_type": "code",
   "execution_count": 20,
   "metadata": {},
   "outputs": [],
   "source": [
    "#hitters#.pivot(\"Years\",\"Hits\",\"Yhat\")"
   ]
  },
  {
   "cell_type": "code",
   "execution_count": 21,
   "metadata": {},
   "outputs": [
    {
     "data": {
      "image/png": "[encoded data removed]",
      "text/plain": [
       "<matplotlib.figure.Figure at 0x7f906f7d8fd0>"
      ]
     },
     "metadata": {},
     "output_type": "display_data"
    }
   ],
   "source": [
    "x,y = np.linspace(hitters.Years.min(),hitters.Years.max()),np.linspace(hitters.Hits.min(),hitters.Hits.max())\n",
    "X,Y= np.meshgrid(x,y)\n",
    "# X.reshape((len(x)*len(y),))\n",
    "data= {'Years':X.reshape((len(x)*len(y),)),'Hits' : Y.reshape((len(x)*len(y),))}\n",
    "C = pd.DataFrame(data).apply(lambda x:_evaluate(pruned_hitters,x),axis=1).values.reshape(X.shape)\n",
    "plt.pcolormesh(x,y,C,cmap=plt.cm.magma)\n",
    "plt.colorbar()\n",
    "plt.xlabel('$Years$')\n",
    "plt.ylabel('$Hits$')\n",
    "plt.show()"
   ]
  },
  {
   "cell_type": "code",
   "execution_count": null,
   "metadata": {
    "collapsed": true
   },
   "outputs": [],
   "source": []
  }
 ],
 "metadata": {
  "kernelspec": {
   "display_name": "Python 3",
   "language": "python",
   "name": "python3"
  },
  "language_info": {
   "codemirror_mode": {
    "name": "ipython",
    "version": 3
   },
   "file_extension": ".py",
   "mimetype": "text/x-python",
   "name": "python",
   "nbconvert_exporter": "python",
   "pygments_lexer": "ipython3",
   "version": "3.6.3"
  }
 },
 "nbformat": 4,
 "nbformat_minor": 2
}
