{
 "cells": [
  {
   "cell_type": "code",
   "execution_count": 5,
   "metadata": {},
   "outputs": [
    {
     "data": {
      "text/plain": [
       "'More organized Code is a benefit of functions!'"
      ]
     },
     "execution_count": 5,
     "metadata": {},
     "output_type": "execute_result"
    }
   ],
   "source": [
    "def list_benefits():\n",
    "    return ['More organized Code','More readable Code','Easier code reuse','Allowing programmers to share and connect code together']\n",
    "\n",
    "def build_sentence(info):\n",
    "    return info + ' is a benefit of functions!'\n",
    "\n",
    "build_sentence(list_benefits()[0])"
   ]
  },
  {
   "cell_type": "code",
   "execution_count": 21,
   "metadata": {
    "collapsed": true
   },
   "outputs": [],
   "source": [
    "class Vehicle:\n",
    "    name = \"\"\n",
    "    kind = \"car\"\n",
    "    color = \"\"\n",
    "    value = 100.00\n",
    "    \n",
    "    def __init__(self,**kwargs):\n",
    "        self.name = kwargs['name']\n",
    "        self.kind = kwargs['kind']\n",
    "        self.color = kwargs['color'] \n",
    "        self.value = kwargs['value'] \n",
    "    \n",
    "    def __str__(self):\n",
    "        return '%s is a %s %s worth $%.f.' % (self.name,self.color,self.kind,self.value)\n"
   ]
  },
  {
   "cell_type": "code",
   "execution_count": 23,
   "metadata": {},
   "outputs": [
    {
     "name": "stdout",
     "output_type": "stream",
     "text": [
      "Fer is a red convertible worth $60000.00.\n"
     ]
    }
   ],
   "source": [
    "car1=Vehicle(name='Fer',kind='convertible',color='red',value=60000)\n",
    "car2=Vehicle(name='Jump',kind='van',color='blue',value=1000)\n",
    "print(car1)\n"
   ]
  },
  {
   "cell_type": "code",
   "execution_count": null,
   "metadata": {
    "collapsed": true
   },
   "outputs": [],
   "source": []
  }
 ],
 "metadata": {
  "kernelspec": {
   "display_name": "Python 3",
   "language": "python",
   "name": "python3"
  },
  "language_info": {
   "codemirror_mode": {
    "name": "ipython",
    "version": 3
   },
   "file_extension": ".py",
   "mimetype": "text/x-python",
   "name": "python",
   "nbconvert_exporter": "python",
   "pygments_lexer": "ipython3",
   "version": "3.6.3"
  }
 },
 "nbformat": 4,
 "nbformat_minor": 2
}
