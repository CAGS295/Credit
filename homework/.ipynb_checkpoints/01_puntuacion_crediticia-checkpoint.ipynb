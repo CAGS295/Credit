{
 "cells": [
  {
   "cell_type": "markdown",
   "metadata": {},
   "source": [
    "# Diagnostico"
   ]
  },
  {
   "cell_type": "markdown",
   "metadata": {},
   "source": [
    "## Programación\n",
    "Escribe codigo o pseudo-codigo para resolver los siguientes problemas:\n",
    "\n",
    "1.- Escribe un programa que pida un numero __n__ al usuario e imprima la suma de los numeros del 1 al __n__.\n"
   ]
  },
  {
   "cell_type": "code",
   "execution_count": 8,
   "metadata": {},
   "outputs": [
    {
     "name": "stdout",
     "output_type": "stream",
     "text": [
      "Dame un número\n",
      "5\n",
      "resultado: 15.0\n"
     ]
    }
   ],
   "source": [
    "def suma(n):\n",
    "    return n*(n+1)/2\n",
    "def sumador():\n",
    "    n = int(input(\"Dame un número\\n\"))\n",
    "    return suma(n)\n",
    "\n",
    "print('resultado:',sumador())"
   ]
  },
  {
   "cell_type": "markdown",
   "metadata": {},
   "source": [
    "2.- Escribe una funcion que combine dos listas tomando alternadamante elemtos, e.j. [a,b,c], [1,2,3] → [a,1,b,2,c,3]."
   ]
  },
  {
   "cell_type": "code",
   "execution_count": 217,
   "metadata": {},
   "outputs": [
    {
     "data": {
      "text/plain": [
       "['a', '7', 'b', '8']"
      ]
     },
     "execution_count": 217,
     "metadata": {},
     "output_type": "execute_result"
    }
   ],
   "source": [
    "import numpy as np\n",
    "def merger(*iterables):\n",
    "    sentinel = object()\n",
    "    iterators = [iter(it) for it in iterables]\n",
    "    fl = []\n",
    "    while iterators:\n",
    "        result = []\n",
    "        for it in iterators:\n",
    "            elem = next(it,sentinel)\n",
    "            result.append(elem)\n",
    "            if elem is sentinel:\n",
    "                fl = list(np.concatenate(fl))\n",
    "                return fl\n",
    "            #yield result\n",
    "        fl.append(result)\n",
    "        \n",
    "merger(['a','b','c'],[7,8])"
   ]
  },
  {
   "cell_type": "markdown",
   "metadata": {},
   "source": [
    "3.- Escriba un programa que escriba todas las formas de colocar + o - entre los numeros 1,2,..., 9 (en este mismo orden) tal que el resultado sea 100. e.j. 1 + 2 + 3 - 4 + 5 + 6 + 78 + 9 = 100."
   ]
  },
  {
   "cell_type": "code",
   "execution_count": 270,
   "metadata": {},
   "outputs": [
    {
     "name": "stdout",
     "output_type": "stream",
     "text": [
      "302 123+45-67+8-9   100\n",
      "438 123+4-5+67-89   100\n",
      "543 123-45-67+89   100\n",
      "725 123-4-5-6-7+8-9   100\n",
      "1128 12+3+4+5-6-7+89   100\n",
      "1327 12+3-4+5+67+8+9   100\n",
      "2091 12-3-4+5-6+7+89   100\n",
      "2767 1+23-4+56+7+8+9   100\n",
      "2792 1+23-4+5+6+78-9   100\n",
      "3112 1+2+34-5+67-8+9   100\n",
      "3520 1+2+3-4+5+6+78+9   100\n"
     ]
    }
   ],
   "source": [
    "import numpy as np\n",
    "import math\n",
    "import parser as par\n",
    "import itertools as itt\n",
    "import pandas\n",
    "nums = np.arange(1,9+1)\n",
    "oper=['','+','-']\n",
    "maxDecimal=sum( (3**np.arange(9)) * np.repeat(2,9))\n",
    "\n",
    "def merger(*iterables):\n",
    "    sentinel = object()\n",
    "    iterators = [iter(it) for it in iterables]\n",
    "    fl = []\n",
    "    while iterators:\n",
    "        result = []\n",
    "        for it in iterators:\n",
    "            elem = next(it,sentinel)\n",
    "            result.append(elem)\n",
    "            if elem is sentinel:\n",
    "                fl = list(np.concatenate(fl))\n",
    "                return fl\n",
    "            #yield result\n",
    "        fl.append(result)\n",
    "\n",
    "def ternary (n,bits):\n",
    "    nums = []\n",
    "    while n:\n",
    "        n, r = divmod(n, 3)\n",
    "        nums.append(str(r))\n",
    "    stride =  bits - len(nums)\n",
    "    return np.concatenate( (np.repeat('0',stride),nums[::-1]) )\n",
    "        \n",
    "def strToOper(iterator):     \n",
    "    res = []\n",
    "    for i in iterator:        \n",
    "        if i == '0':\n",
    "            res.append('')\n",
    "        elif i == '1':\n",
    "            res.append('+')\n",
    "        else:\n",
    "            res.append('-')    \n",
    "    return res     \n",
    "\n",
    "\n",
    "for i in n.arange(0,maxDecimal + 1 ):  \n",
    "    string = merger( strToOper(ternary(i,9)), n.arange(1, 9 +1))\n",
    "    exp= eval(''.join(string))\n",
    "    if (string[0] == '' and exp == 100):\n",
    "        print(i,''.join(string),' ',exp)\n"
   ]
  },
  {
   "cell_type": "markdown",
   "metadata": {},
   "source": [
    "# Estadística\n",
    "4.- La probabilidad de ganar una medalla de oro de cada miembro de el equipo olimpico Mexicano es de 10%. Cual es la probabilidad de obtener cero medallas de oro por el equipo Mexicano."
   ]
  },
  {
   "cell_type": "markdown",
   "metadata": {
    "collapsed": true
   },
   "source": [
    "$.9^{ integrantes}$"
   ]
  },
  {
   "cell_type": "markdown",
   "metadata": {},
   "source": [
    "Si $P(A) = 0.20$ y $P(B) = 0.51$, donde $P(B|A) = 0.89$.    \n",
    "5.- Cual es $P(A y B)$? Cual es $P(A|B)$?"
   ]
  },
  {
   "cell_type": "markdown",
   "metadata": {
    "collapsed": true
   },
   "source": [
    "P(A|B) = "
   ]
  },
  {
   "cell_type": "code",
   "execution_count": 278,
   "metadata": {},
   "outputs": [
    {
     "data": {
      "text/plain": [
       "0.3490196078431373"
      ]
     },
     "execution_count": 278,
     "metadata": {},
     "output_type": "execute_result"
    }
   ],
   "source": [
    ".89*.2/.51"
   ]
  },
  {
   "cell_type": "markdown",
   "metadata": {},
   "source": [
    "P(A $\\cup$ B) = P(A) + P(B) - P(A $\\cap$ B)"
   ]
  },
  {
   "cell_type": "code",
   "execution_count": 280,
   "metadata": {},
   "outputs": [
    {
     "data": {
      "text/plain": [
       "0.5319999999999999"
      ]
     },
     "execution_count": 280,
     "metadata": {},
     "output_type": "execute_result"
    }
   ],
   "source": [
    ".2+.51-.89*.2"
   ]
  },
  {
   "cell_type": "markdown",
   "metadata": {},
   "source": [
    "# Cálculo\n",
    "6.- $\\frac{d}{dx} ( x^2 + e^x )$ "
   ]
  },
  {
   "cell_type": "markdown",
   "metadata": {
    "collapsed": true
   },
   "source": [
    "$2x+ e^x$"
   ]
  },
  {
   "cell_type": "markdown",
   "metadata": {},
   "source": [
    "7.- $\\int_0^1 \\sqrt{ 1 - x^2 }$"
   ]
  },
  {
   "cell_type": "markdown",
   "metadata": {
    "collapsed": true
   },
   "source": [
    "$x=sin(u) ; dx = cos(u)du ; \\cos^2(u)=\\frac{1+cos(2u)}{2}$"
   ]
  },
  {
   "cell_type": "markdown",
   "metadata": {},
   "source": [
    "arcsin(0)=0 ; arcsin(1) = $\\pi$/2"
   ]
  },
  {
   "cell_type": "code",
   "execution_count": 282,
   "metadata": {},
   "outputs": [
    {
     "data": {
      "text/plain": [
       "0.7853981633974483"
      ]
     },
     "execution_count": 282,
     "metadata": {},
     "output_type": "execute_result"
    }
   ],
   "source": [
    "import math\n",
    ".5*(.5*math.pi)+.5*.5*(0)"
   ]
  },
  {
   "cell_type": "markdown",
   "metadata": {},
   "source": [
    "8.- $\\frac{d}{dx} \\frac{1}{1 + e^{-x}}$"
   ]
  },
  {
   "cell_type": "markdown",
   "metadata": {
    "collapsed": true
   },
   "source": [
    "$-(-e^{-x})(1+e^{-x})^{-2}$"
   ]
  },
  {
   "cell_type": "markdown",
   "metadata": {},
   "source": [
    "# Puntuación Crediticia"
   ]
  },
  {
   "cell_type": "markdown",
   "metadata": {},
   "source": [
    "Considere la siguiente solicitud de credito hipotecario: https://www.bancomer.com/fbin/SolCH_tcm1344-487598.pdf\n",
    "\n",
    "9.- Escriba ejemplos de datos solicitados y que __C__(Caracter, Capacidad, Capital, Colateral) intenta determinar."
   ]
  },
  {
   "cell_type": "markdown",
   "metadata": {
    "collapsed": true
   },
   "source": [
    "\n",
    "| C(crédito) | ejemplos |\n",
    "| --- | --- |\n",
    "| caracter | nombre, CURP,IMSS, domicilio, correo , teléfono, referencias|\n",
    "| capacidad | otros préstamos personales (categoría), actividad económica primaria (categoría) |\n",
    "| capital | actividad económica primaria y secundaria (capacidad) | \n",
    "| colateral | datos del inmueble garantía de crédito (categoría|\n",
    "\n",
    "\n",
    "\n"
   ]
  },
  {
   "cell_type": "markdown",
   "metadata": {},
   "source": [
    "10.- Obtenga su reporte de crédito de Buro de Crédito: https://www.burodecredito.com.mx/ o Círculo de Crédito: https://www.circulodecredito.com.mx/. Por ley puede obtener un reporte gratis cada 12 meses (evite agregar analisis extras que puedan generarle costo). __NO envie su reporte como parte de la tarea__, solo revise la información que contiene."
   ]
  },
  {
   "cell_type": "markdown",
   "metadata": {},
   "source": [
    "Opcional: Credit Reports: Last Week Tonight with John Oliver (HBO) https://www.youtube.com/watch?v=aRrDsbUdY_k"
   ]
  },
  {
   "cell_type": "code",
   "execution_count": null,
   "metadata": {
    "collapsed": true
   },
   "outputs": [],
   "source": []
  }
 ],
 "metadata": {
  "kernelspec": {
   "display_name": "Python 3",
   "language": "python",
   "name": "python3"
  },
  "language_info": {
   "codemirror_mode": {
    "name": "ipython",
    "version": 3
   },
   "file_extension": ".py",
   "mimetype": "text/x-python",
   "name": "python",
   "nbconvert_exporter": "python",
   "pygments_lexer": "ipython3",
   "version": "3.6.3"
  }
 },
 "nbformat": 4,
 "nbformat_minor": 1
}
