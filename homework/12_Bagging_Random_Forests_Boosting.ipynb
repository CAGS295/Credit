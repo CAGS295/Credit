{
 "cells": [
  {
   "cell_type": "markdown",
   "metadata": {},
   "source": [
    "# Bagging, Random Forests, Boosting\n",
    "\n",
    "Utilice la clase `regression_tree` de `regression_tree.py` para entrenar un arbol de decisión en los datos de `auto.csv`"
   ]
  },
  {
   "cell_type": "code",
   "execution_count": null,
   "metadata": {
    "collapsed": true
   },
   "outputs": [],
   "source": [
    "%matplotlib inline\n",
    "import pandas as pd\n",
    "import numpy as np\n",
    "import matplotlib.pyplot as plt\n",
    "\n",
    "from regression_tree import regression_tree"
   ]
  },
  {
   "cell_type": "code",
   "execution_count": null,
   "metadata": {
    "collapsed": true,
    "scrolled": true
   },
   "outputs": [],
   "source": [
    "auto_dataset = pd.read_csv('../data/auto.csv')"
   ]
  },
  {
   "cell_type": "code",
   "execution_count": null,
   "metadata": {},
   "outputs": [],
   "source": [
    "auto_dataset.head()"
   ]
  },
  {
   "cell_type": "code",
   "execution_count": null,
   "metadata": {
    "collapsed": true
   },
   "outputs": [],
   "source": [
    "train_dataset = auto_dataset[['mpg', 'cylinders', 'displacement', 'weight', 'acceleration', 'year', 'origin']]"
   ]
  },
  {
   "cell_type": "code",
   "execution_count": null,
   "metadata": {
    "scrolled": true
   },
   "outputs": [],
   "source": [
    "np.random.seed(100)\n",
    "rnd = np.random.rand(len(train_dataset))\n",
    "train_df = train_dataset[rnd < 0.8]\n",
    "test_df = train_dataset[rnd >= 0.8]\n",
    "len(train_df), len(test_df)\n",
    "# train_df"
   ]
  },
  {
   "cell_type": "markdown",
   "metadata": {},
   "source": [
    "Cree una función que regrese el error cuadrado medio del modelo."
   ]
  },
  {
   "cell_type": "code",
   "execution_count": null,
   "metadata": {
    "collapsed": true
   },
   "outputs": [],
   "source": [
    "def rms_error(y, yhat):\n",
    "    return (y - yhat).apply(lambda x: x*x).mean()"
   ]
  },
  {
   "cell_type": "code",
   "execution_count": null,
   "metadata": {
    "collapsed": true
   },
   "outputs": [],
   "source": [
    "auto_tree = regression_tree()\n",
    "auto_tree.fit(train_df, 'mpg', alpha=0, min_points_per_leaf=1)"
   ]
  },
  {
   "cell_type": "code",
   "execution_count": null,
   "metadata": {},
   "outputs": [],
   "source": [
    "rms_error(train_df.mpg, auto_tree.predict(train_df))"
   ]
  },
  {
   "cell_type": "code",
   "execution_count": null,
   "metadata": {},
   "outputs": [],
   "source": [
    "rms_error(test_df.mpg, auto_tree.predict(test_df))"
   ]
  },
  {
   "cell_type": "code",
   "execution_count": null,
   "metadata": {
    "collapsed": true
   },
   "outputs": [],
   "source": [
    "# pd.DataFrame({'y':test_df.mpg, 'yhat': auto_tree.predict(test_df)})"
   ]
  },
  {
   "cell_type": "markdown",
   "metadata": {},
   "source": [
    "# Bootstrap\n",
    "\n",
    "Cree una función que genere muestras de datos con reemplazo."
   ]
  },
  {
   "cell_type": "code",
   "execution_count": null,
   "metadata": {
    "collapsed": true
   },
   "outputs": [],
   "source": [
    "def bootstrap_sample(df, N=None):\n",
    "    if not N:\n",
    "        N = len(df)\n",
    "    selection = np.random.choice(df.index, size=N)\n",
    "    return df.loc[selection]"
   ]
  },
  {
   "cell_type": "code",
   "execution_count": null,
   "metadata": {
    "collapsed": true
   },
   "outputs": [],
   "source": [
    "# bootstrap_sample(auto_dataset).head()"
   ]
  },
  {
   "cell_type": "markdown",
   "metadata": {},
   "source": [
    "# Random Forest\n",
    "Cree una clase que tenga la misma interfaz de `regression_tree`, es decir, una función **fit** que entrene **B** arbóles de decisión, y una función **predict** que evalúe los arboles y regrese\n",
    "$$ \\frac{1}{B}\\sum_{b=1}^B \\hat f^b (x) $$"
   ]
  },
  {
   "cell_type": "code",
   "execution_count": null,
   "metadata": {
    "collapsed": true
   },
   "outputs": [],
   "source": [
    "class random_forest(object):\n",
    "    def __init__(self):\n",
    "        self.trees = []\n",
    "\n",
    "    def fit(self, df, y, B=10, predictors=None, alpha=1, min_points_per_leaf=5):\n",
    "        if not predictors:\n",
    "            predictors = list(df.columns)\n",
    "            predictors.remove(y)\n",
    "        self.trees = []\n",
    "        for b in range(B):\n",
    "            tree = regression_tree()\n",
    "            df_new = bootstrap_sample(df)\n",
    "            predictors_new = np.random.choice(predictors,\n",
    "                                              size=int(np.sqrt(len(predictors))),\n",
    "                                              replace=False)\n",
    "            tree.fit(df_new, y, predictors=predictors, \n",
    "                                alpha=alpha,\n",
    "                                min_points_per_leaf=min_points_per_leaf)\n",
    "            self.trees.append(tree)\n",
    "\n",
    "    def predict(self, df):\n",
    "        prediction = pd.Series([0]*len(df), index=df.index)\n",
    "        for tree in self.trees:\n",
    "            prediction += tree.predict(df)\n",
    "        return prediction/len(self.trees)"
   ]
  },
  {
   "cell_type": "code",
   "execution_count": null,
   "metadata": {},
   "outputs": [],
   "source": [
    "model = random_forest()\n",
    "predictors = ['cylinders', 'displacement', 'weight', 'acceleration', 'year', 'origin']\n",
    "model.fit(train_df, 'mpg', 3, predictors=predictors, alpha=0.5, min_points_per_leaf=50)"
   ]
  },
  {
   "cell_type": "code",
   "execution_count": null,
   "metadata": {
    "scrolled": true
   },
   "outputs": [],
   "source": [
    "yhat = model.predict(test_df)\n",
    "yhat.head()"
   ]
  },
  {
   "cell_type": "code",
   "execution_count": null,
   "metadata": {},
   "outputs": [],
   "source": [
    "rms_error(train_df.mpg, model.predict(train_df))"
   ]
  },
  {
   "cell_type": "code",
   "execution_count": null,
   "metadata": {},
   "outputs": [],
   "source": [
    "rms_error(test_df.mpg, model.predict(test_df))"
   ]
  },
  {
   "cell_type": "markdown",
   "metadata": {},
   "source": [
    "# Boosted Decision Trees\n",
    "Cree una clase que entrene arboles de decisión siguiendo el algoritmo de boosting:\n",
    "1. Set $\\hat f(x)$ and $r_i=y_i$ for all $i$ in the training set.\n",
    "2. For $b = 1,2,...,B$, repeat:\n",
    "   1. Fit a tree $\\hat f^b$ with $d$ splits ($d+1$ terminal nodes) to the training data $(X, r)$\n",
    "   2. Update $\\hat f$ by adding in a shrunken verson fo the new tree: $\\hat f(x) \\leftarrow \\hat f(x) + \\lambda\\hat f^b(x)$\n",
    "   3. Update the residuals: $r_i \\leftarrow r_i - \\lambda\\hat f^b(x_i)$\n",
    "3. Output the boosted model:\n",
    "    $$\\hat f(x) = \\sum_{b=1}^B \\lambda\\hat f^b(x)$$"
   ]
  },
  {
   "cell_type": "code",
   "execution_count": null,
   "metadata": {
    "collapsed": true
   },
   "outputs": [],
   "source": [
    "from copy import deepcopy\n",
    "class boosted_tree(object):\n",
    "    def __init__(self):\n",
    "        self.trees = []\n",
    "    \n",
    "    def fit(self, df, y, B=10, predictors=None, alpha=1,lambda_ = 1, min_points_per_leaf=5):\n",
    "        repo = deepcopy(df.loc[:,y])\n",
    "        self.lambda_ = lambda_\n",
    "        if not predictors:\n",
    "            predictors = list(df.columns)\n",
    "            predictors.remove(y)\n",
    "        self.trees = []  \n",
    "        for b in range(B):\n",
    "            b_tree = regression_tree()\n",
    "            b_tree.fit(df, y, predictors, alpha, min_points_per_leaf)\n",
    "            self.trees.append(b_tree)\n",
    "            df.loc[:,y] = df.loc[:,y] - lambda_ * b_tree.predict(df)\n",
    "        df.loc[:,y] = repo.values\n",
    "#         print(df.loc[:,y].head())\n",
    "            \n",
    "    def predict(self, df):\n",
    "        prediction = pd.Series([0]*len(df), index=df.index)\n",
    "        for tree in self.trees:\n",
    "            prediction += tree.predict(df)\n",
    "        return self.lambda_ * prediction\n",
    "        "
   ]
  },
  {
   "cell_type": "code",
   "execution_count": null,
   "metadata": {},
   "outputs": [],
   "source": [
    "model = boosted_tree()\n",
    "predictors = ['cylinders', 'displacement', 'weight', 'acceleration', 'year', 'origin']\n",
    "model.fit(train_df, 'mpg', 3, predictors, 0, 1, 50)"
   ]
  },
  {
   "cell_type": "code",
   "execution_count": null,
   "metadata": {},
   "outputs": [],
   "source": [
    "rms_error(train_df.mpg, model.predict(train_df))"
   ]
  },
  {
   "cell_type": "code",
   "execution_count": null,
   "metadata": {},
   "outputs": [],
   "source": [
    "rms_error(test_df.mpg, model.predict(test_df))"
   ]
  },
  {
   "cell_type": "code",
   "execution_count": null,
   "metadata": {
    "collapsed": true
   },
   "outputs": [],
   "source": []
  }
 ],
 "metadata": {
  "kernelspec": {
   "display_name": "Python 3",
   "language": "python",
   "name": "python3"
  },
  "language_info": {
   "codemirror_mode": {
    "name": "ipython",
    "version": 3
   },
   "file_extension": ".py",
   "mimetype": "text/x-python",
   "name": "python",
   "nbconvert_exporter": "python",
   "pygments_lexer": "ipython3",
   "version": "3.6.3"
  }
 },
 "nbformat": 4,
 "nbformat_minor": 2
}
