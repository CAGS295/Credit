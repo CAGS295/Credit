{
 "cells": [
  {
   "cell_type": "markdown",
   "metadata": {
    "deletable": true,
    "editable": true
   },
   "source": [
    "# Árboles de decisión"
   ]
  },
  {
   "cell_type": "markdown",
   "metadata": {
    "deletable": true,
    "editable": true
   },
   "source": [
    "Crearemos un arbol de decisión para predecil el salario `log(Salary)` de un jugador de béisbol, basado en el numero de años que lleva jugando en las grandes ligas `Years`, y el numero de batazos de hit `Hits` que hizo en el año anterior."
   ]
  },
  {
   "cell_type": "code",
   "execution_count": 3,
   "metadata": {
    "collapsed": true,
    "deletable": true,
    "editable": true
   },
   "outputs": [],
   "source": [
    "%matplotlib inline\n",
    "import pandas as pd\n",
    "import numpy as np\n",
    "import matplotlib.pyplot as plt"
   ]
  },
  {
   "cell_type": "markdown",
   "metadata": {
    "deletable": true,
    "editable": true
   },
   "source": [
    "Leemos los datos:"
   ]
  },
  {
   "cell_type": "code",
   "execution_count": 5,
   "metadata": {
    "collapsed": false,
    "deletable": true,
    "editable": true
   },
   "outputs": [
    {
     "data": {
      "text/html": [
       "<div>\n",
       "<table border=\"1\" class=\"dataframe\">\n",
       "  <thead>\n",
       "    <tr style=\"text-align: right;\">\n",
       "      <th></th>\n",
       "      <th>Years</th>\n",
       "      <th>Hits</th>\n",
       "      <th>LogSalary</th>\n",
       "    </tr>\n",
       "  </thead>\n",
       "  <tbody>\n",
       "    <tr>\n",
       "      <th>1</th>\n",
       "      <td>14</td>\n",
       "      <td>81</td>\n",
       "      <td>6.163315</td>\n",
       "    </tr>\n",
       "    <tr>\n",
       "      <th>2</th>\n",
       "      <td>3</td>\n",
       "      <td>130</td>\n",
       "      <td>6.173786</td>\n",
       "    </tr>\n",
       "    <tr>\n",
       "      <th>3</th>\n",
       "      <td>11</td>\n",
       "      <td>141</td>\n",
       "      <td>6.214608</td>\n",
       "    </tr>\n",
       "    <tr>\n",
       "      <th>4</th>\n",
       "      <td>2</td>\n",
       "      <td>87</td>\n",
       "      <td>4.516339</td>\n",
       "    </tr>\n",
       "    <tr>\n",
       "      <th>5</th>\n",
       "      <td>11</td>\n",
       "      <td>169</td>\n",
       "      <td>6.620073</td>\n",
       "    </tr>\n",
       "  </tbody>\n",
       "</table>\n",
       "</div>"
      ],
      "text/plain": [
       "   Years  Hits  LogSalary\n",
       "1     14    81   6.163315\n",
       "2      3   130   6.173786\n",
       "3     11   141   6.214608\n",
       "4      2    87   4.516339\n",
       "5     11   169   6.620073"
      ]
     },
     "execution_count": 5,
     "metadata": {},
     "output_type": "execute_result"
    }
   ],
   "source": [
    "hitters = pd.read_csv('../data/hitters.csv').dropna()\n",
    "hitters['LogSalary'] = np.log(hitters.Salary)\n",
    "hitters = hitters[['Years', 'Hits', 'LogSalary']]\n",
    "hitters.head()"
   ]
  },
  {
   "cell_type": "markdown",
   "metadata": {
    "deletable": true,
    "editable": true
   },
   "source": [
    "### Recursive Binary Splitting\n",
    "1.- Select the predictor $X_j$ and the cut point $s$ such that splitting the predictor space into regions $R_1(j,s) = \\{X|X_j < s\\}$ and $R_2 =(j,s) = \\{X|X_j \\geqslant s\\}$ that leads to the greatest posible reduction in RSS.\n",
    "\n",
    "$$\\sum_{i: x_i\\in R_1(j,s)} (y_i - \\hat y_{R_1})^2 + \\sum_{i: x_i\\in R_2(j,s)} (y_i - \\hat y_{R_2})^2 $$"
   ]
  },
  {
   "cell_type": "code",
   "execution_count": 9,
   "metadata": {
    "collapsed": false,
    "deletable": true,
    "editable": true
   },
   "outputs": [
    {
     "data": {
      "text/plain": [
       "(207.15373313638489, 5.9272215412213924)"
      ]
     },
     "execution_count": 9,
     "metadata": {},
     "output_type": "execute_result"
    }
   ],
   "source": [
    "# Un árbol esta definido por la siguiente estructura\n",
    "# {'left': None, 'right': None, 'df': df, 'rss': 0}\n",
    "\n",
    "def _residual_squared_sum(df, y):\n",
    "    \"\"\"\n",
    "    Calculate the residual squared sum in R, using the target y.\n",
    "    \"\"\"\n",
    "    yhat = df[y].mean()\n",
    "    rss = ((df[y] - yhat)**2).sum()\n",
    "    return rss, yhat\n",
    "\n",
    "_residual_squared_sum(hitters, 'LogSalary')"
   ]
  },
  {
   "cell_type": "markdown",
   "metadata": {
    "deletable": true,
    "editable": true
   },
   "source": [
    "2.- We repeat the process, looking for the best predictor and best cutpoint in order to split the data further so as to minimize the RSS within each of the resulting regions. However, this time, instead of splitting the entire predictor space, we split one of the two previously identified regions. We now have three regions. Again, we look to split one of these three regions further, so as to minimize the RSS. The process continues until a stopping criterion is reached; for instance, we may continue until no region contains more than five observations."
   ]
  },
  {
   "cell_type": "code",
   "execution_count": 56,
   "metadata": {
    "collapsed": false,
    "deletable": true,
    "editable": true,
    "scrolled": false
   },
   "outputs": [],
   "source": [
    "def _binary_splitting(df, y, x_j):\n",
    "    \"\"\"\n",
    "    Find the best split using the predictor x_j. \n",
    "    \"\"\"\n",
    "    cut_values = sorted(set(df[x_j]))\n",
    "    min_s = None\n",
    "    min_rss, _ = _residual_squared_sum(df, y)\n",
    "    for i in range(len(cut_values) - 1):\n",
    "        s = (cut_values[i] + cut_values[i+1]) / 2\n",
    "    \n",
    "        left_rss, _ = _residual_squared_sum(df[df[x_j] < s ] , y)\n",
    "        right_rss, _ = _residual_squared_sum(df[df[x_j] >= s] , y)\n",
    "        rss = left_rss + right_rss\n",
    "        \n",
    "        if rss < min_rss:\n",
    "            min_s = s\n",
    "            min_rss = rss\n",
    "    \n",
    "    split = {\n",
    "        'rss': min_rss,\n",
    "        's': min_s,\n",
    "        'x_j': x_j,\n",
    "        'left_df': df[df[x_j] < min_s ],\n",
    "        'right_df': df[df[x_j] >= min_s]\n",
    "    }\n",
    "    return split\n",
    "\n",
    "#_binary_splitting(hitters, 'LogSalary', 'Years')"
   ]
  },
  {
   "cell_type": "code",
   "execution_count": 58,
   "metadata": {
    "collapsed": false,
    "deletable": true,
    "editable": true
   },
   "outputs": [],
   "source": [
    "def _recursive_binary_splitting(df, y, predictors):\n",
    "    \"\"\"\n",
    "    Select the best variable to reduce the\n",
    "    residual square sum from predictors.\n",
    "    \"\"\"\n",
    "    assert(len(predictors) > 0) # You should have at least one predictor\n",
    "    min_split = _binary_splitting(df, y, predictors[0])\n",
    "    min_rss = min_split['rss']\n",
    "    for x_j in predictors[1:]:\n",
    "        split = _binary_splitting(df, y, x_j)\n",
    "        if split['rss'] < min_rss:\n",
    "            min_split = split\n",
    "            min_rss = split['rss']\n",
    "     \n",
    "    return {\n",
    "        'rss': min_rss,\n",
    "        's': min_split['s'],\n",
    "        'x_j': min_split['x_j'],\n",
    "        'left_df': min_split['left_df'],\n",
    "        'right_df': min_split['right_df']\n",
    "    }\n",
    "#_recursive_binary_splitting(hitters, 'LogSalary', ['Years', 'Hits'])"
   ]
  },
  {
   "cell_type": "code",
   "execution_count": 76,
   "metadata": {
    "collapsed": false,
    "deletable": true,
    "editable": true,
    "scrolled": true
   },
   "outputs": [
    {
     "data": {
      "text/plain": [
       "{'df':      Years  Hits  LogSalary\n",
       " 1       14    81   6.163315\n",
       " 2        3   130   6.173786\n",
       " 3       11   141   6.214608\n",
       " 4        2    87   4.516339\n",
       " 5       11   169   6.620073\n",
       " 6        2    37   4.248495\n",
       " 7        3    73   4.605170\n",
       " 8        2    81   4.317488\n",
       " 9       13    92   7.003065\n",
       " 10      10   159   6.248319\n",
       " 11       9    53   6.239301\n",
       " 12       4   113   6.309918\n",
       " 13       6    60   6.551080\n",
       " 14      13    43   5.480639\n",
       " 16      15   158   6.652863\n",
       " 17       5    46   5.164786\n",
       " 19       8    32   4.905275\n",
       " 20       1    92   4.605170\n",
       " 21       1   109   4.744932\n",
       " 23       6   116   6.396930\n",
       " 24      18   168   6.655012\n",
       " 25       6   163   6.639876\n",
       " 26       7    73   6.562914\n",
       " 27      10   129   6.620073\n",
       " 28       5   152   6.437752\n",
       " 29      14   137   6.802395\n",
       " 31       3   108   4.700480\n",
       " 33       5   168   6.417549\n",
       " 34       7    49   5.703782\n",
       " 35      14   106   6.745236\n",
       " ..     ...   ...        ...\n",
       " 287      4   213   5.857933\n",
       " 288      8   103   5.788941\n",
       " 289      4    70   5.521461\n",
       " 290      5   211   6.606650\n",
       " 291      7    68   6.052089\n",
       " 293      8   141   6.829794\n",
       " 294      4   120   5.220356\n",
       " 295      1     4   6.824374\n",
       " 296      7    43   5.658321\n",
       " 297      6    47   5.501258\n",
       " 299     17    61   5.459586\n",
       " 300      7   147   7.047517\n",
       " 301      3   138   5.075174\n",
       " 303      5   113   6.052089\n",
       " 304     10    42   6.802395\n",
       " 306     19    32   6.214608\n",
       " 307      4    69   5.625821\n",
       " 308      7   112   6.620073\n",
       " 309      2   139   5.075174\n",
       " 310      6   186   7.170120\n",
       " 311      7    81   6.263398\n",
       " 312      7   124   6.309918\n",
       " 313      5   207   7.377759\n",
       " 314      1   117   4.787492\n",
       " 315      1   172   5.105945\n",
       " 317      5   127   6.551080\n",
       " 318     12   136   6.774224\n",
       " 319      6   126   5.953243\n",
       " 320      8   144   6.866933\n",
       " 321     11   170   6.907755\n",
       " \n",
       " [263 rows x 3 columns], 'left': {'df':      Years  Hits  LogSalary\n",
       "  2        3   130   6.173786\n",
       "  4        2    87   4.516339\n",
       "  6        2    37   4.248495\n",
       "  7        3    73   4.605170\n",
       "  8        2    81   4.317488\n",
       "  12       4   113   6.309918\n",
       "  20       1    92   4.605170\n",
       "  21       1   109   4.744932\n",
       "  31       3   108   4.700480\n",
       "  37       2    60   4.499810\n",
       "  40       2    41   4.212128\n",
       "  43       4    46   5.192957\n",
       "  46       3   132   5.370638\n",
       "  51       2    53   4.248495\n",
       "  56       4    58   5.828946\n",
       "  60       1   113   4.499810\n",
       "  62       4    56   5.438079\n",
       "  63       4    53   5.416100\n",
       "  67       3    53   4.317488\n",
       "  68       4   142   4.653960\n",
       "  76       4    97   5.347108\n",
       "  79       4    96   5.616771\n",
       "  87       2    82   4.700480\n",
       "  89       4   114   6.163315\n",
       "  91       4   123   7.106606\n",
       "  92       1    78   4.248495\n",
       "  93       3   138   4.976734\n",
       "  98       3   115   5.703782\n",
       "  109      1    51   4.248495\n",
       "  113      3   152   5.370638\n",
       "  ..     ...   ...        ...\n",
       "  220      3    75   4.941642\n",
       "  221      4   167   5.347108\n",
       "  223      4    76   5.480639\n",
       "  226      2   137   5.164786\n",
       "  227      2   152   5.298317\n",
       "  231      4   163   6.620073\n",
       "  233      1   135   5.147494\n",
       "  244      3   108   5.370638\n",
       "  259      1    68   4.248495\n",
       "  261      4    27   5.247024\n",
       "  264      4    86   5.521461\n",
       "  265      3    57   4.941642\n",
       "  266      1   101   4.579852\n",
       "  268      1   149   4.941642\n",
       "  273      3    66   4.499810\n",
       "  274      4   140   5.298317\n",
       "  275      2   112   4.905275\n",
       "  276      2   145   5.043425\n",
       "  279      4    96   5.010635\n",
       "  280      2   103   4.653960\n",
       "  281      4   122   5.857933\n",
       "  287      4   213   5.857933\n",
       "  289      4    70   5.521461\n",
       "  294      4   120   5.220356\n",
       "  295      1     4   6.824374\n",
       "  301      3   138   5.075174\n",
       "  307      4    69   5.625821\n",
       "  309      2   139   5.075174\n",
       "  314      1   117   4.787492\n",
       "  315      1   172   5.105945\n",
       "  \n",
       "  [90 rows x 3 columns],\n",
       "  'left': None,\n",
       "  'right': None,\n",
       "  'rss': 42.35316520705927,\n",
       "  'y': 'LogSalary',\n",
       "  'yhat': 5.1067896059973705}, 'right': {'df':      Years  Hits  LogSalary\n",
       "  1       14    81   6.163315\n",
       "  3       11   141   6.214608\n",
       "  5       11   169   6.620073\n",
       "  9       13    92   7.003065\n",
       "  10      10   159   6.248319\n",
       "  11       9    53   6.239301\n",
       "  13       6    60   6.551080\n",
       "  14      13    43   5.480639\n",
       "  16      15   158   6.652863\n",
       "  17       5    46   5.164786\n",
       "  19       8    32   4.905275\n",
       "  23       6   116   6.396930\n",
       "  24      18   168   6.655012\n",
       "  25       6   163   6.639876\n",
       "  26       7    73   6.562914\n",
       "  27      10   129   6.620073\n",
       "  28       5   152   6.437752\n",
       "  29      14   137   6.802395\n",
       "  33       5   168   6.417549\n",
       "  34       7    49   5.703782\n",
       "  35      14   106   6.745236\n",
       "  45       6    68   5.720312\n",
       "  47       5    57   5.511411\n",
       "  49       6   146   6.703188\n",
       "  50      17   101   6.774224\n",
       "  53       9   168   7.090077\n",
       "  54      12   101   6.514713\n",
       "  55       6   102   6.028279\n",
       "  58      12    78   6.032287\n",
       "  59       6   177   7.207860\n",
       "  ..     ...   ...        ...\n",
       "  269     10    63   5.833837\n",
       "  271     13   163   6.907755\n",
       "  272      6   117   4.605170\n",
       "  277      6   159   6.163315\n",
       "  278     18   142   7.279319\n",
       "  282      6   210   4.499810\n",
       "  284      8   169   6.272877\n",
       "  285      8    76   5.833837\n",
       "  286      6   152   6.845880\n",
       "  288      8   103   5.788941\n",
       "  290      5   211   6.606650\n",
       "  291      7    68   6.052089\n",
       "  293      8   141   6.829794\n",
       "  296      7    43   5.658321\n",
       "  297      6    47   5.501258\n",
       "  299     17    61   5.459586\n",
       "  300      7   147   7.047517\n",
       "  303      5   113   6.052089\n",
       "  304     10    42   6.802395\n",
       "  306     19    32   6.214608\n",
       "  308      7   112   6.620073\n",
       "  310      6   186   7.170120\n",
       "  311      7    81   6.263398\n",
       "  312      7   124   6.309918\n",
       "  313      5   207   7.377759\n",
       "  317      5   127   6.551080\n",
       "  318     12   136   6.774224\n",
       "  319      6   126   5.953243\n",
       "  320      8   144   6.866933\n",
       "  321     11   170   6.907755\n",
       "  \n",
       "  [173 rows x 3 columns], 'left': {'df':      Years  Hits  LogSalary\n",
       "   1       14    81   6.163315\n",
       "   9       13    92   7.003065\n",
       "   11       9    53   6.239301\n",
       "   13       6    60   6.551080\n",
       "   14      13    43   5.480639\n",
       "   17       5    46   5.164786\n",
       "   19       8    32   4.905275\n",
       "   23       6   116   6.396930\n",
       "   26       7    73   6.562914\n",
       "   34       7    49   5.703782\n",
       "   35      14   106   6.745236\n",
       "   45       6    68   5.720312\n",
       "   47       5    57   5.511411\n",
       "   50      17   101   6.774224\n",
       "   54      12   101   6.514713\n",
       "   55       6   102   6.028279\n",
       "   58      12    78   6.032287\n",
       "   61      16    44   5.616771\n",
       "   70      17    81   5.768321\n",
       "   78       6   103   5.783825\n",
       "   81      15    70   6.109248\n",
       "   85       9    83   6.396930\n",
       "   88      16    41   5.560682\n",
       "   90       5    83   6.067268\n",
       "   99       7   110   6.194405\n",
       "   102      8    49   5.926926\n",
       "   111      5    76   5.953243\n",
       "   117     16    77   6.551080\n",
       "   118      9    94   6.282267\n",
       "   119      8    85   5.893024\n",
       "   ..     ...   ...        ...\n",
       "   232     14    83   6.109248\n",
       "   236     24    52   6.620073\n",
       "   237      5    56   5.247024\n",
       "   239      5    72   4.867534\n",
       "   240     12    77   6.109248\n",
       "   241      5    96   5.703782\n",
       "   242     12    56   5.521461\n",
       "   243     16    70   6.956545\n",
       "   245     18    68   5.991465\n",
       "   247      9   110   6.327937\n",
       "   249     20   101   6.189290\n",
       "   251      5    82   6.052089\n",
       "   255      6    76   5.521461\n",
       "   256     12    52   5.991465\n",
       "   257     10    90   6.109248\n",
       "   262      6    68   5.252273\n",
       "   267     12   113   6.606650\n",
       "   269     10    63   5.833837\n",
       "   272      6   117   4.605170\n",
       "   285      8    76   5.833837\n",
       "   288      8   103   5.788941\n",
       "   291      7    68   6.052089\n",
       "   296      7    43   5.658321\n",
       "   297      6    47   5.501258\n",
       "   299     17    61   5.459586\n",
       "   303      5   113   6.052089\n",
       "   304     10    42   6.802395\n",
       "   306     19    32   6.214608\n",
       "   308      7   112   6.620073\n",
       "   311      7    81   6.263398\n",
       "   \n",
       "   [90 rows x 3 columns],\n",
       "   'left': None,\n",
       "   'right': None,\n",
       "   'rss': 28.093708499473728,\n",
       "   'y': 'LogSalary',\n",
       "   'yhat': 5.9983798474087635}, 'right': {'df':      Years  Hits  LogSalary\n",
       "   3       11   141   6.214608\n",
       "   5       11   169   6.620073\n",
       "   10      10   159   6.248319\n",
       "   16      15   158   6.652863\n",
       "   24      18   168   6.655012\n",
       "   25       6   163   6.639876\n",
       "   27      10   129   6.620073\n",
       "   28       5   152   6.437752\n",
       "   29      14   137   6.802395\n",
       "   33       5   168   6.417549\n",
       "   49       6   146   6.703188\n",
       "   53       9   168   7.090077\n",
       "   59       6   177   7.207860\n",
       "   65      17   139   6.856462\n",
       "   72      14   131   6.745236\n",
       "   73      18   122   6.282267\n",
       "   74      15   137   6.838762\n",
       "   75       9   119   6.745236\n",
       "   82       5   238   7.588324\n",
       "   84      11   163   7.549609\n",
       "   86      14   174   6.948578\n",
       "   95      12   119   6.388561\n",
       "   96      14   148   7.529116\n",
       "   100     10   151   7.807917\n",
       "   107     14   154   6.620073\n",
       "   108      5   198   7.069023\n",
       "   110     14   128   7.313220\n",
       "   112     13   125   7.562978\n",
       "   115      6   171   6.802395\n",
       "   122      5   139   5.991465\n",
       "   ..     ...   ...        ...\n",
       "   200     10   157   6.040255\n",
       "   202      5   179   6.354370\n",
       "   204      7   131   6.659294\n",
       "   207     13   148   6.551080\n",
       "   209      6   131   6.309918\n",
       "   229      9   144   7.570443\n",
       "   234      9   123   7.138867\n",
       "   238      6   154   6.363028\n",
       "   248      8   160   7.420579\n",
       "   252     11   145   6.214608\n",
       "   258      9   135   6.620073\n",
       "   260      7   119   6.774224\n",
       "   263      6   178   6.606650\n",
       "   271     13   163   6.907755\n",
       "   277      6   159   6.163315\n",
       "   278     18   142   7.279319\n",
       "   282      6   210   4.499810\n",
       "   284      8   169   6.272877\n",
       "   286      6   152   6.845880\n",
       "   290      5   211   6.606650\n",
       "   293      8   141   6.829794\n",
       "   300      7   147   7.047517\n",
       "   310      6   186   7.170120\n",
       "   312      7   124   6.309918\n",
       "   313      5   207   7.377759\n",
       "   317      5   127   6.551080\n",
       "   318     12   136   6.774224\n",
       "   319      6   126   5.953243\n",
       "   320      8   144   6.866933\n",
       "   321     11   170   6.907755\n",
       "   \n",
       "   [83 rows x 3 columns],\n",
       "   'left': None,\n",
       "   'right': None,\n",
       "   'rss': 20.883073995027043,\n",
       "   'y': 'LogSalary',\n",
       "   'yhat': 6.7396869221045108}, 'rss': 72.705309992101576, 's': 117.5, 'x_j': 'Hits', 'y': 'LogSalary', 'yhat': 6.3540358427830235}, 'rss': 207.15373313638489, 's': 4.5, 'x_j': 'Years', 'y': 'LogSalary', 'yhat': 5.9272215412213924}"
      ]
     },
     "execution_count": 76,
     "metadata": {},
     "output_type": "execute_result"
    }
   ],
   "source": [
    "def _make_tree(df, y):\n",
    "    rss, yhat = _residual_squared_sum(df, y)\n",
    "    return {'left': None, 'right':None, \n",
    "            'rss': rss,\n",
    "            'yhat': yhat,\n",
    "            'df': df,\n",
    "            'y': y}\n",
    "\n",
    "def _grow_tree(tree, predictors, min_points_per_leaf=5):\n",
    "    \"\"\"\n",
    "    Recursively divide tree using the split that\n",
    "    minimize rss. It stops when the region have\n",
    "    less than 5 elements.\n",
    "    \"\"\"\n",
    "    if len(tree['df']) <= min_points_per_leaf:\n",
    "        return tree\n",
    "    \n",
    "    split = _recursive_binary_splitting(tree['df'], tree['y'], predictors)\n",
    "    left_tree = _make_tree(split['left_df'], tree['y'])\n",
    "    right_tree = _make_tree(split['right_df'], tree['y'])\n",
    "\n",
    "    _grow_tree(left_tree, predictors, min_points_per_leaf=min_points_per_leaf)\n",
    "    _grow_tree(right_tree, predictors, min_points_per_leaf=min_points_per_leaf)\n",
    "    \n",
    "    tree['left'] = left_tree\n",
    "    tree['right'] = right_tree\n",
    "    tree['x_j'] = split['x_j']\n",
    "    tree['s'] = split['s']\n",
    "    \n",
    "    return tree\n",
    "\n",
    "hitters_tree = _make_tree(hitters, 'LogSalary')\n",
    "_grow_tree(hitters_tree, ['Years', 'Hits'], min_points_per_leaf=100)"
   ]
  },
  {
   "cell_type": "markdown",
   "metadata": {
    "deletable": true,
    "editable": true
   },
   "source": [
    "3.- Once the regions $R_1,...,R_J$ have been created,we predict the response for a given test observation using the mean of the training observations in the region to which that test observation belongs."
   ]
  },
  {
   "cell_type": "code",
   "execution_count": 84,
   "metadata": {
    "collapsed": false,
    "deletable": true,
    "editable": true
   },
   "outputs": [
    {
     "data": {
      "text/plain": [
       "5.9983798474087635"
      ]
     },
     "execution_count": 84,
     "metadata": {},
     "output_type": "execute_result"
    }
   ],
   "source": [
    "def _evaluate(tree, event):\n",
    "    if tree['left'] == None and tree['right'] == None:\n",
    "        return tree['yhat']\n",
    "    if event[tree['x_j']] < tree['s']:\n",
    "        return _evaluate(tree['left'], event)\n",
    "    else:\n",
    "        return _evaluate(tree['right'], event)\n",
    "\n",
    "_evaluate(hitters_tree, hitters.iloc[0])"
   ]
  },
  {
   "cell_type": "code",
   "execution_count": 85,
   "metadata": {
    "collapsed": false
   },
   "outputs": [
    {
     "data": {
      "text/plain": [
       "Years        14.000000\n",
       "Hits         81.000000\n",
       "LogSalary     6.163315\n",
       "Name: 1, dtype: float64"
      ]
     },
     "execution_count": 85,
     "metadata": {},
     "output_type": "execute_result"
    }
   ],
   "source": [
    "hitters.iloc[0]"
   ]
  },
  {
   "cell_type": "markdown",
   "metadata": {
    "deletable": true,
    "editable": true
   },
   "source": [
    "## Tree Pruning\n",
    "Cost complexity:\n",
    "\n",
    "For each value of $\\alpha$ there corresponds a subtree $T \\subset T_0$ such that\n",
    "\n",
    "$$\\sum_{m=1}^T \\sum_{i: x_i \\in R_m} (y_i - \\hat y_{R_m})^2 + \\alpha |T|$$\n",
    "\n",
    "is as small as possible. $|T|$ indicates the number of terminal nodes of the tree $T$, $R_m$ is the rectangle (i.e. the subset of predictor space) corresponding to the $m$th terminal node, and $\\hat y_{R_m}$ is the predicted response associated with $R_m$. \n"
   ]
  },
  {
   "cell_type": "markdown",
   "metadata": {
    "deletable": true,
    "editable": true
   },
   "source": [
    "1.- Calculate the total rss of a tree."
   ]
  },
  {
   "cell_type": "code",
   "execution_count": null,
   "metadata": {
    "collapsed": false,
    "deletable": true,
    "editable": true
   },
   "outputs": [],
   "source": [
    "def _is_leaf(tree):\n",
    "    \"\"\"\n",
    "    Return if a given tree is a leaf.\n",
    "    \"\"\"\n",
    "    return True\n",
    "\n",
    "def _tree_rss(tree):\n",
    "    \"\"\"\n",
    "    Calculate the total rss of a tree: the sum of the rss of\n",
    "    all leaves.\n",
    "    \"\"\"\n",
    "    rss = 0\n",
    "    return rss\n",
    "\n",
    "_tree_rss(hitters_tree)"
   ]
  },
  {
   "cell_type": "markdown",
   "metadata": {
    "deletable": true,
    "editable": true
   },
   "source": [
    "2.- Count the number of leaves in the tree."
   ]
  },
  {
   "cell_type": "code",
   "execution_count": null,
   "metadata": {
    "collapsed": false,
    "deletable": true,
    "editable": true
   },
   "outputs": [],
   "source": [
    "def _count_leafs(tree):\n",
    "    \"\"\"\n",
    "    Return the number of leaves in the tree.\n",
    "    \"\"\"\n",
    "    leafs = 0\n",
    "    return leafs\n",
    "\n",
    "_count_leafs(hitters_tree)"
   ]
  },
  {
   "cell_type": "markdown",
   "metadata": {
    "deletable": true,
    "editable": true
   },
   "source": [
    "3.- Calculate the cost complexity of the tree."
   ]
  },
  {
   "cell_type": "code",
   "execution_count": null,
   "metadata": {
    "collapsed": true,
    "deletable": true,
    "editable": true
   },
   "outputs": [],
   "source": []
  },
  {
   "cell_type": "markdown",
   "metadata": {
    "deletable": true,
    "editable": true
   },
   "source": [
    "4.- Find the banch that if removed increase the tree rss the least."
   ]
  },
  {
   "cell_type": "code",
   "execution_count": null,
   "metadata": {
    "collapsed": false,
    "deletable": true,
    "editable": true
   },
   "outputs": [],
   "source": [
    "def _is_last_branch(tree):\n",
    "    \"\"\"\n",
    "    Return if a given tree is the last branch, i.e. both \n",
    "    subtrees are leaves.\n",
    "    \"\"\"\n",
    "    return True\n",
    "\n",
    "def _find_min_deltarss(tree):\n",
    "    \"\"\"\n",
    "    Find the tree that reduces for which the split reduces\n",
    "    the least the rss.\n",
    "    \"\"\"\n",
    "    min_deltarss = 0\n",
    "    min_tree = tree\n",
    "    return min_deltarss, min_tree\n",
    "\n",
    "_find_min_deltarss(hitters_tree)"
   ]
  },
  {
   "cell_type": "markdown",
   "metadata": {
    "deletable": true,
    "editable": true
   },
   "source": [
    "5.- Remove one by one the `min_deltarss` branch until the tree is a single leaf, while calculating the cost complexity. Return the tree that minimizes the cost complexity."
   ]
  },
  {
   "cell_type": "code",
   "execution_count": null,
   "metadata": {
    "collapsed": false,
    "deletable": true,
    "editable": true
   },
   "outputs": [],
   "source": [
    "from copy import deepcopy\n",
    "\n",
    "def _prune_tree(tree, alpha):\n",
    "    min_cc_tree = deepcopy(tree)\n",
    "    return min_cc_tree\n",
    "\n",
    "_prune_tree(hitters_tree, 0.1)"
   ]
  },
  {
   "cell_type": "code",
   "execution_count": null,
   "metadata": {
    "collapsed": true,
    "deletable": true,
    "editable": true
   },
   "outputs": [],
   "source": []
  },
  {
   "cell_type": "markdown",
   "metadata": {
    "deletable": true,
    "editable": true
   },
   "source": [
    "# Visualización"
   ]
  },
  {
   "cell_type": "code",
   "execution_count": 86,
   "metadata": {
    "collapsed": false,
    "deletable": true,
    "editable": true
   },
   "outputs": [],
   "source": [
    "import graphviz\n",
    "from IPython import display\n",
    "\n",
    "def make_node(g, name, tree):\n",
    "    attributes = {'label': 'rss: {:0.2f}'.format(tree['rss']),\n",
    "                  'shape': 'square'}\n",
    "    if tree.get('yhat'):\n",
    "        attributes['label'] += '\\n yhat: {:0.2f}'.format(tree['yhat'])\n",
    "    g.node(name, **attributes)\n",
    "    \n",
    "def make_edge(g, parent, child, tree, direction):\n",
    "    attributes = {}\n",
    "    if direction == 'l':\n",
    "        attributes['label'] = '{} < {}'.format(tree['x_j'], tree['s'])\n",
    "    if direction == 'r':\n",
    "        attributes['label'] = '{} >= {}'.format(tree['x_j'], tree['s'])\n",
    "    g.edge(parent, child, **attributes)\n",
    "    \n",
    "\n",
    "def construct_tree(g, dna, tree):\n",
    "    if not tree['left'] and not tree['right']:\n",
    "        make_node(g, dna, tree)\n",
    "    else:\n",
    "        make_node(g, dna + 'l', tree['left'])\n",
    "        make_edge(g, dna, dna + 'l', tree, 'l')\n",
    "        construct_tree(g, dna + 'l', tree['left'])\n",
    "\n",
    "        make_node(g, dna + 'r', tree['right'])\n",
    "        make_edge(g, dna, dna + 'r', tree, 'r')\n",
    "        construct_tree(g, dna + 'r', tree['right'])\n",
    "        \n",
    "def visualize_tree(tree):\n",
    "    g = graphviz.Graph('tree', 'tree.dot', engine='dot')\n",
    "    make_node(g, 'r', tree)\n",
    "    construct_tree(g, 'r', tree)\n",
    "    display.display(g)\n"
   ]
  },
  {
   "cell_type": "code",
   "execution_count": 87,
   "metadata": {
    "collapsed": false,
    "deletable": true,
    "editable": true,
    "scrolled": false
   },
   "outputs": [
    {
     "data": {
      "image/svg+xml": [
       "<?xml version=\"1.0\" encoding=\"UTF-8\" standalone=\"no\"?>\n",
       "<!DOCTYPE svg PUBLIC \"-//W3C//DTD SVG 1.1//EN\"\n",
       " \"http://www.w3.org/Graphics/SVG/1.1/DTD/svg11.dtd\">\n",
       "<!-- Generated by graphviz version 2.40.1 (20161225.0304)\n",
       " -->\n",
       "<!-- Title: tree Pages: 1 -->\n",
       "<svg width=\"244pt\" height=\"336pt\"\n",
       " viewBox=\"0.00 0.00 243.61 336.43\" xmlns=\"http://www.w3.org/2000/svg\" xmlns:xlink=\"http://www.w3.org/1999/xlink\">\n",
       "<g id=\"graph0\" class=\"graph\" transform=\"scale(1 1) rotate(0) translate(4 332.4346)\">\n",
       "<title>tree</title>\n",
       "<polygon fill=\"#ffffff\" stroke=\"transparent\" points=\"-4,4 -4,-332.4346 239.6064,-332.4346 239.6064,4 -4,4\"/>\n",
       "<!-- r -->\n",
       "<g id=\"node1\" class=\"node\">\n",
       "<title>r</title>\n",
       "<polygon fill=\"none\" stroke=\"#000000\" points=\"119.4398,-328.66 41.5407,-328.66 41.5407,-250.7609 119.4398,-250.7609 119.4398,-328.66\"/>\n",
       "<text text-anchor=\"middle\" x=\"80.4902\" y=\"-292.5104\" font-family=\"Times,serif\" font-size=\"14.00\" fill=\"#000000\">rss: 207.15</text>\n",
       "<text text-anchor=\"middle\" x=\"80.4902\" y=\"-278.5104\" font-family=\"Times,serif\" font-size=\"14.00\" fill=\"#000000\"> yhat: 5.93</text>\n",
       "</g>\n",
       "<!-- rl -->\n",
       "<g id=\"node2\" class=\"node\">\n",
       "<title>rl</title>\n",
       "<polygon fill=\"none\" stroke=\"#000000\" points=\"74.9707,-200.7202 .0098,-200.7202 .0098,-125.7593 74.9707,-125.7593 74.9707,-200.7202\"/>\n",
       "<text text-anchor=\"middle\" x=\"37.4902\" y=\"-166.0397\" font-family=\"Times,serif\" font-size=\"14.00\" fill=\"#000000\">rss: 42.35</text>\n",
       "<text text-anchor=\"middle\" x=\"37.4902\" y=\"-152.0397\" font-family=\"Times,serif\" font-size=\"14.00\" fill=\"#000000\"> yhat: 5.11</text>\n",
       "</g>\n",
       "<!-- r&#45;&#45;rl -->\n",
       "<g id=\"edge1\" class=\"edge\">\n",
       "<title>r&#45;&#45;rl</title>\n",
       "<path fill=\"none\" stroke=\"#000000\" d=\"M50.1715,-250.8636C46.8532,-245.1168 43.9272,-239.0737 41.8408,-232.9863 38.3792,-222.8867 36.7833,-211.489 36.1796,-200.8791\"/>\n",
       "<text text-anchor=\"middle\" x=\"74.3149\" y=\"-221.7863\" font-family=\"Times,serif\" font-size=\"14.00\" fill=\"#000000\">Years &lt; 4.5</text>\n",
       "</g>\n",
       "<!-- rr -->\n",
       "<g id=\"node3\" class=\"node\">\n",
       "<title>rr</title>\n",
       "<polygon fill=\"none\" stroke=\"#000000\" points=\"168.485,-201.2345 92.4954,-201.2345 92.4954,-125.245 168.485,-125.245 168.485,-201.2345\"/>\n",
       "<text text-anchor=\"middle\" x=\"130.4902\" y=\"-166.0397\" font-family=\"Times,serif\" font-size=\"14.00\" fill=\"#000000\">rss: 72.71</text>\n",
       "<text text-anchor=\"middle\" x=\"130.4902\" y=\"-152.0397\" font-family=\"Times,serif\" font-size=\"14.00\" fill=\"#000000\"> yhat: 6.35</text>\n",
       "</g>\n",
       "<!-- r&#45;&#45;rr -->\n",
       "<g id=\"edge2\" class=\"edge\">\n",
       "<title>r&#45;&#45;rr</title>\n",
       "<path fill=\"none\" stroke=\"#000000\" d=\"M98.0706,-250.8063C100.6287,-244.866 103.177,-238.7838 105.4902,-232.9863 109.5898,-222.7117 113.7564,-211.4692 117.4822,-201.0686\"/>\n",
       "<text text-anchor=\"middle\" x=\"146.2627\" y=\"-221.7863\" font-family=\"Times,serif\" font-size=\"14.00\" fill=\"#000000\">Years &gt;= 4.5</text>\n",
       "</g>\n",
       "<!-- rrl -->\n",
       "<g id=\"node4\" class=\"node\">\n",
       "<title>rrl</title>\n",
       "<polygon fill=\"none\" stroke=\"#000000\" points=\"121.485,-75.7414 45.4954,-75.7414 45.4954,.2482 121.485,.2482 121.485,-75.7414\"/>\n",
       "<text text-anchor=\"middle\" x=\"83.4902\" y=\"-40.5466\" font-family=\"Times,serif\" font-size=\"14.00\" fill=\"#000000\">rss: 28.09</text>\n",
       "<text text-anchor=\"middle\" x=\"83.4902\" y=\"-26.5466\" font-family=\"Times,serif\" font-size=\"14.00\" fill=\"#000000\"> yhat: 6.00</text>\n",
       "</g>\n",
       "<!-- rr&#45;&#45;rrl -->\n",
       "<g id=\"edge3\" class=\"edge\">\n",
       "<title>rr&#45;&#45;rrl</title>\n",
       "<path fill=\"none\" stroke=\"#000000\" d=\"M92.6958,-127.6686C88.032,-121.4195 83.9647,-114.6178 81.2695,-107.4932 77.4974,-97.5217 76.581,-86.164 77.0028,-75.5515\"/>\n",
       "<text text-anchor=\"middle\" x=\"116.1006\" y=\"-96.2932\" font-family=\"Times,serif\" font-size=\"14.00\" fill=\"#000000\">Hits &lt; 117.5</text>\n",
       "</g>\n",
       "<!-- rrr -->\n",
       "<g id=\"node5\" class=\"node\">\n",
       "<title>rrr</title>\n",
       "<polygon fill=\"none\" stroke=\"#000000\" points=\"214.485,-75.7414 138.4954,-75.7414 138.4954,.2482 214.485,.2482 214.485,-75.7414\"/>\n",
       "<text text-anchor=\"middle\" x=\"176.4902\" y=\"-40.5466\" font-family=\"Times,serif\" font-size=\"14.00\" fill=\"#000000\">rss: 20.88</text>\n",
       "<text text-anchor=\"middle\" x=\"176.4902\" y=\"-26.5466\" font-family=\"Times,serif\" font-size=\"14.00\" fill=\"#000000\"> yhat: 6.74</text>\n",
       "</g>\n",
       "<!-- rr&#45;&#45;rrr -->\n",
       "<g id=\"edge4\" class=\"edge\">\n",
       "<title>rr&#45;&#45;rrr</title>\n",
       "<path fill=\"none\" stroke=\"#000000\" d=\"M147.4037,-125.3632C149.8803,-119.4222 152.3232,-113.3201 154.4902,-107.4932 158.2964,-97.2587 162.028,-86.0293 165.3057,-75.6285\"/>\n",
       "<text text-anchor=\"middle\" x=\"197.0483\" y=\"-96.2932\" font-family=\"Times,serif\" font-size=\"14.00\" fill=\"#000000\">Hits &gt;= 117.5</text>\n",
       "</g>\n",
       "</g>\n",
       "</svg>\n"
      ],
      "text/plain": [
       "<graphviz.dot.Graph at 0x11353e710>"
      ]
     },
     "metadata": {},
     "output_type": "display_data"
    }
   ],
   "source": [
    "visualize_tree(hitters_tree)"
   ]
  },
  {
   "cell_type": "code",
   "execution_count": null,
   "metadata": {
    "collapsed": true
   },
   "outputs": [],
   "source": []
  }
 ],
 "metadata": {
  "kernelspec": {
   "display_name": "Python 3",
   "language": "python",
   "name": "python3"
  },
  "language_info": {
   "codemirror_mode": {
    "name": "ipython",
    "version": 3
   },
   "file_extension": ".py",
   "mimetype": "text/x-python",
   "name": "python",
   "nbconvert_exporter": "python",
   "pygments_lexer": "ipython3",
   "version": "3.6.1"
  }
 },
 "nbformat": 4,
 "nbformat_minor": 2
}
