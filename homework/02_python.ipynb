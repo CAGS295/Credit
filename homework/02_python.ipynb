{
 "cells": [
  {
   "cell_type": "markdown",
   "metadata": {},
   "source": [
    "# Python"
   ]
  },
  {
   "cell_type": "markdown",
   "metadata": {},
   "source": [
    "1 Defina una función `max()` que toma dos números y regresa el mayor. Utilice la construccón `if-then-else` disponible en python. (Es cierto que Python tiene la función `max()` ya definida, pero escribirla es un buen ejercicio."
   ]
  },
  {
   "cell_type": "code",
   "execution_count": 2,
   "metadata": {},
   "outputs": [
    {
     "data": {
      "text/plain": [
       "6"
      ]
     },
     "execution_count": 2,
     "metadata": {},
     "output_type": "execute_result"
    }
   ],
   "source": [
    "def maxi(lista):\n",
    "    a=lista[0]\n",
    "    for i,elm in enumerate(lista):\n",
    "        #print(lista[i])\n",
    "        if(elm>a):\n",
    "            a=lista[i]\n",
    "    return a\n",
    "\n",
    "max([3,4,5,6])"
   ]
  },
  {
   "cell_type": "markdown",
   "metadata": {},
   "source": [
    "2 Defina una función `max_of_three()` que tome tres números como argumenos y regrese el mayor de ellos."
   ]
  },
  {
   "cell_type": "code",
   "execution_count": 3,
   "metadata": {},
   "outputs": [
    {
     "data": {
      "text/plain": [
       "6"
      ]
     },
     "execution_count": 3,
     "metadata": {},
     "output_type": "execute_result"
    }
   ],
   "source": [
    "def max(lista):\n",
    "    a=lista[0]\n",
    "    for i,elm in enumerate(lista):\n",
    "        #print(lista[i])\n",
    "        if(elm>a):\n",
    "            a=lista[i]\n",
    "    return a\n",
    "\n",
    "max([3,4,5,6])"
   ]
  },
  {
   "cell_type": "markdown",
   "metadata": {},
   "source": [
    "3 Defina una función que calcule la longitud de una lista o cadena. (No utilice la función `len()`)"
   ]
  },
  {
   "cell_type": "code",
   "execution_count": 4,
   "metadata": {},
   "outputs": [
    {
     "data": {
      "text/plain": [
       "3"
      ]
     },
     "execution_count": 4,
     "metadata": {},
     "output_type": "execute_result"
    }
   ],
   "source": [
    "def longitud(lista):\n",
    "    count=0\n",
    "    for it in lista:\n",
    "        #print(it)\n",
    "        count+=1\n",
    "    return count\n",
    "\n",
    "longitud([1,2,3])"
   ]
  },
  {
   "cell_type": "markdown",
   "metadata": {},
   "source": [
    "4 Escriba una función que tome un caractér (una cadena de longitud 1) y regrese `True` si es una vocal y `False` de lo contrario."
   ]
  },
  {
   "cell_type": "code",
   "execution_count": 5,
   "metadata": {},
   "outputs": [
    {
     "data": {
      "text/plain": [
       "True"
      ]
     },
     "execution_count": 5,
     "metadata": {},
     "output_type": "execute_result"
    }
   ],
   "source": [
    "def vocal(char):\n",
    "    vowels=['a','e','i','o','u']\n",
    "    if(char in vowels):\n",
    "        return True\n",
    "    else:\n",
    "        return False\n",
    "    \n",
    "vocal('a')"
   ]
  },
  {
   "cell_type": "markdown",
   "metadata": {},
   "source": [
    "5 Escriba una función `translate()` que tradusca un texto en _rövarspråket_ (Sueco para el lenguaje de ladrones): Duplique cada consonante y coloque una \"o\" en medio. Por ejemplo, `translate('this is fun')` debe regresar la cadena'tothohisos isos fofunon'."
   ]
  },
  {
   "cell_type": "code",
   "execution_count": 6,
   "metadata": {},
   "outputs": [
    {
     "data": {
      "text/plain": [
       "'roröoövovarorsospoproråoåkoketot'"
      ]
     },
     "execution_count": 6,
     "metadata": {},
     "output_type": "execute_result"
    }
   ],
   "source": [
    "def translate(chars):\n",
    "    string=''\n",
    "    for i,char in enumerate(chars):        \n",
    "        if(vocal(char) or char == ' '):\n",
    "            string+=char\n",
    "        else:\n",
    "            string+=char\n",
    "            string+='o'\n",
    "            string+=char\n",
    "    return string\n",
    "translate('rövarspråket')"
   ]
  },
  {
   "cell_type": "markdown",
   "metadata": {},
   "source": [
    "6 Defina una función `sum()` y una función `multiply()` que sume y multiplique (respectivamente) todos los números en una lista de números. Por ejemplo, `sum([1,2,3,4])` debe regresar `10`, y `multiply([1,2,3,4])` debe regresar `24`."
   ]
  },
  {
   "cell_type": "code",
   "execution_count": 7,
   "metadata": {},
   "outputs": [
    {
     "data": {
      "text/plain": [
       "120"
      ]
     },
     "execution_count": 7,
     "metadata": {},
     "output_type": "execute_result"
    }
   ],
   "source": [
    "def suma(list):\n",
    "    cuenta = 0\n",
    "    for i,enu in enumerate(list):\n",
    "        cuenta += list[i]\n",
    "    return cuenta\n",
    "\n",
    "\n",
    "def multi(list):\n",
    "    cuenta = 1\n",
    "    for i,enu in enumerate(list):\n",
    "        cuenta *= list[i]\n",
    "    return cuenta\n",
    "\n",
    "\n",
    "suma([1,2,3,4,5])\n",
    "multi([1,2,3,4,5])"
   ]
  },
  {
   "cell_type": "markdown",
   "metadata": {},
   "source": [
    "7 Defina una función `reverse()` que regrese una cadena al revéz. Por ejemplo, `reverse('I am testing')` debe regresar la cadena `gnitset ma I`"
   ]
  },
  {
   "cell_type": "code",
   "execution_count": 8,
   "metadata": {},
   "outputs": [
    {
     "data": {
      "text/plain": [
       "'gnitset ma I'"
      ]
     },
     "execution_count": 8,
     "metadata": {},
     "output_type": "execute_result"
    }
   ],
   "source": [
    "import numpy as n\n",
    "def reverse(string):\n",
    "    reversed = ''\n",
    "    size= longitud(string)\n",
    "    for i in n.arange(0,size)[::-1]:\n",
    "        #print(i)\n",
    "        reversed += string[i] \n",
    "    return reversed\n",
    "\n",
    "reverse('I am testing')\n",
    "        \n",
    "    "
   ]
  },
  {
   "cell_type": "markdown",
   "metadata": {},
   "source": [
    "8 Defina una funcion `is_palindrome()` que distinga palndromos (es decir, palabras que se vean igual si se escriben al revéz). Por ejemplo, `is_palindrome('radar')` debe regresar `True`"
   ]
  },
  {
   "cell_type": "code",
   "execution_count": 9,
   "metadata": {},
   "outputs": [
    {
     "data": {
      "text/plain": [
       "True"
      ]
     },
     "execution_count": 9,
     "metadata": {},
     "output_type": "execute_result"
    }
   ],
   "source": [
    "def is_palindrome(string):\n",
    "    if(string == reverse(string)): return True\n",
    "    return False\n",
    "\n",
    "is_palindrome('radar')    "
   ]
  },
  {
   "cell_type": "markdown",
   "metadata": {},
   "source": [
    "9 Escriba una función `is_member()` que tome un valor (un número, una cadena, etc.) `x` y una lista de valores `a`, y regrese `True` si `x` is un elemento de `a` y `False` en caso contrario. (Note que esto es exactamente lo que el operador `in` hace, pero para este ejercicio debe pretender que Python no tiene este operador)"
   ]
  },
  {
   "cell_type": "code",
   "execution_count": 10,
   "metadata": {},
   "outputs": [
    {
     "data": {
      "text/plain": [
       "True"
      ]
     },
     "execution_count": 10,
     "metadata": {},
     "output_type": "execute_result"
    }
   ],
   "source": [
    "def is_member(x, listu):\n",
    "    size=longitud(listu)\n",
    "    i=0\n",
    "    while i < size:\n",
    "        if(listu[i] == x): return True        \n",
    "        i+=1\n",
    "    return False\n",
    "\n",
    "\n",
    "is_member('a',['h','h','a','l'])\n"
   ]
  },
  {
   "cell_type": "markdown",
   "metadata": {},
   "source": [
    "10 Define a function `overlapping()` that takes two lists and returns `True` if they have at least one member in common, `False` otherwise. You may use your `is_member()` function, or the in operator, but for the sake of the exercise, you should (also) write it using two nested for-loops."
   ]
  },
  {
   "cell_type": "code",
   "execution_count": 11,
   "metadata": {},
   "outputs": [
    {
     "data": {
      "text/plain": [
       "True"
      ]
     },
     "execution_count": 11,
     "metadata": {},
     "output_type": "execute_result"
    }
   ],
   "source": [
    "def overlapping(a,b):\n",
    "    for i in n.arange(longitud(a)):\n",
    "        for ii in n.arange(longitud(b)):\n",
    "            if(a[i] == b[ii]): return True\n",
    "    return False\n",
    "\n",
    "overlapping([1,2,3,6,5],[4,7,8,9,0,5])"
   ]
  },
  {
   "cell_type": "markdown",
   "metadata": {},
   "source": [
    "11 Define a function `generate_n_chars()` that takes an integer `n` and a character `c` and returns a string, `n` characters long, consisting only of c:s. For example, `generate_n_chars( 5,\"x\" )` should return the string `\"xxxxx\"`. (Python is unusual in that you can actually write an expression `5 * \"x\"` that will evaluate to `\"xxxxx\"`. For the sake of the exercise you should ignore that the problem can be solved in this manner )."
   ]
  },
  {
   "cell_type": "code",
   "execution_count": 12,
   "metadata": {},
   "outputs": [
    {
     "data": {
      "text/plain": [
       "'xxxxx'"
      ]
     },
     "execution_count": 12,
     "metadata": {},
     "output_type": "execute_result"
    }
   ],
   "source": [
    "def generate_n_chars(i,b):\n",
    "    string = ''\n",
    "    for i in n.arange(i):\n",
    "        string += b\n",
    "    return string\n",
    "\n",
    "generate_n_chars(5,'x')\n",
    "    "
   ]
  },
  {
   "cell_type": "markdown",
   "metadata": {},
   "source": [
    "12 Define a procedure `histogram()` that takes a list of integers and prints a histogram to the screen. For example, `histogram( [ 4, 9, 7 ] )` should print the following:\n",
    "```\n",
    "    ****\n",
    "    *********\n",
    "    *******\n",
    "```"
   ]
  },
  {
   "cell_type": "code",
   "execution_count": 13,
   "metadata": {},
   "outputs": [
    {
     "name": "stdout",
     "output_type": "stream",
     "text": [
      "*\n",
      "**\n",
      "***\n",
      "**********\n",
      "*\n"
     ]
    }
   ],
   "source": [
    "def my_hist(listu):\n",
    "    for i,elm in enumerate(listu):\n",
    "        print(generate_n_chars(elm,'*'))        \n",
    "    return\n",
    "                           \n",
    "my_hist([1,2,3,10,1])                     "
   ]
  },
  {
   "cell_type": "markdown",
   "metadata": {},
   "source": [
    "13 The function `max()` from exercise 1) and the function `max_of_three()` from exercise 2) will only work for two and three numbers, respectively. But suppose we have a much larger number of numbers, or suppose we cannot tell in advance how many they are? Write a function `max_in_list()` that takes a list of numbers and returns the largest one."
   ]
  },
  {
   "cell_type": "code",
   "execution_count": 14,
   "metadata": {},
   "outputs": [
    {
     "data": {
      "text/plain": [
       "90"
      ]
     },
     "execution_count": 14,
     "metadata": {},
     "output_type": "execute_result"
    }
   ],
   "source": [
    "def max_in_list(listu):\n",
    "    return maxi(listu)\n",
    "\n",
    "\n",
    "max_in_list([1,2,4,3,6,5,7,90])\n",
    "\n"
   ]
  },
  {
   "cell_type": "markdown",
   "metadata": {},
   "source": [
    "14 Write a program that maps a list of words into a list of integers representing the lengths of the corresponding words.\n"
   ]
  },
  {
   "cell_type": "code",
   "execution_count": 15,
   "metadata": {},
   "outputs": [
    {
     "data": {
      "text/plain": [
       "[[4, 'hola'], [2, 'hi'], [5, 'perro'], [9, 'nevermore']]"
      ]
     },
     "execution_count": 15,
     "metadata": {},
     "output_type": "execute_result"
    }
   ],
   "source": [
    "def map_len(listu):\n",
    "    mapped = []\n",
    "    for i,elm in enumerate(listu):\n",
    "        mapped.append([longitud(elm),elm])\n",
    "    return mapped\n",
    "\n",
    "map_len(['hola','hi','perro','nevermore'])"
   ]
  },
  {
   "cell_type": "markdown",
   "metadata": {},
   "source": [
    "15 Write a function `find_longest_word()` that takes a list of words and returns the length of the longest one.\n"
   ]
  },
  {
   "cell_type": "code",
   "execution_count": 16,
   "metadata": {},
   "outputs": [
    {
     "data": {
      "text/plain": [
       "[11, 'queridisimo']"
      ]
     },
     "execution_count": 16,
     "metadata": {},
     "output_type": "execute_result"
    }
   ],
   "source": [
    "def find_longest_word(listu):\n",
    "    return maxi(map_len(listu))\n",
    "\n",
    "find_longest_word(['queridisimo','hola','hi','perro','nevermore'])    "
   ]
  },
  {
   "cell_type": "markdown",
   "metadata": {},
   "source": [
    "16 Write a function `filter_long_words()` that takes a list of words and an integer `n` and returns the list of words that are longer than `n`."
   ]
  },
  {
   "cell_type": "code",
   "execution_count": 17,
   "metadata": {},
   "outputs": [
    {
     "data": {
      "text/plain": [
       "['que pasión', 'vastajo']"
      ]
     },
     "execution_count": 17,
     "metadata": {},
     "output_type": "execute_result"
    }
   ],
   "source": [
    "def filter_long_words(listu,n):\n",
    "    listu2=[]\n",
    "    for elm in listu:\n",
    "        #print(elm)\n",
    "        if(longitud(elm)>n): listu2.append(elm)\n",
    "    return listu2\n",
    "\n",
    "filter_long_words(['hola','homie','que pasión','vastajo'],5)\n",
    "        "
   ]
  },
  {
   "cell_type": "markdown",
   "metadata": {},
   "source": [
    "17 Write a version of a palindrome recognizer that also accepts phrase palindromes such as \"Go hang a salami I'm a lasagna hog.\", \"Was it a rat I saw?\", \"Step on no pets\", \"Sit on a potato pan, Otis\", \"Lisa Bonet ate no basil\", \"Satan, oscillate my metallic sonatas\", \"I roamed under it as a tired nude Maori\", \"Rise to vote sir\", or the exclamation \"Dammit, I'm mad!\". Note that punctuation, capitalization, and spacing are usually ignored."
   ]
  },
  {
   "cell_type": "code",
   "execution_count": 18,
   "metadata": {},
   "outputs": [
    {
     "data": {
      "text/plain": [
       "True"
      ]
     },
     "execution_count": 18,
     "metadata": {},
     "output_type": "execute_result"
    }
   ],
   "source": [
    "def is_palindrome2(word):\n",
    "    word2 = ''\n",
    "    for char in word:\n",
    "        if char not in ['?','¿',' ','.',';',':','\\'','!','¡','']: word2+=char\n",
    "    #print(word2)\n",
    "    return is_palindrome(word2)\n",
    "\n",
    "#is_palindrome2('il qui ni tranza ni ivinzi!¡')\n",
    "is_palindrome2('yly!')"
   ]
  },
  {
   "cell_type": "markdown",
   "metadata": {},
   "source": [
    "18 A pangram is a sentence that contains all the letters of the English alphabet at least once, for example: \"The quick brown fox jumps over the lazy dog\". Your task here is to write a function to check a sentence to see if it is a pangram or not."
   ]
  },
  {
   "cell_type": "code",
   "execution_count": 20,
   "metadata": {},
   "outputs": [
    {
     "name": "stdout",
     "output_type": "stream",
     "text": [
      "h\n",
      "o\n",
      "l\n",
      "a\n"
     ]
    },
    {
     "data": {
      "text/plain": [
       "[]"
      ]
     },
     "execution_count": 20,
     "metadata": {},
     "output_type": "execute_result"
    }
   ],
   "source": [
    "def is_pangram(string):\n",
    "    chars=[]\n",
    "    for i in string:\n",
    "        print(i)\n",
    "    return chars\n",
    "\n",
    "is_pangram('hola')"
   ]
  },
  {
   "cell_type": "markdown",
   "metadata": {},
   "source": [
    "19 \"99 Bottles of Beer\" is a traditional song in the United States and Canada. It is popular to sing on long trips, as it has a very repetitive format which is easy to memorize, and can take a long time to sing. The song's simple lyrics are as follows:\n",
    "```99 bottles of beer on the wall, 99 bottles of beer.\n",
    "     Take one down, pass it around, 98 bottles of beer on the wall.\n",
    "```\n",
    "The same verse is repeated, each time with one fewer bottle. The song is completed when the singer or singers reach zero. Your task here is write a Python program capable of generating all the verses of the song."
   ]
  },
  {
   "cell_type": "code",
   "execution_count": 27,
   "metadata": {},
   "outputs": [
    {
     "name": "stdout",
     "output_type": "stream",
     "text": [
      "99 bottles of beer on the wall, 99 bottles of beer.\n",
      "\t Take one down, pass it around, 98 bottles on the wall.\n",
      "98 bottles of beer on the wall, 98 bottles of beer.\n",
      "\t Take one down, pass it around, 97 bottles on the wall.\n",
      "97 bottles of beer on the wall, 97 bottles of beer.\n",
      "\t Take one down, pass it around, 96 bottles on the wall.\n",
      "96 bottles of beer on the wall, 96 bottles of beer.\n",
      "\t Take one down, pass it around, 95 bottles on the wall.\n",
      "95 bottles of beer on the wall, 95 bottles of beer.\n",
      "\t Take one down, pass it around, 94 bottles on the wall.\n",
      "94 bottles of beer on the wall, 94 bottles of beer.\n",
      "\t Take one down, pass it around, 93 bottles on the wall.\n",
      "93 bottles of beer on the wall, 93 bottles of beer.\n",
      "\t Take one down, pass it around, 92 bottles on the wall.\n",
      "92 bottles of beer on the wall, 92 bottles of beer.\n",
      "\t Take one down, pass it around, 91 bottles on the wall.\n",
      "91 bottles of beer on the wall, 91 bottles of beer.\n",
      "\t Take one down, pass it around, 90 bottles on the wall.\n",
      "90 bottles of beer on the wall, 90 bottles of beer.\n",
      "\t Take one down, pass it around, 89 bottles on the wall.\n",
      "89 bottles of beer on the wall, 89 bottles of beer.\n",
      "\t Take one down, pass it around, 88 bottles on the wall.\n",
      "88 bottles of beer on the wall, 88 bottles of beer.\n",
      "\t Take one down, pass it around, 87 bottles on the wall.\n",
      "87 bottles of beer on the wall, 87 bottles of beer.\n",
      "\t Take one down, pass it around, 86 bottles on the wall.\n",
      "86 bottles of beer on the wall, 86 bottles of beer.\n",
      "\t Take one down, pass it around, 85 bottles on the wall.\n",
      "85 bottles of beer on the wall, 85 bottles of beer.\n",
      "\t Take one down, pass it around, 84 bottles on the wall.\n",
      "84 bottles of beer on the wall, 84 bottles of beer.\n",
      "\t Take one down, pass it around, 83 bottles on the wall.\n",
      "83 bottles of beer on the wall, 83 bottles of beer.\n",
      "\t Take one down, pass it around, 82 bottles on the wall.\n",
      "82 bottles of beer on the wall, 82 bottles of beer.\n",
      "\t Take one down, pass it around, 81 bottles on the wall.\n",
      "81 bottles of beer on the wall, 81 bottles of beer.\n",
      "\t Take one down, pass it around, 80 bottles on the wall.\n",
      "80 bottles of beer on the wall, 80 bottles of beer.\n",
      "\t Take one down, pass it around, 79 bottles on the wall.\n",
      "79 bottles of beer on the wall, 79 bottles of beer.\n",
      "\t Take one down, pass it around, 78 bottles on the wall.\n",
      "78 bottles of beer on the wall, 78 bottles of beer.\n",
      "\t Take one down, pass it around, 77 bottles on the wall.\n",
      "77 bottles of beer on the wall, 77 bottles of beer.\n",
      "\t Take one down, pass it around, 76 bottles on the wall.\n",
      "76 bottles of beer on the wall, 76 bottles of beer.\n",
      "\t Take one down, pass it around, 75 bottles on the wall.\n",
      "75 bottles of beer on the wall, 75 bottles of beer.\n",
      "\t Take one down, pass it around, 74 bottles on the wall.\n",
      "74 bottles of beer on the wall, 74 bottles of beer.\n",
      "\t Take one down, pass it around, 73 bottles on the wall.\n",
      "73 bottles of beer on the wall, 73 bottles of beer.\n",
      "\t Take one down, pass it around, 72 bottles on the wall.\n",
      "72 bottles of beer on the wall, 72 bottles of beer.\n",
      "\t Take one down, pass it around, 71 bottles on the wall.\n",
      "71 bottles of beer on the wall, 71 bottles of beer.\n",
      "\t Take one down, pass it around, 70 bottles on the wall.\n",
      "70 bottles of beer on the wall, 70 bottles of beer.\n",
      "\t Take one down, pass it around, 69 bottles on the wall.\n",
      "69 bottles of beer on the wall, 69 bottles of beer.\n",
      "\t Take one down, pass it around, 68 bottles on the wall.\n",
      "68 bottles of beer on the wall, 68 bottles of beer.\n",
      "\t Take one down, pass it around, 67 bottles on the wall.\n",
      "67 bottles of beer on the wall, 67 bottles of beer.\n",
      "\t Take one down, pass it around, 66 bottles on the wall.\n",
      "66 bottles of beer on the wall, 66 bottles of beer.\n",
      "\t Take one down, pass it around, 65 bottles on the wall.\n",
      "65 bottles of beer on the wall, 65 bottles of beer.\n",
      "\t Take one down, pass it around, 64 bottles on the wall.\n",
      "64 bottles of beer on the wall, 64 bottles of beer.\n",
      "\t Take one down, pass it around, 63 bottles on the wall.\n",
      "63 bottles of beer on the wall, 63 bottles of beer.\n",
      "\t Take one down, pass it around, 62 bottles on the wall.\n",
      "62 bottles of beer on the wall, 62 bottles of beer.\n",
      "\t Take one down, pass it around, 61 bottles on the wall.\n",
      "61 bottles of beer on the wall, 61 bottles of beer.\n",
      "\t Take one down, pass it around, 60 bottles on the wall.\n",
      "60 bottles of beer on the wall, 60 bottles of beer.\n",
      "\t Take one down, pass it around, 59 bottles on the wall.\n",
      "59 bottles of beer on the wall, 59 bottles of beer.\n",
      "\t Take one down, pass it around, 58 bottles on the wall.\n",
      "58 bottles of beer on the wall, 58 bottles of beer.\n",
      "\t Take one down, pass it around, 57 bottles on the wall.\n",
      "57 bottles of beer on the wall, 57 bottles of beer.\n",
      "\t Take one down, pass it around, 56 bottles on the wall.\n",
      "56 bottles of beer on the wall, 56 bottles of beer.\n",
      "\t Take one down, pass it around, 55 bottles on the wall.\n",
      "55 bottles of beer on the wall, 55 bottles of beer.\n",
      "\t Take one down, pass it around, 54 bottles on the wall.\n",
      "54 bottles of beer on the wall, 54 bottles of beer.\n",
      "\t Take one down, pass it around, 53 bottles on the wall.\n",
      "53 bottles of beer on the wall, 53 bottles of beer.\n",
      "\t Take one down, pass it around, 52 bottles on the wall.\n",
      "52 bottles of beer on the wall, 52 bottles of beer.\n",
      "\t Take one down, pass it around, 51 bottles on the wall.\n",
      "51 bottles of beer on the wall, 51 bottles of beer.\n",
      "\t Take one down, pass it around, 50 bottles on the wall.\n",
      "50 bottles of beer on the wall, 50 bottles of beer.\n",
      "\t Take one down, pass it around, 49 bottles on the wall.\n",
      "49 bottles of beer on the wall, 49 bottles of beer.\n",
      "\t Take one down, pass it around, 48 bottles on the wall.\n",
      "48 bottles of beer on the wall, 48 bottles of beer.\n",
      "\t Take one down, pass it around, 47 bottles on the wall.\n",
      "47 bottles of beer on the wall, 47 bottles of beer.\n",
      "\t Take one down, pass it around, 46 bottles on the wall.\n",
      "46 bottles of beer on the wall, 46 bottles of beer.\n",
      "\t Take one down, pass it around, 45 bottles on the wall.\n",
      "45 bottles of beer on the wall, 45 bottles of beer.\n",
      "\t Take one down, pass it around, 44 bottles on the wall.\n",
      "44 bottles of beer on the wall, 44 bottles of beer.\n",
      "\t Take one down, pass it around, 43 bottles on the wall.\n",
      "43 bottles of beer on the wall, 43 bottles of beer.\n",
      "\t Take one down, pass it around, 42 bottles on the wall.\n",
      "42 bottles of beer on the wall, 42 bottles of beer.\n",
      "\t Take one down, pass it around, 41 bottles on the wall.\n",
      "41 bottles of beer on the wall, 41 bottles of beer.\n",
      "\t Take one down, pass it around, 40 bottles on the wall.\n",
      "40 bottles of beer on the wall, 40 bottles of beer.\n",
      "\t Take one down, pass it around, 39 bottles on the wall.\n",
      "39 bottles of beer on the wall, 39 bottles of beer.\n",
      "\t Take one down, pass it around, 38 bottles on the wall.\n",
      "38 bottles of beer on the wall, 38 bottles of beer.\n",
      "\t Take one down, pass it around, 37 bottles on the wall.\n",
      "37 bottles of beer on the wall, 37 bottles of beer.\n",
      "\t Take one down, pass it around, 36 bottles on the wall.\n",
      "36 bottles of beer on the wall, 36 bottles of beer.\n",
      "\t Take one down, pass it around, 35 bottles on the wall.\n",
      "35 bottles of beer on the wall, 35 bottles of beer.\n",
      "\t Take one down, pass it around, 34 bottles on the wall.\n",
      "34 bottles of beer on the wall, 34 bottles of beer.\n",
      "\t Take one down, pass it around, 33 bottles on the wall.\n",
      "33 bottles of beer on the wall, 33 bottles of beer.\n",
      "\t Take one down, pass it around, 32 bottles on the wall.\n",
      "32 bottles of beer on the wall, 32 bottles of beer.\n",
      "\t Take one down, pass it around, 31 bottles on the wall.\n",
      "31 bottles of beer on the wall, 31 bottles of beer.\n",
      "\t Take one down, pass it around, 30 bottles on the wall.\n",
      "30 bottles of beer on the wall, 30 bottles of beer.\n",
      "\t Take one down, pass it around, 29 bottles on the wall.\n",
      "29 bottles of beer on the wall, 29 bottles of beer.\n",
      "\t Take one down, pass it around, 28 bottles on the wall.\n",
      "28 bottles of beer on the wall, 28 bottles of beer.\n",
      "\t Take one down, pass it around, 27 bottles on the wall.\n",
      "27 bottles of beer on the wall, 27 bottles of beer.\n",
      "\t Take one down, pass it around, 26 bottles on the wall.\n",
      "26 bottles of beer on the wall, 26 bottles of beer.\n",
      "\t Take one down, pass it around, 25 bottles on the wall.\n",
      "25 bottles of beer on the wall, 25 bottles of beer.\n",
      "\t Take one down, pass it around, 24 bottles on the wall.\n",
      "24 bottles of beer on the wall, 24 bottles of beer.\n",
      "\t Take one down, pass it around, 23 bottles on the wall.\n",
      "23 bottles of beer on the wall, 23 bottles of beer.\n",
      "\t Take one down, pass it around, 22 bottles on the wall.\n",
      "22 bottles of beer on the wall, 22 bottles of beer.\n",
      "\t Take one down, pass it around, 21 bottles on the wall.\n",
      "21 bottles of beer on the wall, 21 bottles of beer.\n",
      "\t Take one down, pass it around, 20 bottles on the wall.\n",
      "20 bottles of beer on the wall, 20 bottles of beer.\n",
      "\t Take one down, pass it around, 19 bottles on the wall.\n",
      "19 bottles of beer on the wall, 19 bottles of beer.\n",
      "\t Take one down, pass it around, 18 bottles on the wall.\n",
      "18 bottles of beer on the wall, 18 bottles of beer.\n",
      "\t Take one down, pass it around, 17 bottles on the wall.\n",
      "17 bottles of beer on the wall, 17 bottles of beer.\n",
      "\t Take one down, pass it around, 16 bottles on the wall.\n",
      "16 bottles of beer on the wall, 16 bottles of beer.\n",
      "\t Take one down, pass it around, 15 bottles on the wall.\n",
      "15 bottles of beer on the wall, 15 bottles of beer.\n",
      "\t Take one down, pass it around, 14 bottles on the wall.\n",
      "14 bottles of beer on the wall, 14 bottles of beer.\n",
      "\t Take one down, pass it around, 13 bottles on the wall.\n",
      "13 bottles of beer on the wall, 13 bottles of beer.\n",
      "\t Take one down, pass it around, 12 bottles on the wall.\n",
      "12 bottles of beer on the wall, 12 bottles of beer.\n",
      "\t Take one down, pass it around, 11 bottles on the wall.\n",
      "11 bottles of beer on the wall, 11 bottles of beer.\n",
      "\t Take one down, pass it around, 10 bottles on the wall.\n",
      "10 bottles of beer on the wall, 10 bottles of beer.\n",
      "\t Take one down, pass it around, 09 bottles on the wall.\n",
      "09 bottles of beer on the wall, 09 bottles of beer.\n",
      "\t Take one down, pass it around, 08 bottles on the wall.\n",
      "08 bottles of beer on the wall, 08 bottles of beer.\n",
      "\t Take one down, pass it around, 07 bottles on the wall.\n",
      "07 bottles of beer on the wall, 07 bottles of beer.\n",
      "\t Take one down, pass it around, 06 bottles on the wall.\n",
      "06 bottles of beer on the wall, 06 bottles of beer.\n",
      "\t Take one down, pass it around, 05 bottles on the wall.\n",
      "05 bottles of beer on the wall, 05 bottles of beer.\n",
      "\t Take one down, pass it around, 04 bottles on the wall.\n",
      "04 bottles of beer on the wall, 04 bottles of beer.\n",
      "\t Take one down, pass it around, 03 bottles on the wall.\n",
      "03 bottles of beer on the wall, 03 bottles of beer.\n",
      "\t Take one down, pass it around, 02 bottles on the wall.\n",
      "02 bottles of beer on the wall, 02 bottles of beer.\n",
      "\t Take one down, pass it around, 01 bottles on the wall.\n",
      "01 bottle of beer on the wall, 01 bottles of beer.\n",
      "\t Take one down, pass it around, 00 bottle on the wall.\n"
     ]
    }
   ],
   "source": [
    "import numpy as n\n",
    "def bottles_of_beer():\n",
    "    array = n.arange(1,100)[::-1]\n",
    "    for i in array:\n",
    "        if(i>1): c = 's'\n",
    "        else:\n",
    "            c = ''\n",
    "        s = '{:02d} bottle{:s} of beer on the wall, {:02d} bottles of beer.\\n\\t Take one down, pass it around, {:02d} bottle{:s} on the wall.'\\\n",
    "        .format(i,c,i,i-1,c)\n",
    "        print(s)\n",
    "    return\n",
    "\n",
    "bottles_of_beer()"
   ]
  },
  {
   "cell_type": "markdown",
   "metadata": {},
   "source": [
    "20 Represent a small bilingual lexicon as a Python dictionary in the following fashion\n",
    "\n",
    "`{ \"merry\":\"god\", \"christmas\":\"jul\", \"and\":\"och\", \"happy\":gott\", \"new\":\"nytt\", \"year\":\"år\" }`\n",
    "\n",
    "\n",
    "and use it to translate your Christmas cards from English into Swedish. That is, write a function `translate()` that takes a list of English words and returns a list of Swedish words."
   ]
  },
  {
   "cell_type": "code",
   "execution_count": 32,
   "metadata": {},
   "outputs": [
    {
     "data": {
      "text/plain": [
       "['god', 'jul', 'och', 'gott', 'nytt', 'år']"
      ]
     },
     "execution_count": 32,
     "metadata": {},
     "output_type": "execute_result"
    }
   ],
   "source": [
    "def translate(listu):\n",
    "    dic={ \"merry\":\"god\", \"christmas\":\"jul\", \"and\":\"och\", \"happy\":\"gott\", \"new\":\"nytt\", \"year\":\"år\" }\n",
    "    listu2 = []\n",
    "    for i in listu:\n",
    "        listu2.append(dic[i])\n",
    "    return listu2\n",
    "\n",
    "translate(['merry','christmas','and','happy','new','year'])"
   ]
  },
  {
   "cell_type": "markdown",
   "metadata": {},
   "source": [
    "21 Write a function `char_freq()` that takes a string and builds a frequency listing of the characters contained in it. Represent the frequency listing as a Python dictionary. Try it with something like `char_freq(\"abbabcbdbabdbdbabababcbcbab\")`."
   ]
  },
  {
   "cell_type": "code",
   "execution_count": 35,
   "metadata": {},
   "outputs": [
    {
     "data": {
      "text/plain": [
       "{'a': 1,\n",
       " 'b': 2,\n",
       " 'c': 0,\n",
       " 'd': 0,\n",
       " 'e': 0,\n",
       " 'f': 0,\n",
       " 'g': 0,\n",
       " 'h': 0,\n",
       " 'i': 0,\n",
       " 'j': 0,\n",
       " 'k': 0,\n",
       " 'l': 0,\n",
       " 'm': 0,\n",
       " 'n': 0,\n",
       " 'o': 0,\n",
       " 'p': 0,\n",
       " 'q': 0,\n",
       " 'r': 0,\n",
       " 's': 0,\n",
       " 't': 0,\n",
       " 'u': 0,\n",
       " 'v': 0,\n",
       " 'w': 0,\n",
       " 'x': 0,\n",
       " 'y': 0,\n",
       " 'z': 0}"
      ]
     },
     "execution_count": 35,
     "metadata": {},
     "output_type": "execute_result"
    }
   ],
   "source": [
    "def char_freq(string):\n",
    "    string = string.lower()\n",
    "    dic = {'a':0,'b':0,'c':0,'d':0,'e':0,'f':0,'g':0,'h':0,'i':0,'j':0,'k':0,'l':0,'m':0,'n':0,'o':0,'p':0,'q':0,'r':0,'s':0,'t':0,'u':0,'v':0,'w':0,'x':0,'y':0,'z':0}\n",
    "    for i in string:\n",
    "        dic[i] += 1\n",
    "    return dic\n",
    "char_freq('abb')"
   ]
  },
  {
   "cell_type": "markdown",
   "metadata": {},
   "source": [
    "22 In cryptography, a Caesar cipher is a very simple encryption techniques in which each letter in the plain text is replaced by a letter some fixed number of positions down the alphabet. For example, with a shift of 3, A would be replaced by D, B would become E, and so on. The method is named after Julius Caesar, who used it to communicate with his generals. `ROT-13 (\"rotate by 13 places\")` is a widely used example of a Caesar cipher where the shift is 13. In Python, the key for ROT-13 may be represented by means of the following dictionary:\n",
    "\n",
    "```\n",
    "  key = {'a':'n', 'b':'o', 'c':'p', 'd':'q', 'e':'r', 'f':'s', 'g':'t', 'h':'u',\n",
    "         'i':'v', 'j':'w', 'k':'x', 'l':'y', 'm':'z', 'n':'a', 'o':'b', 'p':'c',\n",
    "         'q':'d', 'r':'e', 's':'f', 't':'g', 'u':'h', 'v':'i', 'w':'j', 'x':'k',\n",
    "         'y':'l', 'z':'m', 'A':'N', 'B':'O', 'C':'P', 'D':'Q', 'E':'R', 'F':'S',\n",
    "         'G':'T', 'H':'U', 'I':'V', 'J':'W', 'K':'X', 'L':'Y', 'M':'Z', 'N':'A',\n",
    "         'O':'B', 'P':'C', 'Q':'D', 'R':'E', 'S':'F', 'T':'G', 'U':'H', 'V':'I',\n",
    "         'W':'J', 'X':'K', 'Y':'L', 'Z':'M'}\n",
    "```\n",
    "Your task in this exercise is to implement an encoder/decoder of ROT-13. Once you're done, you will be able to read the following secret message:\n",
    "\n",
    "```\n",
    "  Pnrfne pvcure? V zhpu cersre Pnrfne fnynq!\n",
    "```\n",
    "Note that since English has 26 characters, your ROT-13 program will be able to both encode and decode texts written in English.\n"
   ]
  },
  {
   "cell_type": "code",
   "execution_count": null,
   "metadata": {
    "collapsed": true
   },
   "outputs": [],
   "source": []
  },
  {
   "cell_type": "markdown",
   "metadata": {},
   "source": [
    "\n",
    "23 Define a simple \"spelling correction\" function `correct()` that takes a string and sees to it that 1) two or more occurrences of the space character is compressed into one, and 2) inserts an extra space after a period if the period is directly followed by a letter. E.g. `correct(\"This   is  very funny  and    cool.Indeed!\")` should return \"This is very funny and cool. Indeed!\" Tip: Use regular expressions!\n"
   ]
  },
  {
   "cell_type": "code",
   "execution_count": null,
   "metadata": {
    "collapsed": true
   },
   "outputs": [],
   "source": []
  },
  {
   "cell_type": "markdown",
   "metadata": {},
   "source": [
    "24 The third person singular verb form in English is distinguished by the suffix -s, which is added to the stem of the infinitive form: run -> runs. A simple set of rules can be given as follows:\n",
    "\n",
    "  a. If the verb ends in y, remove it and add ies\n",
    "  b. If the verb ends in o, ch, s, sh, x or z, add es\n",
    "  c. By default just add s\n",
    "Your task in this exercise is to define a function `make_3sg_form()` which given a verb in infinitive form returns its third person singular form. Test your function with words like try, brush, run and fix. Note however that the rules must be regarded as heuristic, in the sense that you must not expect them to work for all cases. Tip: Check out the string method `endswith()`.\n"
   ]
  },
  {
   "cell_type": "code",
   "execution_count": null,
   "metadata": {
    "collapsed": true
   },
   "outputs": [],
   "source": []
  },
  {
   "cell_type": "markdown",
   "metadata": {},
   "source": [
    "25 In English, the present participle is formed by adding the suffix -ing to the infinite form: go -> going. A simple set of heuristic rules can be given as follows:\n",
    "\n",
    "  1. If the verb ends in e, drop the e and add ing (if not exception: be, see, flee, knee, etc.)\n",
    "  2. If the verb ends in ie, change ie to y and add ing\n",
    "  3. For words consisting of consonant-vowel-consonant, double the final letter before adding ing\n",
    "  4. By default just add ing\n",
    "\n",
    "Your task in this exercise is to define a function `make_ing_form()` which given a verb in infinitive form returns its present participle form. Test your function with words such as lie, see, move and hug. However, you must not expect such simple rules to work for all cases."
   ]
  },
  {
   "cell_type": "code",
   "execution_count": null,
   "metadata": {
    "collapsed": true
   },
   "outputs": [],
   "source": []
  }
 ],
 "metadata": {
  "kernelspec": {
   "display_name": "Python 3",
   "language": "python",
   "name": "python3"
  },
  "language_info": {
   "codemirror_mode": {
    "name": "ipython",
    "version": 3
   },
   "file_extension": ".py",
   "mimetype": "text/x-python",
   "name": "python",
   "nbconvert_exporter": "python",
   "pygments_lexer": "ipython3",
   "version": "3.6.3"
  }
 },
 "nbformat": 4,
 "nbformat_minor": 2
}
