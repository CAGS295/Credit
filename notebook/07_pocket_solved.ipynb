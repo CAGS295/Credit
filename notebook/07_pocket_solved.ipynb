{
 "cells": [
  {
   "cell_type": "code",
   "execution_count": null,
   "metadata": {
    "collapsed": true,
    "deletable": true,
    "editable": true
   },
   "outputs": [],
   "source": [
    "%matplotlib inline\n",
    "import pandas as pd\n",
    "import matplotlib.pyplot as plt\n",
    "import numpy as np"
   ]
  },
  {
   "cell_type": "markdown",
   "metadata": {
    "deletable": true,
    "editable": true
   },
   "source": [
    "# Algoritmo del perceptrón\n",
    "\n",
    "Para este ejercicio crearemos un modelo que determine si una moneda es de \\$1 o de \\$5 utilizando su peso y su tamaño. Los datos se encuentran en `coins.csv`"
   ]
  },
  {
   "cell_type": "code",
   "execution_count": null,
   "metadata": {
    "collapsed": false,
    "deletable": true,
    "editable": true
   },
   "outputs": [],
   "source": [
    "dataset = pd.read_csv('../data/coins2.csv')\n",
    "dataset.head(5)"
   ]
  },
  {
   "cell_type": "code",
   "execution_count": null,
   "metadata": {
    "collapsed": false,
    "deletable": true,
    "editable": true,
    "scrolled": true
   },
   "outputs": [],
   "source": [
    "fig = plt.figure(figsize=(8,8))\n",
    "ax = fig.add_subplot(111)\n",
    "ax = dataset[dataset.type == '$1'].plot.scatter('size', 'weight', c='blue', ax=ax)\n",
    "dataset[dataset.type == '$2'].plot.scatter('size', 'weight', c='red', ax=ax)\n",
    "ax.legend(['$1', '$2'])\n",
    "ax.set_title('Medidas de tamaño y peso de diferentes monedas.');"
   ]
  },
  {
   "cell_type": "markdown",
   "metadata": {
    "deletable": true,
    "editable": true
   },
   "source": [
    "# El conjunto de hipotesis para el perceptrón\n",
    "$$ h(\\mathbf{x}) =  \\mathrm{sign}(\\mathbf{w}^\\intercal\\mathbf{x}_n) $$\n",
    "\n",
    "Escriba una función que represente el conjunto de hipotesis para el perceptrón. Es decir, dado $\\mathrm(w)$ y un $\\mathrm{umbral}$ determine si es una moneda de \\$1 o de \\$5"
   ]
  },
  {
   "cell_type": "code",
   "execution_count": null,
   "metadata": {
    "collapsed": false
   },
   "outputs": [],
   "source": [
    "dataset['x0'] = 1"
   ]
  },
  {
   "cell_type": "code",
   "execution_count": null,
   "metadata": {
    "collapsed": false
   },
   "outputs": [],
   "source": [
    "columns_in_order = list(dataset.columns)\n",
    "columns_in_order.remove('x0')\n",
    "columns_in_order.insert(0, 'x0')\n",
    "columns_in_order"
   ]
  },
  {
   "cell_type": "code",
   "execution_count": null,
   "metadata": {
    "collapsed": false
   },
   "outputs": [],
   "source": [
    "dataset = dataset[columns_in_order]"
   ]
  },
  {
   "cell_type": "code",
   "execution_count": null,
   "metadata": {
    "collapsed": false,
    "scrolled": false
   },
   "outputs": [],
   "source": [
    "random_values = np.random.rand(len(dataset))\n",
    "train_sample = dataset[random_values < 0.7]\n",
    "test_sample = dataset[random_values >= 0.7]"
   ]
  },
  {
   "cell_type": "code",
   "execution_count": null,
   "metadata": {
    "collapsed": true
   },
   "outputs": [],
   "source": [
    "def model(row, w):\n",
    "    return '$1' if row.values[:-1].dot(w) > 0 else '$2'"
   ]
  },
  {
   "cell_type": "code",
   "execution_count": null,
   "metadata": {
    "collapsed": true
   },
   "outputs": [],
   "source": [
    "def guess(df, w):\n",
    "    return df.apply(lambda row: model(row,w), axis = 1)"
   ]
  },
  {
   "cell_type": "code",
   "execution_count": null,
   "metadata": {
    "collapsed": true
   },
   "outputs": [],
   "source": [
    "def find_missclasified(df, guess):\n",
    "    missclasified = df[df.type != guess]\n",
    "    return len(missclasified), None if len(missclasified) == 0 else missclasified.iloc[0] "
   ]
  },
  {
   "cell_type": "code",
   "execution_count": null,
   "metadata": {
    "collapsed": false
   },
   "outputs": [],
   "source": [
    "find_missclasified(train_sample, guess(train_sample, np.random.rand(3)))"
   ]
  },
  {
   "cell_type": "code",
   "execution_count": null,
   "metadata": {
    "collapsed": false
   },
   "outputs": [],
   "source": [
    "def train(df, max_iterations):\n",
    "    w = np.random.rand(len(df.columns) - 1)\n",
    "    iterations = 0\n",
    "    while iterations < max_iterations:\n",
    "        g = guess(df, w)\n",
    "        n, miss = find_missclasified(df, g)\n",
    "        if miss is None:\n",
    "            break\n",
    "        update = (1 if miss.type == '$1' else -1) * \\\n",
    "           miss.values[:-1].astype(float)\n",
    "        w += update\n",
    "        iterations += 1\n",
    "    return w"
   ]
  },
  {
   "cell_type": "code",
   "execution_count": null,
   "metadata": {
    "collapsed": true
   },
   "outputs": [],
   "source": [
    "def pocket(df_train, df_test, max_iterations):\n",
    "    ein = []\n",
    "    eout = []\n",
    "    ws = []\n",
    "    w = np.random.rand(len(df_train.columns) - 1)\n",
    "    iterations = 0\n",
    "    while iterations < max_iterations:\n",
    "        ws.append(w)\n",
    "        gin = guess(df_train, w)\n",
    "        gout = guess(df_test, w)\n",
    "        n_in, miss_in = find_missclasified(df_train, gin)\n",
    "        n_out, miss_out = find_missclasified(df_test, gout)\n",
    "        ein.append(n_in/len(df_train))\n",
    "        eout.append(n_out/len(df_test))\n",
    "        if miss_in is None:\n",
    "            break\n",
    "        update = (1 if miss_in.type == '$1' else -1) * \\\n",
    "           miss_in.values[:-1].astype(float)\n",
    "        w += update\n",
    "        iterations += 1\n",
    "    return ws, ein, eout"
   ]
  },
  {
   "cell_type": "code",
   "execution_count": null,
   "metadata": {
    "collapsed": false,
    "scrolled": true
   },
   "outputs": [],
   "source": [
    "ws, ein, eout = pocket(train_sample, test_sample, 2000)"
   ]
  },
  {
   "cell_type": "code",
   "execution_count": null,
   "metadata": {
    "collapsed": false
   },
   "outputs": [],
   "source": [
    "errors = pd.DataFrame({'ws': ws, 'ein': ein, 'eout':eout})\n",
    "errors[['ein', 'eout']].plot()"
   ]
  },
  {
   "cell_type": "code",
   "execution_count": null,
   "metadata": {
    "collapsed": false
   },
   "outputs": [],
   "source": [
    "w = errors.sort_values(by='eout').iloc[0].ws"
   ]
  },
  {
   "cell_type": "code",
   "execution_count": null,
   "metadata": {
    "collapsed": false
   },
   "outputs": [],
   "source": [
    "fig = plt.figure(figsize=(8,8))\n",
    "ax = fig.add_subplot(111)\n",
    "ax = dataset[dataset.type == '$1'].plot.scatter('size', 'weight', c='blue', ax=ax)\n",
    "dataset[dataset.type == '$2'].plot.scatter('size', 'weight', c='red', ax=ax)\n",
    "ax.legend(['$1', '$2'])\n",
    "ax.set_title('Medidas de tamaño y peso de diferentes monedas.');\n",
    "\n",
    "ax.plot([1, 3.5], [ -w[0]/w[2] - w[1]*3.5/w[2], -w[0]/w[2] - w[1]/w[2]])"
   ]
  },
  {
   "cell_type": "code",
   "execution_count": null,
   "metadata": {
    "collapsed": true
   },
   "outputs": [],
   "source": []
  }
 ],
 "metadata": {
  "kernelspec": {
   "display_name": "Python 3",
   "language": "python",
   "name": "python3"
  },
  "language_info": {
   "codemirror_mode": {
    "name": "ipython",
    "version": 3
   },
   "file_extension": ".py",
   "mimetype": "text/x-python",
   "name": "python",
   "nbconvert_exporter": "python",
   "pygments_lexer": "ipython3",
   "version": "3.6.1"
  }
 },
 "nbformat": 4,
 "nbformat_minor": 2
}
