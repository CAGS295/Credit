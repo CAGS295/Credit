{
 "cells": [
  {
   "cell_type": "code",
   "execution_count": 1,
   "metadata": {},
   "outputs": [
    {
     "name": "stderr",
     "output_type": "stream",
     "text": [
      "/home/ibu/anaconda3/envs/tf36/lib/python3.6/importlib/_bootstrap.py:219: RuntimeWarning: compiletime version 3.5 of module 'tensorflow.python.framework.fast_tensor_util' does not match runtime version 3.6\n",
      "  return f(*args, **kwds)\n",
      "/home/ibu/anaconda3/envs/tf36/lib/python3.6/site-packages/h5py/__init__.py:36: FutureWarning: Conversion of the second argument of issubdtype from `float` to `np.floating` is deprecated. In future, it will be treated as `np.float64 == np.dtype(float).type`.\n",
      "  from ._conv import register_converters as _register_converters\n"
     ]
    }
   ],
   "source": [
    "import tensorflow as tf;\n",
    "import pandas as pd\n",
    "from sklearn.decomposition import PCA\n",
    "import numpy as np\n",
    "from matplotlib import pyplot as plt\n",
    "from matplotlib import cm\n",
    "from sklearn.model_selection import train_test_split as splitMe\n",
    "%matplotlib inline"
   ]
  },
  {
   "cell_type": "markdown",
   "metadata": {},
   "source": [
    "## Modelos finales con semilla fija; MSE para muestra de prueba; Histograma del error en muestras."
   ]
  },
  {
   "cell_type": "markdown",
   "metadata": {},
   "source": [
    "### The Winton Stock Market Challenge\n",
    "\n",
    "https://www.kaggle.com/c/the-winton-stock-market-challenge/\n",
    "\n",
    "In this competition the challenge is to predict the return of a stock, given the history of the past few days. \n",
    "\n",
    "We provide 5-day windows of time, days D-2, D-1, D, D+1, and D+2. You are given returns in days D-2, D-1, and part of day D, and you are asked to predict the returns in the rest of day D, and in days D+1 and D+2.\n",
    "\n",
    "During day D, there is intraday return data, which are the returns at different points in the day. We provide 180 minutes of data, from t=1 to t=180. In the training set you are given the full 180 minutes, in the test set just the first 120 minutes are provided.\n",
    "\n",
    "For each 5-day window, we also provide 25 features, Feature_1 to Feature_25. These may or may not be useful in your prediction.\n",
    "\n",
    "Each row in the dataset is an arbitrary stock at an arbitrary 5 day time window.\n",
    "![image.png](attachment:image.png)"
   ]
  },
  {
   "cell_type": "markdown",
   "metadata": {},
   "source": [
    "### Primer Modelo:\n",
    "Intentar precedir el rendimiento del día $D_{+1}$ utilizando las variables econonómicas y los rendimientos de $D_{-1}$ y $D_{-2}$"
   ]
  },
  {
   "cell_type": "markdown",
   "metadata": {},
   "source": [
    "# Preprocesamiento de datos\n",
    "\n",
    "Se cargan los datos y se aplica una Normalizacíon Gaussiana al conjunto de entrenamiento."
   ]
  },
  {
   "cell_type": "code",
   "execution_count": 2,
   "metadata": {},
   "outputs": [],
   "source": [
    "nEXTRA_FEATURES = 25;\n",
    "nFEATURES = 121 -1 ;"
   ]
  },
  {
   "cell_type": "code",
   "execution_count": 3,
   "metadata": {},
   "outputs": [],
   "source": [
    "trSet=pd.read_csv('./Data/Kaggle/train.csv',index_col=0);\n",
    "trSet.fillna(trSet.mean(),inplace=True);"
   ]
  },
  {
   "cell_type": "code",
   "execution_count": 4,
   "metadata": {},
   "outputs": [],
   "source": [
    "# X, Y = (trSet.iloc[:,nEXTRA_FEATURES:nEXTRA_FEATURES+nFEATURES+1],trSet.iloc[:,nEXTRA_FEATURES+nFEATURES+60+1]);\n",
    "X, Y = (trSet.iloc[:,0:nEXTRA_FEATURES+2],trSet.iloc[:,nEXTRA_FEATURES+nFEATURES+60+1]);\n",
    "miuY = Y.mean()\n",
    "sigmaY = Y.std()\n",
    "Xnorm = (X - X.mean())/X.std();\n",
    "Ynorm = (Y - Y.mean())/Y.std();"
   ]
  },
  {
   "cell_type": "code",
   "execution_count": 5,
   "metadata": {},
   "outputs": [],
   "source": [
    "Xnorm,Xnormt,Ynorm,Ynormt = splitMe(Xnorm,Ynorm, test_size=0.05, random_state=1995)"
   ]
  },
  {
   "cell_type": "markdown",
   "metadata": {},
   "source": [
    "### Feature Exploration:\n",
    "Como parte de la exploración de variables intentaremos visualizar por pares las variables independientes y con un mapa de color la variable dependiente que se intenta predecir. En concreto, se intenta ver si hay alguna transformación que ayude a separar los datos linealmente con las variables pareadas. Creamos una pila $Stack$ donde están las combinaciones de columnas. 27**C**2 plots - la diagonal ex [1,1],[2,2]"
   ]
  },
  {
   "cell_type": "code",
   "execution_count": 6,
   "metadata": {},
   "outputs": [],
   "source": [
    "# # Pesado casi 27C2 plots!!!\n",
    "# a = (nEXTRA_FEATURES + 2 )//2\n",
    "# b = (nEXTRA_FEATURES + 2) - a\n",
    "# stack = np.stack(np.meshgrid(np.arange(a),np.arange(a+b)), -1).reshape(-1, 2)\n",
    "# for pair in stack:\n",
    "#     plt.figure(figsize=(20,10))\n",
    "#     ax = plt.gca()\n",
    "# #     Enfocar plot a una desviación estandar\n",
    "# #     ax.set_xlim([-1,1])\n",
    "# #     ax.set_ylim([-1,1])\n",
    "#     plt.scatter(Xnorm.iloc[:,pair[0]].values,Xnorm.iloc[:,pair[1]].values,c=Ynorm.values,cmap=cm.jet,alpha=.5)\n",
    "#     plt.title(\"{}  {}\".format(pair[0],pair[1]))\n",
    "#     plt.colorbar()    \n",
    "#     plt.show()"
   ]
  },
  {
   "cell_type": "markdown",
   "metadata": {},
   "source": [
    "# Red convolucional"
   ]
  },
  {
   "cell_type": "markdown",
   "metadata": {},
   "source": [
    "## Variables de la red"
   ]
  },
  {
   "cell_type": "code",
   "execution_count": 7,
   "metadata": {},
   "outputs": [],
   "source": [
    "INPUT_SIZE = nFEATURES;\n",
    "M = 3#12;\n",
    "N = 9#10;\n",
    "d1units = 12;\n",
    "d2units = 12;\n",
    "d3units = 12;\n",
    "d1activation = tf.nn.sigmoid;\n",
    "d2activation = tf.nn.sigmoid;\n",
    "d3activation = tf.nn.sigmoid;\n",
    "droprate = .4;\n",
    "logitsunit = 1;\n",
    "LEARNING_RATE = 0.01;\n",
    "EPOCHS = 2000;\n",
    "BATCH_SIZE = 1000;\n",
    "n_batches = 1000;\n",
    "SEED=1;\n",
    "reg_scale = .9;\n",
    "decay = .96;\n",
    "decayiters = 100000;\n",
    "test_length = Ynormt.size"
   ]
  },
  {
   "cell_type": "code",
   "execution_count": 8,
   "metadata": {},
   "outputs": [],
   "source": [
    "featuresSet = Xnorm.values\n",
    "labelsSet = Ynorm.values.reshape((-1,1))\n",
    "mode = 'train'\n",
    "\n",
    "featuresSetTest = Xnormt.values\n",
    "labelsSetTest = Ynormt.values.reshape((-1,1))\n",
    "\n",
    "\n",
    "    \n",
    "batch_size = tf.placeholder(tf.int64);\n",
    "x = tf.placeholder(tf.float32, shape=[None,featuresSet.size/len(featuresSet)]);\n",
    "y = tf.placeholder(tf.float32, shape=[None,labelsSet.size/len(labelsSet)])    \n",
    "dataset = tf.data.Dataset.from_tensor_slices((x, y)).shuffle(1000,seed=SEED).batch(BATCH_SIZE).repeat() #Could shuffle()\n",
    "    \n",
    "iterator = dataset.make_initializable_iterator()\n",
    "features, labels = iterator.get_next()    \n",
    "    \n",
    "    \n",
    "#   \"\"\"Model function for NN.\"\"\"\n",
    "\n",
    "  # Input Layer\n",
    "input_layer = tf.reshape(features, [-1, M*N])\n",
    "    \n",
    "dense1 = tf.layers.dense(inputs=input_layer, units=d1units, activation=d1activation)\n",
    "    \n",
    "x1_norm = tf.layers.batch_normalization(dense1,center=True, scale=True,\n",
    "                                            training=mode == tf.estimator.ModeKeys.TRAIN)\n",
    "    \n",
    "dense2 = tf.layers.dense(inputs=x1_norm, units=d2units, activation=d2activation)\n",
    "    \n",
    "x2_norm = tf.layers.batch_normalization(dense2,center=True, scale=True,\n",
    "                                            training=mode == tf.estimator.ModeKeys.TRAIN)    \n",
    "\n",
    "#     Dense Layer 3 \n",
    "dense3 = tf.layers.dense(inputs=x2_norm, units=d3units, activation=d3activation)\n",
    "dropout = tf.layers.dropout(inputs=dense3, rate=droprate, training=mode == tf.estimator.ModeKeys.TRAIN)\n",
    "    \n",
    "#     Output layer\n",
    "logits = tf.layers.dense(inputs=dropout, units=logitsunit)\n",
    "\n",
    "loss = tf.losses.mean_squared_error(labels,logits)\n",
    "loss += tf.losses.get_regularization_loss()\n",
    "  # Configure the Training Op (for TRAIN mode)\n",
    "if mode == tf.estimator.ModeKeys.TRAIN:        \n",
    "    update_ops = tf.get_collection(tf.GraphKeys.UPDATE_OPS)\n",
    "\n",
    "    global_step = tf.Variable(0)        \n",
    "    optimizer = tf.train.AdamOptimizer(learning_rate=\n",
    "                                        tf.train.exponential_decay(LEARNING_RATE,\n",
    "                                                                    global_step,\n",
    "                                                                    decayiters, decay, staircase=True))        \n",
    "    train_op = optimizer.minimize(loss=loss,global_step=global_step)\n",
    "        \n",
    "    "
   ]
  },
  {
   "cell_type": "code",
   "execution_count": 9,
   "metadata": {
    "scrolled": true
   },
   "outputs": [
    {
     "name": "stdout",
     "output_type": "stream",
     "text": [
      "Training...\n",
      "Epoch: 24, Loss: 0.9024\n",
      "Epoch: 49, Loss: 0.8987\n",
      "Epoch: 74, Loss: 0.9017\n",
      "Epoch: 99, Loss: 0.8989\n",
      "Epoch: 124, Loss: 0.9003\n",
      "Epoch: 149, Loss: 0.8955\n",
      "Epoch: 174, Loss: 0.8967\n",
      "Epoch: 199, Loss: 0.8953\n",
      "Epoch: 224, Loss: 0.8964\n",
      "Epoch: 249, Loss: 0.8975\n",
      "Epoch: 274, Loss: 0.8972\n",
      "Epoch: 299, Loss: 0.8971\n",
      "Epoch: 324, Loss: 0.8948\n",
      "Epoch: 349, Loss: 0.9031\n",
      "Epoch: 374, Loss: 0.8947\n",
      "Epoch: 399, Loss: 0.8969\n",
      "Epoch: 424, Loss: 0.8953\n",
      "Epoch: 449, Loss: 0.8952\n",
      "Epoch: 474, Loss: 0.8951\n",
      "Epoch: 499, Loss: 0.8945\n",
      "Epoch: 524, Loss: 0.8967\n",
      "Epoch: 549, Loss: 0.8948\n",
      "Epoch: 574, Loss: 0.8969\n",
      "Epoch: 599, Loss: 0.8964\n",
      "Epoch: 624, Loss: 0.8942\n",
      "Epoch: 649, Loss: 0.8955\n",
      "Epoch: 674, Loss: 0.8955\n",
      "Epoch: 699, Loss: 0.8964\n",
      "Epoch: 724, Loss: 0.8942\n",
      "Epoch: 749, Loss: 0.8945\n",
      "Epoch: 774, Loss: 0.8942\n",
      "Epoch: 799, Loss: 0.8948\n",
      "Epoch: 824, Loss: 0.8958\n",
      "Epoch: 849, Loss: 0.8947\n",
      "Epoch: 874, Loss: 0.8934\n",
      "Epoch: 899, Loss: 0.8923\n",
      "Epoch: 924, Loss: 0.8914\n",
      "Epoch: 949, Loss: 0.8956\n",
      "Epoch: 974, Loss: 0.8938\n",
      "Epoch: 999, Loss: 0.8952\n",
      "Epoch: 1024, Loss: 0.8916\n",
      "Epoch: 1049, Loss: 0.8922\n",
      "Epoch: 1074, Loss: 0.8935\n",
      "Epoch: 1099, Loss: 0.8942\n",
      "Epoch: 1124, Loss: 0.8898\n",
      "Epoch: 1149, Loss: 0.8906\n",
      "Epoch: 1174, Loss: 0.8924\n",
      "Epoch: 1199, Loss: 0.8914\n",
      "Epoch: 1224, Loss: 0.8910\n",
      "Epoch: 1249, Loss: 0.8928\n",
      "Epoch: 1274, Loss: 0.8910\n",
      "Epoch: 1299, Loss: 0.8917\n",
      "Epoch: 1324, Loss: 0.8910\n",
      "Epoch: 1349, Loss: 0.8898\n",
      "Epoch: 1374, Loss: 0.8920\n",
      "Epoch: 1399, Loss: 0.8901\n",
      "Epoch: 1424, Loss: 0.8910\n",
      "Epoch: 1449, Loss: 0.8899\n",
      "Epoch: 1474, Loss: 0.8913\n",
      "Epoch: 1499, Loss: 0.8905\n",
      "Epoch: 1524, Loss: 0.8906\n",
      "Epoch: 1549, Loss: 0.8901\n",
      "Epoch: 1574, Loss: 0.8899\n",
      "Epoch: 1599, Loss: 0.8899\n",
      "Epoch: 1624, Loss: 0.8901\n",
      "Epoch: 1649, Loss: 0.8895\n",
      "Epoch: 1674, Loss: 0.8901\n",
      "Epoch: 1699, Loss: 0.8912\n",
      "Epoch: 1724, Loss: 0.8896\n",
      "Epoch: 1749, Loss: 0.8881\n",
      "Epoch: 1774, Loss: 0.8889\n",
      "Epoch: 1799, Loss: 0.8898\n",
      "Epoch: 1824, Loss: 0.8879\n",
      "Epoch: 1849, Loss: 0.8880\n",
      "Epoch: 1874, Loss: 0.8888\n",
      "Epoch: 1899, Loss: 0.8897\n",
      "Epoch: 1924, Loss: 0.8882\n",
      "Epoch: 1949, Loss: 0.8892\n",
      "Epoch: 1974, Loss: 0.8891\n",
      "Epoch: 1999, Loss: 0.8883\n",
      "Training complete\n"
     ]
    }
   ],
   "source": [
    "with tf.Session() as sess:\n",
    "    \n",
    "    sess.run(tf.global_variables_initializer())\n",
    "            # initialise iterator with train data TODO\n",
    "    sess.run(iterator.initializer, feed_dict={ x: featuresSet, y: labelsSet, batch_size: BATCH_SIZE})\n",
    "    print('Training...')\n",
    "    for i in range(EPOCHS):\n",
    "        tot_loss = 0\n",
    "        for _ in range(n_batches):                    \n",
    "            _, loss_value = sess.run([train_op, loss])\n",
    "            tot_loss += loss_value                    \n",
    "        if (i+1) % 25 == 0:\n",
    "            print(\"Epoch: {}, Loss: {:.4f}\".format(i, tot_loss / n_batches))\n",
    "    print(\"Training complete\")\n",
    "#             return sess\n",
    "    # initialise iterator with test data\n",
    "    mode = 'eval'\n",
    "    sess.run(iterator.initializer, feed_dict={ x: featuresSetTest, y: labelsSetTest, batch_size: test_length})\n",
    "    Yh,Y1,_,L = sess.run([logits,labels,train_op, loss])"
   ]
  },
  {
   "cell_type": "code",
   "execution_count": 10,
   "metadata": {},
   "outputs": [
    {
     "data": {
      "text/plain": [
       "'Test Loss: 1.2985'"
      ]
     },
     "execution_count": 10,
     "metadata": {},
     "output_type": "execute_result"
    }
   ],
   "source": [
    "\"Test Loss: {:.4f}\".format(L)"
   ]
  },
  {
   "cell_type": "code",
   "execution_count": 11,
   "metadata": {},
   "outputs": [],
   "source": [
    "def enframe(Yh,Y,miu,sigma):\n",
    "    Yhu=Yh*sigma+miu\n",
    "    Yu=Y1*sigma+miu\n",
    "\n",
    "    a1= pd.DataFrame(Yhu)\n",
    "    a1.columns = ['yhat']\n",
    "    a2= pd.DataFrame(Yu)\n",
    "    a2.columns = ['y']    \n",
    "    return a1.join(a2)"
   ]
  },
  {
   "cell_type": "code",
   "execution_count": 12,
   "metadata": {},
   "outputs": [
    {
     "data": {
      "text/plain": [
       "0.0008140712380409241"
      ]
     },
     "execution_count": 12,
     "metadata": {},
     "output_type": "execute_result"
    }
   ],
   "source": [
    "aux = enframe(Yh,Y1,miuY,sigmaY)\n",
    "E = aux.iloc[:,0].values - aux.iloc[:,1].values\n",
    "SE = E@E\n",
    "MSE = SE/len(E)\n",
    "MSE"
   ]
  },
  {
   "cell_type": "markdown",
   "metadata": {},
   "source": [
    "# Distribución del error para 'test'"
   ]
  },
  {
   "cell_type": "code",
   "execution_count": 13,
   "metadata": {},
   "outputs": [
    {
     "data": {
      "text/plain": [
       "<matplotlib.axes._subplots.AxesSubplot at 0x7f4580bcc470>"
      ]
     },
     "execution_count": 13,
     "metadata": {},
     "output_type": "execute_result"
    },
    {
     "data": {
      "image/png": "[encoded data removed]",
      "text/plain": [
       "<matplotlib.figure.Figure at 0x7f459e8a6d30>"
      ]
     },
     "metadata": {},
     "output_type": "display_data"
    }
   ],
   "source": [
    "(aux.iloc[:,0]-aux.iloc[:,1]).hist(bins=30)"
   ]
  },
  {
   "cell_type": "markdown",
   "metadata": {},
   "source": [
    "## Modelo 2: Red Convolucional"
   ]
  },
  {
   "cell_type": "code",
   "execution_count": 14,
   "metadata": {},
   "outputs": [],
   "source": [
    "X, Y = (trSet.iloc[:,nEXTRA_FEATURES:nEXTRA_FEATURES+nFEATURES+1],trSet.iloc[:,nEXTRA_FEATURES+nFEATURES+60+1]);\n",
    "miuY = Y.mean()\n",
    "sigmaY = Y.std()\n",
    "Xnorm = (X - X.mean())/X.std();\n",
    "Ynorm = (Y - miuY)/sigmaY;"
   ]
  },
  {
   "cell_type": "code",
   "execution_count": 15,
   "metadata": {},
   "outputs": [],
   "source": [
    "Xnorm,Xnormt,Ynorm,Ynormt = splitMe(Xnorm,Ynorm, test_size=0.05, random_state=1995)"
   ]
  },
  {
   "cell_type": "code",
   "execution_count": 16,
   "metadata": {},
   "outputs": [],
   "source": [
    "INPUT_SIZE = X.columns.size;\n",
    "M = 1;\n",
    "N = INPUT_SIZE;\n",
    "c1filter = 32;\n",
    "c2filter = 16;\n",
    "c1kernel = [1,3];\n",
    "c2kernel = [1,2];\n",
    "c1padding = 'same';\n",
    "c2padding = 'same';\n",
    "c1activation = None;\n",
    "c2activation = None;\n",
    "d1units = 8;\n",
    "d1activation = tf.nn.sigmoid;\n",
    "droprate = .4;\n",
    "logitsunit = 1;\n",
    "LEARNING_RATE = 0.1;\n",
    "EPOCHS = 1000;\n",
    "BATCH_SIZE = 200;\n",
    "n_batches = 200;\n",
    "SEED=2;\n",
    "reg_scale = .9;\n",
    "decay = .96;\n",
    "decayiters = 100000;\n",
    "test_length = Ynormt.size"
   ]
  },
  {
   "cell_type": "code",
   "execution_count": 17,
   "metadata": {},
   "outputs": [],
   "source": [
    "   \n",
    "featuresSet = Xnorm.values\n",
    "labelsSet = Ynorm.values.reshape((-1,1))\n",
    "mode = 'train'\n",
    "\n",
    "featuresSetTest = Xnormt.values\n",
    "labelsSetTest = Ynormt.values.reshape((-1,1))\n",
    "    \n",
    "batch_size = tf.placeholder(tf.int64);\n",
    "x = tf.placeholder(tf.float32, shape=[None,featuresSet.size/len(featuresSet)]);\n",
    "y = tf.placeholder(tf.float32, shape=[None,labelsSet.size/len(labelsSet)])    \n",
    "dataset = tf.data.Dataset.from_tensor_slices((x, y)).shuffle(1000,seed=SEED).batch(BATCH_SIZE).repeat()\n",
    "    \n",
    "iterator = dataset.make_initializable_iterator()\n",
    "features, labels = iterator.get_next()    \n",
    "    \n",
    "    \n",
    "#   \"\"\"Model function for CNN.\"\"\"\n",
    "\n",
    "  # Input Layer\n",
    "input_layer = tf.reshape(features, [-1, M*N,1, 1])\n",
    "\n",
    "  # Convolutional Layer #1\n",
    "conv1 = tf.layers.conv2d(\n",
    "    inputs = input_layer,\n",
    "    filters = c1filter,\n",
    "    kernel_size = c1kernel,\n",
    "    kernel_regularizer= tf.contrib.layers.l2_regularizer(scale=reg_scale),\n",
    "    padding =c1padding,\n",
    "    activation = c1activation)\n",
    "    \n",
    "x1_norm = tf.layers.batch_normalization(conv1,center=True, scale=True,\n",
    "                                        training=mode == tf.estimator.ModeKeys.TRAIN)\n",
    "\n",
    "  # Convolutional Layer #2\n",
    "conv2 = tf.layers.conv2d(\n",
    "    inputs = x1_norm,\n",
    "    filters = c2filter,\n",
    "    kernel_size = c2kernel,\n",
    "    kernel_regularizer= tf.contrib.layers.l2_regularizer(scale=reg_scale),\n",
    "    padding = c2padding,\n",
    "    activation = c2activation)\n",
    "    \n",
    "x2_norm = tf.layers.batch_normalization(conv2,center=True, scale=True,\n",
    "                                        training=mode == tf.estimator.ModeKeys.TRAIN)\n",
    "  # Dense Layer\n",
    "pool2_flat = tf.reshape(x2_norm, [-1, M * N * c2filter])\n",
    "dense = tf.layers.dense(inputs=pool2_flat, units=d1units, activation=d1activation)\n",
    "dropout = tf.layers.dropout(inputs=dense, rate=droprate, training=mode == tf.estimator.ModeKeys.TRAIN)\n",
    "    \n",
    "#     Output layer\n",
    "logits = tf.layers.dense(inputs=dropout, units=logitsunit)\n",
    "\n",
    "loss = tf.losses.mean_squared_error(labels,logits)\n",
    "loss += tf.losses.get_regularization_loss()\n",
    "  # Configure the Training Op (for TRAIN mode)\n",
    "if mode == tf.estimator.ModeKeys.TRAIN:        \n",
    "    update_ops = tf.get_collection(tf.GraphKeys.UPDATE_OPS)\n",
    "    global_step = tf.Variable(0)        \n",
    "    optimizer = tf.train.AdamOptimizer(learning_rate=\n",
    "                                        tf.train.exponential_decay(LEARNING_RATE,\n",
    "                                                                    global_step,\n",
    "                                                                    decayiters, decay, staircase=True))        \n",
    "    train_op = optimizer.minimize(loss=loss,global_step=global_step)\n",
    "        \n",
    "   "
   ]
  },
  {
   "cell_type": "code",
   "execution_count": 18,
   "metadata": {},
   "outputs": [
    {
     "name": "stdout",
     "output_type": "stream",
     "text": [
      "Training...\n",
      "Epoch: 24, Loss: 0.9985\n",
      "Epoch: 49, Loss: 0.9991\n",
      "Epoch: 74, Loss: 1.0097\n",
      "Epoch: 99, Loss: 1.0037\n",
      "Epoch: 124, Loss: 0.9975\n",
      "Epoch: 149, Loss: 1.0013\n",
      "Epoch: 174, Loss: 1.0070\n",
      "Epoch: 199, Loss: 1.0031\n",
      "Epoch: 224, Loss: 1.0018\n",
      "Epoch: 249, Loss: 1.0165\n",
      "Epoch: 274, Loss: 1.0064\n",
      "Epoch: 299, Loss: 1.0190\n",
      "Epoch: 324, Loss: 1.0018\n",
      "Epoch: 349, Loss: 0.9978\n",
      "Epoch: 374, Loss: 1.0014\n",
      "Epoch: 399, Loss: 1.0012\n",
      "Epoch: 424, Loss: 1.0083\n",
      "Epoch: 449, Loss: 1.0021\n",
      "Epoch: 474, Loss: 1.0077\n",
      "Epoch: 499, Loss: 1.0007\n",
      "Epoch: 524, Loss: 1.0093\n",
      "Epoch: 549, Loss: 1.0045\n",
      "Epoch: 574, Loss: 0.9991\n",
      "Epoch: 599, Loss: 1.0038\n",
      "Epoch: 624, Loss: 1.0184\n",
      "Epoch: 649, Loss: 1.0033\n",
      "Epoch: 674, Loss: 1.0019\n",
      "Epoch: 699, Loss: 1.0081\n",
      "Epoch: 724, Loss: 1.0273\n",
      "Epoch: 749, Loss: 0.9965\n",
      "Epoch: 774, Loss: 1.0057\n",
      "Epoch: 799, Loss: 1.0057\n",
      "Epoch: 824, Loss: 1.0270\n",
      "Epoch: 849, Loss: 1.0004\n",
      "Epoch: 874, Loss: 1.0024\n",
      "Epoch: 899, Loss: 1.0083\n",
      "Epoch: 924, Loss: 1.0044\n",
      "Epoch: 949, Loss: 1.0030\n",
      "Epoch: 974, Loss: 0.9980\n",
      "Epoch: 999, Loss: 1.0004\n",
      "Training complete\n"
     ]
    }
   ],
   "source": [
    " with tf.Session() as sess:\n",
    "        sess.run(tf.global_variables_initializer())\n",
    "        # initialise iterator with train data TODO\n",
    "        sess.run(iterator.initializer, feed_dict={ x: featuresSet, y: labelsSet, batch_size: BATCH_SIZE})\n",
    "        print('Training...')\n",
    "        for i in range(EPOCHS):\n",
    "            tot_loss = 0\n",
    "            for _ in range(n_batches):                    \n",
    "                _, loss_value = sess.run([train_op, loss])\n",
    "                tot_loss += loss_value                    \n",
    "            if (i+1) % 25 == 0:\n",
    "                print(\"Epoch: {}, Loss: {:.4f}\".format(i, tot_loss / n_batches))\n",
    "        print(\"Training complete\")\n",
    "    # initialise iterator with test data\n",
    "        mode = 'eval'\n",
    "        sess.run(iterator.initializer, feed_dict={ x: featuresSetTest, y: labelsSetTest, batch_size: test_length})\n",
    "        Yh,Y1,_,L = sess.run([logits,labels,train_op, loss])"
   ]
  },
  {
   "cell_type": "code",
   "execution_count": 19,
   "metadata": {},
   "outputs": [
    {
     "data": {
      "text/plain": [
       "'Test Loss: 0.8189'"
      ]
     },
     "execution_count": 19,
     "metadata": {},
     "output_type": "execute_result"
    }
   ],
   "source": [
    "\"Test Loss: {:.4f}\".format(L)"
   ]
  },
  {
   "cell_type": "code",
   "execution_count": 20,
   "metadata": {},
   "outputs": [
    {
     "data": {
      "text/plain": [
       "0.0005124114453792572"
      ]
     },
     "execution_count": 20,
     "metadata": {},
     "output_type": "execute_result"
    }
   ],
   "source": [
    "aux = enframe(Yh,Y1,miuY,sigmaY)\n",
    "E = aux.iloc[:,0].values - aux.iloc[:,1].values\n",
    "SE = E@E\n",
    "MSE = SE/len(E)\n",
    "MSE"
   ]
  },
  {
   "cell_type": "markdown",
   "metadata": {},
   "source": [
    "# Distribución del error para 'test'"
   ]
  },
  {
   "cell_type": "code",
   "execution_count": 21,
   "metadata": {},
   "outputs": [
    {
     "data": {
      "text/plain": [
       "<matplotlib.axes._subplots.AxesSubplot at 0x7f4578402400>"
      ]
     },
     "execution_count": 21,
     "metadata": {},
     "output_type": "execute_result"
    },
    {
     "data": {
      "image/png": "[encoded data removed]",
      "text/plain": [
       "<matplotlib.figure.Figure at 0x7f457843e748>"
      ]
     },
     "metadata": {},
     "output_type": "display_data"
    }
   ],
   "source": [
    "(aux.iloc[:,0]-aux.iloc[:,1]).hist(bins=30)"
   ]
  },
  {
   "cell_type": "code",
   "execution_count": null,
   "metadata": {},
   "outputs": [],
   "source": []
  },
  {
   "cell_type": "code",
   "execution_count": null,
   "metadata": {},
   "outputs": [],
   "source": []
  }
 ],
 "metadata": {
  "kernelspec": {
   "display_name": "Python 3",
   "language": "python",
   "name": "python3"
  },
  "language_info": {
   "codemirror_mode": {
    "name": "ipython",
    "version": 3
   },
   "file_extension": ".py",
   "mimetype": "text/x-python",
   "name": "python",
   "nbconvert_exporter": "python",
   "pygments_lexer": "ipython3",
   "version": "3.6.4"
  }
 },
 "nbformat": 4,
 "nbformat_minor": 2
}
