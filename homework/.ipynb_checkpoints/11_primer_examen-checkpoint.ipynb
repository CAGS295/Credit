{
 "cells": [
  {
   "cell_type": "markdown",
   "metadata": {},
   "source": [
    "# Modelos de Crédito\n",
    "## Nombre del Estudiante:"
   ]
  },
  {
   "cell_type": "markdown",
   "metadata": {
    "collapsed": true
   },
   "source": [
    "Carlos Alejandro Gutierrez Sandoval"
   ]
  },
  {
   "cell_type": "markdown",
   "metadata": {},
   "source": [
    "## Librerias de python"
   ]
  },
  {
   "cell_type": "code",
   "execution_count": 1,
   "metadata": {
    "collapsed": true
   },
   "outputs": [],
   "source": [
    "%matplotlib inline\n",
    "import pandas as pd\n",
    "import numpy as np\n",
    "import matplotlib.pyplot as plt"
   ]
  },
  {
   "cell_type": "markdown",
   "metadata": {},
   "source": [
    "## 1. Limite de crédito\n",
    "1. Entrene una __regresion_lineal__ para predecir el `Rating` de crédito en los datos de (`credit.csv`), sin usar `Limit`\n",
    "2. Utilice `10-fold cross validation` para estimar el error medio cuadrado fuera de la muestra.\n",
    "3. Grafique los errores obtenidos en el `cross validation`"
   ]
  },
  {
   "cell_type": "code",
   "execution_count": 2,
   "metadata": {
    "collapsed": true
   },
   "outputs": [],
   "source": [
    "data = pd.read_csv('../data/credit.csv', index_col=0)\n",
    "Y = data.Limit\n",
    "data=data.drop('Limit', axis=1)\n",
    "\n",
    "'''seed'''\n",
    "np.random.seed(1)\n",
    "'''seed'''\n",
    "\n",
    "data['shuffle'] = np.random.rand(len(data))\n",
    "train=pd.get_dummies(data)\n",
    "#print(data.shuffle)\n",
    "\n",
    "def linear_Model(training_set,Y,split): \n",
    "    training_set['X0'] = 1    \n",
    "    training_set = training_set[pd.Index(['X0']).append(training_set.columns.drop('X0'))]\n",
    "    train = training_set[(split[0] >= training_set['shuffle']) | (training_set['shuffle'] > split[1])]\n",
    "    train =train.drop('shuffle',axis=1)\n",
    "    Ytrain = Y[train.index]\n",
    "    test = training_set[(split[0] < training_set['shuffle']) & (training_set['shuffle'] <= split[1])]\n",
    "    test = test.drop('shuffle',axis=1)\n",
    "    Ytest= Y[test.index]\n",
    "    W = np.dot(np.linalg.pinv(train),Ytrain)\n",
    "    Y_=test.apply(lambda x:x@W, axis=1)\n",
    "    E= Ytest.subtract(Y_)\n",
    "    MSE = E.values @ E.values/len(E)\n",
    "    return Y_,W,MSE\n",
    "    \n",
    "\n",
    "Y_=pd.DataFrame()\n",
    "MSE =[]\n",
    "W=[]\n",
    "splits=[(0,.1),(.1,.2),(.2,.3),(.3,.4),(.4,.5),(.5,.6),(.6,.7),(.7,.8),(.8,.9),(.9,1)]\n",
    "\n",
    "\n",
    "for bins in splits:    \n",
    "    a1, a2, a3 =linear_Model(train,Y,bins)\n",
    "    MSE.append(a3)\n",
    "    W.append(a2)"
   ]
  },
  {
   "cell_type": "code",
   "execution_count": 3,
   "metadata": {},
   "outputs": [
    {
     "data": {
      "image/png": "[encoded data removed]",
      "text/plain": [
       "<matplotlib.figure.Figure at 0x7fcb6f8c6da0>"
      ]
     },
     "metadata": {},
     "output_type": "display_data"
    }
   ],
   "source": [
    "plt.scatter(np.arange(1,len(MSE) + 1),MSE)\n",
    "plt.show()"
   ]
  },
  {
   "cell_type": "markdown",
   "metadata": {},
   "source": [
    "## 2. Usando datos de `auto.csv`:\n",
    "1. Divida los datos de `auto.csv` en muestras de entrenamiento, desarollo y prueba (70\\%, 15\\%, 15\\%)\n",
    "2. Entrene una __regresion_lineal__ para predecir `mpg` usando `displacement, horsepower y weight`\n",
    "3. Aplique diferentes transformaciones no lineales a `displacement, horsepower y weight` y/o agregue otras variables, y entrene diferentes modelos (al menos 3).\n",
    "4. Escoja el mejor modelo utilizando el error en la muestra de desarollo y obtenga el error esperado fuera de la muestra con los datos de prueba.\n",
    "5. Observe los errores fuera de la muestra para todos los modelos y responda: \n",
    "    - Si observamos que otro modelo diferente al que seleccionamos en 4 tiene mejor error en la muestra de prueba, ¿Deberiamos cambiar de modelo?\n",
    "    - Si observamos que al agregar variables en el modelo el error mejora en entrenamiento pero empeora en la muestra de desarrolo, ¿Qué esta ocurriendo? ¿Como podemos evitarlo?"
   ]
  },
  {
   "cell_type": "code",
   "execution_count": 4,
   "metadata": {
    "scrolled": true
   },
   "outputs": [
    {
     "name": "stdout",
     "output_type": "stream",
     "text": [
      "lineal:  9.32871509535\n",
      "no lineal1:  9.61337406828\n",
      "no lineal2:  8.85614101275\n",
      "no lineal3:  7.75438810657\n",
      "mejor modelo en conjunto de desarrollo: no lineal3\n",
      "no lineal3 en conjunto de prueba:  11.7380547345\n"
     ]
    }
   ],
   "source": [
    "np.random.seed(1)\n",
    "\n",
    "\n",
    "def MSE(tr,w,y):\n",
    "    y_ = tr.apply(lambda x:x@w ,axis=1)\n",
    "    E= y.subtract(y_)\n",
    "    return E.values @ E.values /len(E)\n",
    "    \n",
    "\n",
    "fdata = pd.read_csv('../data/auto.csv')\n",
    "fdata = fdata[fdata['horsepower'] != '?']\n",
    "fdata['horsepower'] = pd.to_numeric(fdata['horsepower'])\n",
    "fdata['X0'] = 1\n",
    "data = fdata.loc[:,['X0','displacement','horsepower','weight','mpg']]\n",
    "data['shuffle'] = np.random.rand(len(data))\n",
    "set1 = data[ data['shuffle'] < .7 ].drop('shuffle',axis=1)\n",
    "Y1 = set1['mpg']\n",
    "set1 = set1.drop('mpg',axis=1)\n",
    "set2 = data[ (data['shuffle'] >= .7) & (data['shuffle'] < .85) ].drop('shuffle',axis=1)\n",
    "Y2 = set2['mpg']\n",
    "set2 = set2.drop('mpg',axis=1)\n",
    "set3 = data[(data['shuffle'] >= .85) & (data['shuffle'] < 1) ].drop('shuffle',axis=1)\n",
    "Y3 = set3['mpg']\n",
    "set3 = set3.drop('mpg',axis=1)\n",
    "\n",
    "W_linear = np.dot(np.linalg.pinv(set1),Y1)\n",
    "''' no lineal 1'''\n",
    "m_nl_1 = set1\n",
    "aux =  m_nl_1.multiply(m_nl_1).drop('X0',axis=1)\n",
    "aux.columns = ['dis_2','horse_2','w_2']\n",
    "m_nl_1 =m_nl_1.join(aux)\n",
    "m_nl_1 = m_nl_1.join(fdata['cylinders'])\n",
    "W_nl_1 = np.dot(np.linalg.pinv(m_nl_1),Y1)\n",
    "\n",
    "\n",
    "m_nl_1_2 = set2\n",
    "aux =  m_nl_1_2.multiply(m_nl_1_2).drop('X0',axis=1)\n",
    "aux.columns = ['dis_2','horse_2','w_2']\n",
    "m_nl_1_2 =m_nl_1_2.join(aux)\n",
    "m_nl_1_2 = m_nl_1_2.join(fdata['cylinders'])\n",
    "\n",
    "'''no lineal 2'''\n",
    "\n",
    "m_nl_2 = set1\n",
    "aux =pd.DataFrame( m_nl_2['horsepower'].multiply(m_nl_2['displacement']))\n",
    "aux.columns = ['hp_disp']\n",
    "m_nl_2 = m_nl_2.join(aux).join(fdata['cylinders'])\n",
    "W_nl_2 = np.dot(np.linalg.pinv(m_nl_2),Y1)\n",
    "\n",
    "m_nl_2_2 = set2\n",
    "aux = pd.DataFrame( m_nl_2_2['horsepower'].multiply(m_nl_2_2['displacement']))\n",
    "aux.columns = ['hp_disp']\n",
    "m_nl_2_2 =m_nl_2_2.join(aux).join(fdata['cylinders'])\n",
    "\n",
    "\n",
    "'''no lineal 3'''\n",
    "m_nl_3 = set1\n",
    "m_nl_3 = m_nl_3.join(fdata['cylinders']) \n",
    "aux =pd.DataFrame( m_nl_3['horsepower'].multiply(m_nl_3['cylinders']))\n",
    "aux.columns = ['hp_cyl']\n",
    "m_nl_3 = m_nl_3.join(aux)\n",
    "W_nl_3 = np.dot(np.linalg.pinv(m_nl_3),Y1)\n",
    "\n",
    "\n",
    "m_nl_3_2 = set2\n",
    "m_nl_3_2 = m_nl_3_2.join(fdata['cylinders']) \n",
    "aux =pd.DataFrame( m_nl_3_2['horsepower'].multiply(m_nl_3_2['cylinders']))\n",
    "aux.columns = ['hp_cyl']\n",
    "m_nl_3_2 = m_nl_3_2.join(aux)\n",
    "\n",
    "\n",
    "\n",
    "print('lineal: ',MSE(set2,W_linear,Y2))\n",
    "print('no lineal1: ',MSE(m_nl_1_2,W_nl_1,Y2))\n",
    "print('no lineal2: ',MSE(m_nl_2_2,W_nl_2,Y2))\n",
    "print('no lineal3: ',MSE(m_nl_3_2,W_nl_3,Y2))\n",
    "print('mejor modelo en conjunto de desarrollo: no lineal3')\n",
    "\n",
    "m_nl_3_3 = set3\n",
    "m_nl_3_3 = m_nl_3_3.join(fdata['cylinders']) \n",
    "aux =pd.DataFrame( m_nl_3_3['horsepower'].multiply(m_nl_3_3['cylinders']))\n",
    "aux.columns = ['hp_cyl']\n",
    "m_nl_3_3 = m_nl_3_3.join(aux)\n",
    "\n",
    "print('no lineal3 en conjunto de prueba: ',MSE(m_nl_3_3,W_nl_3,Y3))\n",
    "\n",
    "#set1.head()"
   ]
  },
  {
   "cell_type": "markdown",
   "metadata": {},
   "source": [
    "2.5)\n",
    "No necesariamente, dado que los conjuntos se eligen aleatoriamente, que un modelo en esta corrida (seed=1) sea mejor que otro no es factor determinante para escogerlo sobre algun otro a menos que difieran mucho cabe considerarse en mi opinión. Por el teorema de limite central, sabemos que a través de las corridas el SME de cada modelo tiende a normalidad y con pruebas de hipótesis sobre el SME de cada modelo podemos inferir si los SME son estadísticamente diferentes y así escoger el mejor modelo invariante de la corrida."
   ]
  },
  {
   "cell_type": "markdown",
   "metadata": {},
   "source": [
    "2.5.b)\n",
    "Overfitting, el modelo se está sobreajustando, empezando a capturar ruido, el modelo se hace muy bueno estimando 'in-sample' lo mismo que lo hace muy malo para predecir 'out-sample'. Podemos tratar de evitar variables altamente correlacionadas, disminuir el grado del polinomio subyacente al modelo, intentar normalizar y aplicar transformaciones a los datos de entrada antes de procesarlos (PCA por ejemplo); utilizando cross fold validation para asegurarnos que nuesto modelo tiene validez fuera de la muestra de entrenamiento."
   ]
  },
  {
   "cell_type": "markdown",
   "metadata": {},
   "source": [
    "## 3. Usando es datataset del titanic `titanic.csv` (la descripción de las columnas esta en `titanic.txt`\n",
    "1. Escoga las variables/columnas que usaria para predecir la sobrevivencia `Survived`\n",
    "2. Aplique las técnicas de clase para rellenar los datos faltantes.\n",
    "3. Divida la muestra en entrenamiento y prueba (80%, 20%).\n",
    "4. Entrene una regresión logistica para predecir `Survived`\n",
    "5. Grafique el error en la muestra de entrenamiento y prueba durante el entrenamiento.\n",
    "6. Grafique los histogramas del número de sobrevivientes para cada `bin` de probabilidad, tanto para la muestra de entrenamiento como prueba.\n",
    "7. Grafique la curva ROC para su entrenamiento con los siguientes ejes: VP/P vs 1 - VN/N\n",
    "donde:\n",
    "    VP = verdaderos positivos (número de predichos a sobrevivir y que realmente sobrevivieron)\n",
    "    P = positivos (número total que realmente sobrevivieron)\n",
    "    VN = verdaderos negativos (número de predichos a no-sobrevivir y que realmente no-sobrevivieron)\n",
    "    N = negativos (número total que realmente no-sobrevivieron)\n",
    "8. Calcule el area debajo entre la curva ROC y la recta x = y."
   ]
  },
  {
   "cell_type": "code",
   "execution_count": 5,
   "metadata": {
    "collapsed": true
   },
   "outputs": [],
   "source": [
    "np.random.seed(1)\n",
    "titanic =pd.read_csv('../data/titanic.csv')\n",
    "titanic = titanic.loc[:,['Survived','Pclass','Sex','Age','SibSp','Parch','Fare']]\n",
    "titanic = titanic.dropna()\n",
    "titanic['Age'] = titanic.Age.astype('int64')\n",
    "titanic = pd.get_dummies(titanic)\n",
    "''''''\n",
    "titanic.Survived = titanic.Survived.apply(lambda x: -1 if x == 0 else x)\n",
    "Y = titanic['Survived']\n",
    "titanic['shuffle'] = np.random.rand(len(titanic))\n",
    "titanic = titanic.drop('Survived',axis=1)\n",
    "train = titanic[titanic['shuffle'] < .8].drop('shuffle',axis=1)\n",
    "Ytr = Y.loc[train.index]\n",
    "test = titanic[titanic['shuffle'] >= .8].drop('shuffle',axis=1)\n",
    "Yt = Y.loc[test.index]\n"
   ]
  },
  {
   "cell_type": "code",
   "execution_count": 6,
   "metadata": {
    "collapsed": true
   },
   "outputs": [],
   "source": [
    "def logistic(df, w):\n",
    "#     olvidé dropear X0\n",
    "    s = df.apply(lambda row: np.dot(w,row), axis=1)\n",
    "    return 1/(1+np.exp(-s))\n",
    "def cross_entropy(df,y, w):\n",
    "    z = - df.apply(lambda row: np.dot(w, row), axis=1) * y\n",
    "    return (1/len(df)) * (np.log(1 + np.exp(z))).sum()\n",
    "def gradiente(df,y, w):\n",
    "    # z = yWx\n",
    "    z = df.apply(lambda row: np.dot(w, row), axis=1) * y\n",
    "    # v = yx\n",
    "    v = df.multiply(y, axis=0)\n",
    "    return - (1/len(df)) * (v.divide(1 + np.exp(z), axis=0)).sum()\n",
    "def gradiente_descendente(df,y,test,yt, w0, eta=0.002, iterations=1000, error_threshold=0.001):\n",
    "    w = w0 ; Etr = [] ;Et = []   \n",
    "    Etr.append(cross_entropy(df,y, w))    \n",
    "    Et.append(cross_entropy(test,yt, w))\n",
    "    error_prev = cross_entropy(df,y, w)       \n",
    "    for _ in range(iterations):\n",
    "        w -= eta*gradiente(df,y, w)\n",
    "        error = cross_entropy(df,y,w)\n",
    "        if (error_prev/error - 1) < error_threshold:\n",
    "            break\n",
    "        error_prev = error\n",
    "        #print(error)\n",
    "        Etr.append(error)\n",
    "        Et.append(cross_entropy(test,yt, w))\n",
    "\n",
    "        \n",
    "    return w,Etr,Et"
   ]
  },
  {
   "cell_type": "code",
   "execution_count": 7,
   "metadata": {
    "collapsed": true
   },
   "outputs": [],
   "source": [
    "W,Etr,Et=gradiente_descendente(train,Ytr,test,Yt,np.random.rand(7),.002,1000,.001)\n"
   ]
  },
  {
   "cell_type": "code",
   "execution_count": 8,
   "metadata": {},
   "outputs": [
    {
     "data": {
      "text/plain": [
       "<matplotlib.legend.Legend at 0x7fcb673aa8d0>"
      ]
     },
     "execution_count": 8,
     "metadata": {},
     "output_type": "execute_result"
    },
    {
     "data": {
      "image/png": "[encoded data removed]",
      "text/plain": [
       "<matplotlib.figure.Figure at 0x7fcb673cf940>"
      ]
     },
     "metadata": {},
     "output_type": "display_data"
    }
   ],
   "source": [
    "plt.plot(np.arange(len(Etr)),Etr,label='train')\n",
    "plt.plot(np.arange(len(Etr)),Et,label='test')\n",
    "plt.legend()"
   ]
  },
  {
   "cell_type": "code",
   "execution_count": 9,
   "metadata": {},
   "outputs": [
    {
     "data": {
      "text/plain": [
       "<matplotlib.axes._subplots.AxesSubplot at 0x7fcb6737b7f0>"
      ]
     },
     "execution_count": 9,
     "metadata": {},
     "output_type": "execute_result"
    },
    {
     "data": {
      "image/png": "[encoded data removed]",
      "text/plain": [
       "<matplotlib.figure.Figure at 0x7fcb673cf198>"
      ]
     },
     "metadata": {},
     "output_type": "display_data"
    }
   ],
   "source": [
    "result = pd.DataFrame({'yhat': logistic(train, W), 'y':Ytr})\n",
    "result[result.y == 1].yhat.hist(alpha=.4,color='b')\n",
    "result[result.y == -1].yhat.hist(alpha=.4,color='r')"
   ]
  },
  {
   "cell_type": "code",
   "execution_count": 10,
   "metadata": {},
   "outputs": [
    {
     "data": {
      "text/plain": [
       "<matplotlib.axes._subplots.AxesSubplot at 0x7fcb673449e8>"
      ]
     },
     "execution_count": 10,
     "metadata": {},
     "output_type": "execute_result"
    },
    {
     "data": {
      "image/png": "[encoded data removed]",
      "text/plain": [
       "<matplotlib.figure.Figure at 0x7fcb672d8c18>"
      ]
     },
     "metadata": {},
     "output_type": "display_data"
    }
   ],
   "source": [
    "resulttest = pd.DataFrame({'yhat': logistic(test, W), 'y':Yt})\n",
    "resulttest[resulttest.y == 1].yhat.hist(alpha=.4,color='b')\n",
    "resulttest[resulttest.y == -1].yhat.hist(alpha=.4,color='r')"
   ]
  },
  {
   "cell_type": "code",
   "execution_count": 11,
   "metadata": {},
   "outputs": [
    {
     "data": {
      "text/plain": [
       "[<matplotlib.lines.Line2D at 0x7fcb6733a748>]"
      ]
     },
     "execution_count": 11,
     "metadata": {},
     "output_type": "execute_result"
    },
    {
     "data": {
      "image/png": "[encoded data removed]",
      "text/plain": [
       "<matplotlib.figure.Figure at 0x7fcb6724ff60>"
      ]
     },
     "metadata": {},
     "output_type": "display_data"
    }
   ],
   "source": [
    "def rates(Y,Y_,threshold):\n",
    "    Y_ = Y_.apply(lambda x: 1 if x > threshold else -1)\n",
    "    TP = ((Y == 1) & (Y_ == 1)).sum()/(Y == 1).sum()\n",
    "    FP = 1 - ((Y == -1) & (Y_ == -1)).sum()/(Y == -1).sum()\n",
    "    return TP,FP  \n",
    "    \n",
    "    \n",
    "tprs = []\n",
    "fprs = []\n",
    "\n",
    "for t in range(-100,100, 1):\n",
    "    tpr, fpr = rates(result.y,result.yhat,t/100)\n",
    "    tprs.append(tpr)\n",
    "    fprs.append(fpr)\n",
    "pd.DataFrame({'tpr': tprs, 'fpr': fprs}).plot.scatter('fpr', 'tpr')\n",
    "plt.plot([0,1],[0,1],c='k')"
   ]
  },
  {
   "cell_type": "code",
   "execution_count": 12,
   "metadata": {},
   "outputs": [
    {
     "data": {
      "text/plain": [
       "0.57076389892895252"
      ]
     },
     "execution_count": 12,
     "metadata": {},
     "output_type": "execute_result"
    }
   ],
   "source": [
    "fpr = pd.DataFrame(np.array(fprs)[::-1])\n",
    "tpr = pd.DataFrame(np.array(tprs)[::-1])\n",
    "(fpr/fpr.shift(1) - 1).iloc[1:,:]\n",
    "(tpr.iloc[1:,:].T.values @ (fpr/fpr.shift(1) - 1).iloc[1:,:].values - .5)[0][0]"
   ]
  },
  {
   "cell_type": "markdown",
   "metadata": {},
   "source": [
    "## Notas:\n",
    "- Modifique este archive y envielo in formato de python notebook `.ipynb`\n",
    "- No envie los archivos de datos `*.csv` solo el notebook `.ipynb`\n",
    "- Asegurese que el código corre, verifique con: `Kernel -> Restard & Run All`\n",
    "- Código que genere errores será penalizado.\n",
    "- __ No copie o permita que otros le copien, ambos participantes seran penalizados__\n",
    "- Para cualquer douda envie un correo inmediatamente a [magania@iteso.mx](mailto:magania@iteso.mx)"
   ]
  },
  {
   "cell_type": "code",
   "execution_count": null,
   "metadata": {
    "collapsed": true
   },
   "outputs": [],
   "source": []
  }
 ],
 "metadata": {
  "kernelspec": {
   "display_name": "Python 3",
   "language": "python",
   "name": "python3"
  },
  "language_info": {
   "codemirror_mode": {
    "name": "ipython",
    "version": 3
   },
   "file_extension": ".py",
   "mimetype": "text/x-python",
   "name": "python",
   "nbconvert_exporter": "python",
   "pygments_lexer": "ipython3",
   "version": "3.6.3"
  }
 },
 "nbformat": 4,
 "nbformat_minor": 1
}
