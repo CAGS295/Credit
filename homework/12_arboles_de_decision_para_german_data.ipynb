{
 "cells": [
  {
   "cell_type": "markdown",
   "metadata": {},
   "source": [
    "# Árboles de decision para `German.data`\n",
    "`\n",
    "\n",
    "Modifique los metodos para el arbol de decision, para poder utilizarlo para classificación. Y apliquelo en los datos de `titanic.csv`"
   ]
  },
  {
   "cell_type": "code",
   "execution_count": 1,
   "metadata": {},
   "outputs": [
    {
     "data": {
      "text/html": [
       "<div>\n",
       "<style>\n",
       "    .dataframe thead tr:only-child th {\n",
       "        text-align: right;\n",
       "    }\n",
       "\n",
       "    .dataframe thead th {\n",
       "        text-align: left;\n",
       "    }\n",
       "\n",
       "    .dataframe tbody tr th {\n",
       "        vertical-align: top;\n",
       "    }\n",
       "</style>\n",
       "<table border=\"1\" class=\"dataframe\">\n",
       "  <thead>\n",
       "    <tr style=\"text-align: right;\">\n",
       "      <th></th>\n",
       "      <th>duration_</th>\n",
       "      <th>amount_</th>\n",
       "      <th>installment_</th>\n",
       "      <th>recidence_</th>\n",
       "      <th>age_</th>\n",
       "      <th>credits_</th>\n",
       "      <th>liable_</th>\n",
       "      <th>is_good</th>\n",
       "      <th>checking_A12</th>\n",
       "      <th>checking_A13</th>\n",
       "      <th>...</th>\n",
       "      <th>property_A124</th>\n",
       "      <th>other_A142</th>\n",
       "      <th>other_A143</th>\n",
       "      <th>housing_A152</th>\n",
       "      <th>housing_A153</th>\n",
       "      <th>job_A172</th>\n",
       "      <th>job_A173</th>\n",
       "      <th>job_A174</th>\n",
       "      <th>telephone_A192</th>\n",
       "      <th>foreign_A202</th>\n",
       "    </tr>\n",
       "  </thead>\n",
       "  <tbody>\n",
       "    <tr>\n",
       "      <th>0</th>\n",
       "      <td>6</td>\n",
       "      <td>1169</td>\n",
       "      <td>4</td>\n",
       "      <td>4</td>\n",
       "      <td>67</td>\n",
       "      <td>2</td>\n",
       "      <td>1</td>\n",
       "      <td>1</td>\n",
       "      <td>0</td>\n",
       "      <td>0</td>\n",
       "      <td>...</td>\n",
       "      <td>0</td>\n",
       "      <td>0</td>\n",
       "      <td>1</td>\n",
       "      <td>1</td>\n",
       "      <td>0</td>\n",
       "      <td>0</td>\n",
       "      <td>1</td>\n",
       "      <td>0</td>\n",
       "      <td>1</td>\n",
       "      <td>0</td>\n",
       "    </tr>\n",
       "    <tr>\n",
       "      <th>1</th>\n",
       "      <td>48</td>\n",
       "      <td>5951</td>\n",
       "      <td>2</td>\n",
       "      <td>2</td>\n",
       "      <td>22</td>\n",
       "      <td>1</td>\n",
       "      <td>1</td>\n",
       "      <td>2</td>\n",
       "      <td>1</td>\n",
       "      <td>0</td>\n",
       "      <td>...</td>\n",
       "      <td>0</td>\n",
       "      <td>0</td>\n",
       "      <td>1</td>\n",
       "      <td>1</td>\n",
       "      <td>0</td>\n",
       "      <td>0</td>\n",
       "      <td>1</td>\n",
       "      <td>0</td>\n",
       "      <td>0</td>\n",
       "      <td>0</td>\n",
       "    </tr>\n",
       "    <tr>\n",
       "      <th>2</th>\n",
       "      <td>12</td>\n",
       "      <td>2096</td>\n",
       "      <td>2</td>\n",
       "      <td>3</td>\n",
       "      <td>49</td>\n",
       "      <td>1</td>\n",
       "      <td>2</td>\n",
       "      <td>1</td>\n",
       "      <td>0</td>\n",
       "      <td>0</td>\n",
       "      <td>...</td>\n",
       "      <td>0</td>\n",
       "      <td>0</td>\n",
       "      <td>1</td>\n",
       "      <td>1</td>\n",
       "      <td>0</td>\n",
       "      <td>1</td>\n",
       "      <td>0</td>\n",
       "      <td>0</td>\n",
       "      <td>0</td>\n",
       "      <td>0</td>\n",
       "    </tr>\n",
       "    <tr>\n",
       "      <th>3</th>\n",
       "      <td>42</td>\n",
       "      <td>7882</td>\n",
       "      <td>2</td>\n",
       "      <td>4</td>\n",
       "      <td>45</td>\n",
       "      <td>1</td>\n",
       "      <td>2</td>\n",
       "      <td>1</td>\n",
       "      <td>0</td>\n",
       "      <td>0</td>\n",
       "      <td>...</td>\n",
       "      <td>0</td>\n",
       "      <td>0</td>\n",
       "      <td>1</td>\n",
       "      <td>0</td>\n",
       "      <td>1</td>\n",
       "      <td>0</td>\n",
       "      <td>1</td>\n",
       "      <td>0</td>\n",
       "      <td>0</td>\n",
       "      <td>0</td>\n",
       "    </tr>\n",
       "    <tr>\n",
       "      <th>4</th>\n",
       "      <td>24</td>\n",
       "      <td>4870</td>\n",
       "      <td>3</td>\n",
       "      <td>4</td>\n",
       "      <td>53</td>\n",
       "      <td>2</td>\n",
       "      <td>2</td>\n",
       "      <td>2</td>\n",
       "      <td>0</td>\n",
       "      <td>0</td>\n",
       "      <td>...</td>\n",
       "      <td>1</td>\n",
       "      <td>0</td>\n",
       "      <td>1</td>\n",
       "      <td>0</td>\n",
       "      <td>1</td>\n",
       "      <td>0</td>\n",
       "      <td>1</td>\n",
       "      <td>0</td>\n",
       "      <td>0</td>\n",
       "      <td>0</td>\n",
       "    </tr>\n",
       "  </tbody>\n",
       "</table>\n",
       "<p>5 rows × 49 columns</p>\n",
       "</div>"
      ],
      "text/plain": [
       "   duration_  amount_  installment_  recidence_  age_  credits_  liable_  \\\n",
       "0          6     1169             4           4    67         2        1   \n",
       "1         48     5951             2           2    22         1        1   \n",
       "2         12     2096             2           3    49         1        2   \n",
       "3         42     7882             2           4    45         1        2   \n",
       "4         24     4870             3           4    53         2        2   \n",
       "\n",
       "   is_good  checking_A12  checking_A13      ...       property_A124  \\\n",
       "0        1             0             0      ...                   0   \n",
       "1        2             1             0      ...                   0   \n",
       "2        1             0             0      ...                   0   \n",
       "3        1             0             0      ...                   0   \n",
       "4        2             0             0      ...                   1   \n",
       "\n",
       "   other_A142  other_A143  housing_A152  housing_A153  job_A172  job_A173  \\\n",
       "0           0           1             1             0         0         1   \n",
       "1           0           1             1             0         0         1   \n",
       "2           0           1             1             0         1         0   \n",
       "3           0           1             0             1         0         1   \n",
       "4           0           1             0             1         0         1   \n",
       "\n",
       "   job_A174  telephone_A192  foreign_A202  \n",
       "0         0               1             0  \n",
       "1         0               0             0  \n",
       "2         0               0             0  \n",
       "3         0               0             0  \n",
       "4         0               0             0  \n",
       "\n",
       "[5 rows x 49 columns]"
      ]
     },
     "execution_count": 1,
     "metadata": {},
     "output_type": "execute_result"
    }
   ],
   "source": [
    "column_name = ['checking', 'duration_', 'history', 'purpose', 'amount_', 'savings',\n",
    "               'employment', 'installment_', 'personal', 'guarantors', 'recidence_', \n",
    "               'property', 'age_', 'other', 'housing', 'credits_',\n",
    "               'job', 'liable_', 'telephone', 'foreign', 'is_good']\n",
    "import pandas as pd\n",
    "import numpy as np\n",
    "# from scipy.special import expit\n",
    "%matplotlib inline\n",
    "import matplotlib.pyplot as plt\n",
    "#\"/media/ibu/SHARED/repos/Credit/data/german.data\"\n",
    "gdata=pd.read_csv(\"../data/german.data\", sep=\" \",header = None)\n",
    "gdata.columns = column_name;\n",
    "gdat = pd.get_dummies(gdata, drop_first = True).dropna()\n",
    "# gdat.head()"
   ]
  },
  {
   "cell_type": "markdown",
   "metadata": {},
   "source": [
    "## Gini Index\n",
    "$$ G = \\sum_{k=1}^K p_{mk} (1 - p_{mk})$$"
   ]
  },
  {
   "cell_type": "code",
   "execution_count": 2,
   "metadata": {},
   "outputs": [
    {
     "data": {
      "text/plain": [
       "(0.41821234567901233, 1)"
      ]
     },
     "execution_count": 2,
     "metadata": {},
     "output_type": "execute_result"
    }
   ],
   "source": [
    "# Un árbol esta definido por la siguiente estructura\n",
    "# {'left': None, 'right': None, 'df': df, 'rss': 0}\n",
    "\n",
    "def _gini_index(df, y):\n",
    "    \"\"\"\n",
    "    Calculate gini_index R, using the target y.\n",
    "    \"\"\"\n",
    "    categories = df[y].unique()\n",
    "    gini_index = 0\n",
    "    max_count = -float('inf')\n",
    "    yhat = None\n",
    "    for category in categories:\n",
    "        category_count = (df[y] == category).sum()\n",
    "        pmk = category_count / len(df)\n",
    "        gini_index += pmk * (1 - pmk)\n",
    "        if max_count < category_count:\n",
    "            max_count = category_count\n",
    "            yhat = category\n",
    "    return gini_index, yhat\n",
    "\n",
    "# _gini_index(gdat, 'is_good')"
   ]
  },
  {
   "cell_type": "code",
   "execution_count": 3,
   "metadata": {
    "scrolled": true
   },
   "outputs": [],
   "source": [
    "def _binary_splitting(df, y, x_j):\n",
    "    \"\"\"\n",
    "    Find the best split using the predictor x_j. \n",
    "    \"\"\"\n",
    "    cut_values = sorted(set(df[x_j]))\n",
    "    min_s = None\n",
    "    min_rss, _ = _gini_index(df, y)\n",
    "    for i in range(len(cut_values) - 1):\n",
    "        s = (cut_values[i] + cut_values[i+1]) / 2\n",
    "    \n",
    "        left_df = df[df[x_j] < s ]\n",
    "        right_df = df[df[x_j] >= s]\n",
    "        left_rss, _ = _gini_index(left_df, y)\n",
    "        right_rss, _ = _gini_index(right_df , y)\n",
    "        \n",
    "        # Weighted sum of impurity\n",
    "        rss = (left_rss*len(left_df) + right_rss*len(right_df))/len(df)\n",
    "         \n",
    "        if rss < min_rss:\n",
    "            min_s = s\n",
    "            min_rss = rss\n",
    "\n",
    "    split = {\n",
    "        'rss': min_rss,\n",
    "        's': min_s,\n",
    "        'x_j': x_j,\n",
    "        'left_df': df[df[x_j] < min_s ],\n",
    "        'right_df': df[df[x_j] >= min_s]\n",
    "    }\n",
    "    return split\n",
    "\n",
    "# _binary_splitting(gdat, 'is_good', 'amount_')"
   ]
  },
  {
   "cell_type": "code",
   "execution_count": 4,
   "metadata": {},
   "outputs": [],
   "source": [
    "def _recursive_binary_splitting(df, y, predictors):\n",
    "    \"\"\"\n",
    "    Select the best variable to reduce the\n",
    "    residual square sum from predictors.\n",
    "    \"\"\"\n",
    "    assert(len(predictors) > 0) # You should have at least one predictor\n",
    "    min_split = None\n",
    "    min_rss = float('inf')\n",
    "    for x_j in predictors:\n",
    "        split = _binary_splitting(df, y, x_j)\n",
    "        if split['rss'] < min_rss:\n",
    "            min_split = split\n",
    "            min_rss = split['rss']\n",
    "     \n",
    "    return {\n",
    "        'rss': min_rss,\n",
    "        's': min_split['s'],\n",
    "        'x_j': min_split['x_j'],\n",
    "        'left_df': min_split['left_df'],\n",
    "        'right_df': min_split['right_df']\n",
    "    }\n",
    "\n",
    "\n",
    "predict = gdat.columns.values.tolist()\n",
    "predict.remove('amount_')\n",
    "predict.remove('is_good')\n",
    "# _recursive_binary_splitting(gdat, 'is_good',[lista[0]])\n"
   ]
  },
  {
   "cell_type": "code",
   "execution_count": 5,
   "metadata": {
    "scrolled": false
   },
   "outputs": [],
   "source": [
    "def _make_tree(df, y):\n",
    "    rss, yhat = _gini_index(df, y)\n",
    "    return {'left': None, 'right':None, \n",
    "            'rss': rss,\n",
    "            'yhat': yhat,\n",
    "            'df': df,\n",
    "            'y': y}\n",
    "\n",
    "def _grow_tree(tree, predictors, min_points_per_leaf=5):\n",
    "    \"\"\"\n",
    "    Recursively divide tree using the split that\n",
    "    minimize rss. It stops when the region have\n",
    "    less than 5 elements.\n",
    "    \"\"\"\n",
    "    if len(tree['df']) <= min_points_per_leaf:\n",
    "        return tree\n",
    "    \n",
    "    split = _recursive_binary_splitting(tree['df'], tree['y'], predictors)\n",
    "    if split['s'] is None:\n",
    "        return tree\n",
    "    left_tree = _make_tree(split['left_df'], tree['y'])\n",
    "    right_tree = _make_tree(split['right_df'],  tree['y'])\n",
    "\n",
    "    _grow_tree(left_tree, predictors, min_points_per_leaf=min_points_per_leaf)\n",
    "    _grow_tree(right_tree, predictors, min_points_per_leaf=min_points_per_leaf)\n",
    "    \n",
    "    tree['left'] = left_tree\n",
    "    tree['right'] = right_tree\n",
    "    tree['x_j'] = split['x_j']\n",
    "    tree['s'] = split['s']\n",
    "    \n",
    "    return tree\n",
    "\n",
    "DE_tree = _make_tree(gdat, 'is_good')\n",
    "_grow_tree(DE_tree,predict,5);"
   ]
  },
  {
   "cell_type": "code",
   "execution_count": 6,
   "metadata": {},
   "outputs": [],
   "source": [
    "def print_tree(tree, pad=0):\n",
    "    print('{}rss'.format(' '*pad), tree['rss'], tree['yhat'])\n",
    "    if tree['left']:\n",
    "        print_tree(tree['left'], pad=pad+1)\n",
    "    if tree['right']:\n",
    "        print_tree(tree['right'], pad=pad+1)\n",
    "# print_tree(DE_tree)"
   ]
  },
  {
   "cell_type": "code",
   "execution_count": 15,
   "metadata": {},
   "outputs": [],
   "source": [
    "def _is_leaf(tree):\n",
    "    \"\"\"\n",
    "    Return if a given tree is a leaf.\n",
    "    \"\"\"\n",
    "    return not tree['left'] and not tree['right']\n",
    "\n",
    "def _tree_rss(tree):\n",
    "    \"\"\"\n",
    "    Calculate the total rss of a tree: the sum of the rss of\n",
    "    all leaves.\n",
    "    \"\"\"\n",
    "    if _is_leaf(tree):\n",
    "        return tree['rss']\n",
    "\n",
    "    wsum = len(tree['left']['df']) * _tree_rss(tree['left']) \\\n",
    "             + len(tree['right']['df']) * _tree_rss(tree['right'])\n",
    "    return wsum/len(tree['df'])\n",
    "\n",
    "# _tree_rss(DE_tree)"
   ]
  },
  {
   "cell_type": "code",
   "execution_count": 16,
   "metadata": {},
   "outputs": [],
   "source": [
    "def _count_leafs(tree):\n",
    "    \"\"\"\n",
    "    Return the number of leaves in the tree.\n",
    "    \"\"\"\n",
    "    if _is_leaf(tree):\n",
    "        return 1\n",
    "    \n",
    "    return _count_leafs(tree['left']) + _count_leafs(tree['right'])\n",
    "\n",
    "# _count_leafs(DE_tree)"
   ]
  },
  {
   "cell_type": "code",
   "execution_count": 9,
   "metadata": {
    "scrolled": false
   },
   "outputs": [],
   "source": [
    "def _is_last_branch(tree):\n",
    "    \"\"\"\n",
    "    Return if a given tree is the last branch, i.e. both \n",
    "    subtrees are leaves.\n",
    "    \"\"\"\n",
    "    return _is_leaf(tree['left']) and _is_leaf(tree['right'])\n",
    "\n",
    "def _find_min_deltarss(tree):\n",
    "    \"\"\"\n",
    "    Find the tree that reduces for which the split reduces\n",
    "    the least the rss.\n",
    "    \"\"\"\n",
    "    if _is_last_branch(tree):\n",
    "        return tree['rss'] - _tree_rss(tree), tree\n",
    "    \n",
    "    is_left_leaf = _is_leaf(tree['left'])\n",
    "    is_right_leaf = _is_leaf(tree['right'])\n",
    "    \n",
    "    if is_left_leaf and not is_right_leaf:\n",
    "        return _find_min_deltarss(tree['right'])\n",
    "    elif not is_left_leaf and is_right_leaf:\n",
    "        return _find_min_deltarss(tree['left'])\n",
    "    \n",
    "    deltarss_left, left_tree_branch = _find_min_deltarss(tree['left'])\n",
    "    deltarss_right, right_tree_branch = _find_min_deltarss(tree['right'])\n",
    "    \n",
    "    if deltarss_left < deltarss_right:\n",
    "        return deltarss_left, left_tree_branch\n",
    "    else:\n",
    "        return deltarss_right, right_tree_branch\n",
    "\n",
    "\n",
    "# _find_min_deltarss(DE_tree)"
   ]
  },
  {
   "cell_type": "code",
   "execution_count": 10,
   "metadata": {
    "scrolled": false
   },
   "outputs": [
    {
     "data": {
      "text/plain": [
       "0.35333751812290143"
      ]
     },
     "execution_count": 10,
     "metadata": {},
     "output_type": "execute_result"
    }
   ],
   "source": [
    "from copy import deepcopy\n",
    "\n",
    "def _prune_tree(tree, alpha):\n",
    "    current_tree = deepcopy(tree)\n",
    "    min_cc_tree = deepcopy(current_tree)\n",
    "    min_cc = _tree_rss(current_tree) + alpha * _count_leafs(current_tree)\n",
    "    while not _is_leaf(current_tree):\n",
    "        delta_rss, prune_tree = _find_min_deltarss(current_tree)\n",
    "        prune_tree['left'] = None\n",
    "        prune_tree['right'] = None\n",
    "        cc = _tree_rss(current_tree) + alpha * _count_leafs(current_tree)\n",
    "        #print(cc, min_cc, cc < min_cc)\n",
    "        if cc < min_cc:\n",
    "            min_cc = cc\n",
    "            min_cc_tree = deepcopy(current_tree)\n",
    "    cc = _tree_rss(current_tree) + alpha * _count_leafs(current_tree)\n",
    "    if cc < min_cc:\n",
    "        min_cc = cc\n",
    "        min_cc_tree = deepcopy(current_tree)   \n",
    "        \n",
    "    return min_cc_tree\n",
    "\n",
    "pruned_tree = _prune_tree(DE_tree, 0.005)\n",
    "_tree_rss(pruned_tree)"
   ]
  },
  {
   "cell_type": "markdown",
   "metadata": {},
   "source": [
    "# Visualización"
   ]
  },
  {
   "cell_type": "code",
   "execution_count": 11,
   "metadata": {
    "collapsed": true
   },
   "outputs": [],
   "source": [
    "import graphviz\n",
    "from IPython import display\n",
    "\n",
    "def make_node(g, name, tree):\n",
    "    attributes = {'label': 'rss: {:0.4f}'.format(tree['rss']),\n",
    "                  'shape': 'square'}\n",
    "    if tree.get('yhat'):\n",
    "        attributes['label'] += '\\n yhat: {:0.2f}'.format(tree['yhat'])\n",
    "    g.node(name, **attributes)\n",
    "    \n",
    "def make_edge(g, parent, child, tree, direction):\n",
    "    attributes = {}\n",
    "    if direction == 'l':\n",
    "        attributes['label'] = '{} < {}'.format(tree['x_j'], tree['s'])\n",
    "    if direction == 'r':\n",
    "        attributes['label'] = '{} >= {}'.format(tree['x_j'], tree['s'])\n",
    "    g.edge(parent, child, **attributes)\n",
    "    \n",
    "\n",
    "def construct_tree(g, dna, tree):\n",
    "    if not tree['left'] and not tree['right']:\n",
    "        make_node(g, dna, tree)\n",
    "    else:\n",
    "        make_node(g, dna + 'l', tree['left'])\n",
    "        make_edge(g, dna, dna + 'l', tree, 'l')\n",
    "        construct_tree(g, dna + 'l', tree['left'])\n",
    "\n",
    "        make_node(g, dna + 'r', tree['right'])\n",
    "        make_edge(g, dna, dna + 'r', tree, 'r')\n",
    "        construct_tree(g, dna + 'r', tree['right'])\n",
    "        \n",
    "def visualize_tree(tree):\n",
    "    g = graphviz.Graph('tree', 'tree.dot', engine='dot')\n",
    "    make_node(g, 'r', tree)\n",
    "    construct_tree(g, 'r', tree)\n",
    "    display.display(g)"
   ]
  },
  {
   "cell_type": "code",
   "execution_count": 12,
   "metadata": {
    "collapsed": true
   },
   "outputs": [],
   "source": [
    "#visualize_tree(titanic_tree)"
   ]
  },
  {
   "cell_type": "code",
   "execution_count": 13,
   "metadata": {},
   "outputs": [
    {
     "data": {
      "image/svg+xml": [
       "<?xml version=\"1.0\" encoding=\"UTF-8\" standalone=\"no\"?>\n",
       "<!DOCTYPE svg PUBLIC \"-//W3C//DTD SVG 1.1//EN\"\n",
       " \"http://www.w3.org/Graphics/SVG/1.1/DTD/svg11.dtd\">\n",
       "<!-- Generated by graphviz version 2.40.1 (20161225.0304)\n",
       " -->\n",
       "<!-- Title: tree Pages: 1 -->\n",
       "<svg width=\"344pt\" height=\"469pt\"\n",
       " viewBox=\"0.00 0.00 343.50 469.00\" xmlns=\"http://www.w3.org/2000/svg\" xmlns:xlink=\"http://www.w3.org/1999/xlink\">\n",
       "<g id=\"graph0\" class=\"graph\" transform=\"scale(1 1) rotate(0) translate(4 465)\">\n",
       "<title>tree</title>\n",
       "<polygon fill=\"#ffffff\" stroke=\"transparent\" points=\"-4,4 -4,-465 339.5,-465 339.5,4 -4,4\"/>\n",
       "<!-- r -->\n",
       "<g id=\"node1\" class=\"node\">\n",
       "<title>r</title>\n",
       "<polygon fill=\"none\" stroke=\"#000000\" points=\"201,-461 124,-461 124,-384 201,-384 201,-461\"/>\n",
       "<text text-anchor=\"middle\" x=\"162.5\" y=\"-426.3\" font-family=\"Times,serif\" font-size=\"14.00\" fill=\"#000000\">rss: 0.4182</text>\n",
       "<text text-anchor=\"middle\" x=\"162.5\" y=\"-411.3\" font-family=\"Times,serif\" font-size=\"14.00\" fill=\"#000000\"> yhat: 1.00</text>\n",
       "</g>\n",
       "<!-- rl -->\n",
       "<g id=\"node2\" class=\"node\">\n",
       "<title>rl</title>\n",
       "<polygon fill=\"none\" stroke=\"#000000\" points=\"134,-333 57,-333 57,-256 134,-256 134,-333\"/>\n",
       "<text text-anchor=\"middle\" x=\"95.5\" y=\"-298.3\" font-family=\"Times,serif\" font-size=\"14.00\" fill=\"#000000\">rss: 0.4869</text>\n",
       "<text text-anchor=\"middle\" x=\"95.5\" y=\"-283.3\" font-family=\"Times,serif\" font-size=\"14.00\" fill=\"#000000\"> yhat: 1.00</text>\n",
       "</g>\n",
       "<!-- r&#45;&#45;rl -->\n",
       "<g id=\"edge1\" class=\"edge\">\n",
       "<title>r&#45;&#45;rl</title>\n",
       "<path fill=\"none\" stroke=\"#000000\" d=\"M123.8911,-398.6815C113.0157,-389.8654 102.5185,-378.8377 96.5,-366 91.81,-355.996 90.2601,-344.3061 90.2339,-333.3116\"/>\n",
       "<text text-anchor=\"middle\" x=\"152.5\" y=\"-354.8\" font-family=\"Times,serif\" font-size=\"14.00\" fill=\"#000000\">checking_A14 &lt; 0.5</text>\n",
       "</g>\n",
       "<!-- rr -->\n",
       "<g id=\"node7\" class=\"node\">\n",
       "<title>rr</title>\n",
       "<polygon fill=\"none\" stroke=\"#000000\" points=\"269,-333 192,-333 192,-256 269,-256 269,-333\"/>\n",
       "<text text-anchor=\"middle\" x=\"230.5\" y=\"-298.3\" font-family=\"Times,serif\" font-size=\"14.00\" fill=\"#000000\">rss: 0.1995</text>\n",
       "<text text-anchor=\"middle\" x=\"230.5\" y=\"-283.3\" font-family=\"Times,serif\" font-size=\"14.00\" fill=\"#000000\"> yhat: 1.00</text>\n",
       "</g>\n",
       "<!-- r&#45;&#45;rr -->\n",
       "<g id=\"edge6\" class=\"edge\">\n",
       "<title>r&#45;&#45;rr</title>\n",
       "<path fill=\"none\" stroke=\"#000000\" d=\"M197.2086,-383.7328C201.3716,-378.0202 205.28,-372.0238 208.5,-366 213.9492,-355.8062 218.2685,-344.0584 221.5849,-333.0692\"/>\n",
       "<text text-anchor=\"middle\" x=\"275\" y=\"-354.8\" font-family=\"Times,serif\" font-size=\"14.00\" fill=\"#000000\">checking_A14 &gt;= 0.5</text>\n",
       "</g>\n",
       "<!-- rll -->\n",
       "<g id=\"node3\" class=\"node\">\n",
       "<title>rll</title>\n",
       "<polygon fill=\"none\" stroke=\"#000000\" points=\"77,-205 0,-205 0,-128 77,-128 77,-205\"/>\n",
       "<text text-anchor=\"middle\" x=\"38.5\" y=\"-170.3\" font-family=\"Times,serif\" font-size=\"14.00\" fill=\"#000000\">rss: 0.3122</text>\n",
       "<text text-anchor=\"middle\" x=\"38.5\" y=\"-155.3\" font-family=\"Times,serif\" font-size=\"14.00\" fill=\"#000000\"> yhat: 1.00</text>\n",
       "</g>\n",
       "<!-- rl&#45;&#45;rll -->\n",
       "<g id=\"edge2\" class=\"edge\">\n",
       "<title>rl&#45;&#45;rll</title>\n",
       "<path fill=\"none\" stroke=\"#000000\" d=\"M56.8309,-263.7221C49.8042,-256.1197 43.456,-247.4233 39.5,-238 35.2232,-227.8125 33.7992,-216.0667 33.7614,-205.0773\"/>\n",
       "<text text-anchor=\"middle\" x=\"85.5\" y=\"-226.8\" font-family=\"Times,serif\" font-size=\"14.00\" fill=\"#000000\">duration_ &lt; 11.5</text>\n",
       "</g>\n",
       "<!-- rlr -->\n",
       "<g id=\"node4\" class=\"node\">\n",
       "<title>rlr</title>\n",
       "<polygon fill=\"none\" stroke=\"#000000\" points=\"192,-205 115,-205 115,-128 192,-128 192,-205\"/>\n",
       "<text text-anchor=\"middle\" x=\"153.5\" y=\"-170.3\" font-family=\"Times,serif\" font-size=\"14.00\" fill=\"#000000\">rss: 0.4976</text>\n",
       "<text text-anchor=\"middle\" x=\"153.5\" y=\"-155.3\" font-family=\"Times,serif\" font-size=\"14.00\" fill=\"#000000\"> yhat: 1.00</text>\n",
       "</g>\n",
       "<!-- rl&#45;&#45;rlr -->\n",
       "<g id=\"edge3\" class=\"edge\">\n",
       "<title>rl&#45;&#45;rlr</title>\n",
       "<path fill=\"none\" stroke=\"#000000\" d=\"M122.0826,-255.7541C125.508,-249.9419 128.7676,-243.9125 131.5,-238 136.2945,-227.6253 140.3924,-215.9344 143.7061,-205.0583\"/>\n",
       "<text text-anchor=\"middle\" x=\"186.5\" y=\"-226.8\" font-family=\"Times,serif\" font-size=\"14.00\" fill=\"#000000\">duration_ &gt;= 11.5</text>\n",
       "</g>\n",
       "<!-- rlrl -->\n",
       "<g id=\"node5\" class=\"node\">\n",
       "<title>rlrl</title>\n",
       "<polygon fill=\"none\" stroke=\"#000000\" points=\"134,-77 57,-77 57,0 134,0 134,-77\"/>\n",
       "<text text-anchor=\"middle\" x=\"95.5\" y=\"-42.3\" font-family=\"Times,serif\" font-size=\"14.00\" fill=\"#000000\">rss: 0.4871</text>\n",
       "<text text-anchor=\"middle\" x=\"95.5\" y=\"-27.3\" font-family=\"Times,serif\" font-size=\"14.00\" fill=\"#000000\"> yhat: 1.00</text>\n",
       "</g>\n",
       "<!-- rlr&#45;&#45;rlrl -->\n",
       "<g id=\"edge4\" class=\"edge\">\n",
       "<title>rlr&#45;&#45;rlrl</title>\n",
       "<path fill=\"none\" stroke=\"#000000\" d=\"M114.7833,-139.6006C105.7864,-131.2499 97.4115,-121.2439 92.5,-110 88.0738,-99.8671 87.0877,-88.1379 87.6849,-77.147\"/>\n",
       "<text text-anchor=\"middle\" x=\"138.5\" y=\"-98.8\" font-family=\"Times,serif\" font-size=\"14.00\" fill=\"#000000\">duration_ &lt; 31.5</text>\n",
       "</g>\n",
       "<!-- rlrr -->\n",
       "<g id=\"node6\" class=\"node\">\n",
       "<title>rlrr</title>\n",
       "<polygon fill=\"none\" stroke=\"#000000\" points=\"249,-77 172,-77 172,0 249,0 249,-77\"/>\n",
       "<text text-anchor=\"middle\" x=\"210.5\" y=\"-42.3\" font-family=\"Times,serif\" font-size=\"14.00\" fill=\"#000000\">rss: 0.4705</text>\n",
       "<text text-anchor=\"middle\" x=\"210.5\" y=\"-27.3\" font-family=\"Times,serif\" font-size=\"14.00\" fill=\"#000000\"> yhat: 2.00</text>\n",
       "</g>\n",
       "<!-- rlr&#45;&#45;rlrr -->\n",
       "<g id=\"edge5\" class=\"edge\">\n",
       "<title>rlr&#45;&#45;rlrr</title>\n",
       "<path fill=\"none\" stroke=\"#000000\" d=\"M179.3131,-127.6994C182.648,-121.8952 185.8266,-115.8826 188.5,-110 193.2286,-99.5951 197.3059,-87.8948 200.6209,-77.0192\"/>\n",
       "<text text-anchor=\"middle\" x=\"243.5\" y=\"-98.8\" font-family=\"Times,serif\" font-size=\"14.00\" fill=\"#000000\">duration_ &gt;= 31.5</text>\n",
       "</g>\n",
       "</g>\n",
       "</svg>\n"
      ],
      "text/plain": [
       "<graphviz.dot.Graph at 0x7fb02ec949e8>"
      ]
     },
     "metadata": {},
     "output_type": "display_data"
    }
   ],
   "source": [
    "visualize_tree(pruned_tree)"
   ]
  },
  {
   "cell_type": "markdown",
   "metadata": {},
   "source": [
    "# Evaluación del árbol"
   ]
  },
  {
   "cell_type": "code",
   "execution_count": 17,
   "metadata": {},
   "outputs": [
    {
     "data": {
      "text/plain": [
       "1"
      ]
     },
     "execution_count": 17,
     "metadata": {},
     "output_type": "execute_result"
    }
   ],
   "source": [
    "def _evaluate(tree, event):\n",
    "    if tree['left'] == None and tree['right'] == None:\n",
    "        return tree['yhat']\n",
    "    if event[tree['x_j']] < tree['s']:\n",
    "        return _evaluate(tree['left'], event)\n",
    "    else:\n",
    "        return _evaluate(tree['right'], event)\n",
    "\n",
    "_evaluate(pruned_tree, gdat.iloc[0])"
   ]
  },
  {
   "cell_type": "code",
   "execution_count": 18,
   "metadata": {
    "collapsed": true
   },
   "outputs": [],
   "source": [
    "gdat['yhat'] = gdat.apply(lambda row: _evaluate(pruned_tree, row), axis=1)"
   ]
  },
  {
   "cell_type": "code",
   "execution_count": 24,
   "metadata": {
    "scrolled": true
   },
   "outputs": [
    {
     "data": {
      "text/plain": [
       "0    1\n",
       "1    2\n",
       "2    1\n",
       "3    1\n",
       "4    2\n",
       "Name: is_good, dtype: int64"
      ]
     },
     "execution_count": 24,
     "metadata": {},
     "output_type": "execute_result"
    }
   ],
   "source": [
    "gdat.is_good.head()"
   ]
  },
  {
   "cell_type": "markdown",
   "metadata": {},
   "source": [
    "# Matriz de confución"
   ]
  },
  {
   "cell_type": "code",
   "execution_count": 31,
   "metadata": {},
   "outputs": [
    {
     "data": {
      "text/plain": [
       "64"
      ]
     },
     "execution_count": 31,
     "metadata": {},
     "output_type": "execute_result"
    }
   ],
   "source": [
    "(gdat[gdat.is_good == 2].yhat == 2).sum()"
   ]
  },
  {
   "cell_type": "code",
   "execution_count": 26,
   "metadata": {},
   "outputs": [
    {
     "data": {
      "text/plain": [
       "204"
      ]
     },
     "execution_count": 26,
     "metadata": {},
     "output_type": "execute_result"
    }
   ],
   "source": [
    "(gdat[gdat.is_good == 2].yhat == 1).sum()"
   ]
  },
  {
   "cell_type": "code",
   "execution_count": 27,
   "metadata": {},
   "outputs": [
    {
     "data": {
      "text/plain": [
       "39"
      ]
     },
     "execution_count": 27,
     "metadata": {},
     "output_type": "execute_result"
    }
   ],
   "source": [
    "(gdat[gdat.is_good == 1].yhat == 2).sum()"
   ]
  },
  {
   "cell_type": "code",
   "execution_count": 28,
   "metadata": {},
   "outputs": [
    {
     "data": {
      "text/plain": [
       "593"
      ]
     },
     "execution_count": 28,
     "metadata": {},
     "output_type": "execute_result"
    }
   ],
   "source": [
    "(gdat[gdat.is_good == 1].yhat == 1).sum()"
   ]
  },
  {
   "cell_type": "code",
   "execution_count": 29,
   "metadata": {},
   "outputs": [
    {
     "data": {
      "text/plain": [
       "900"
      ]
     },
     "execution_count": 29,
     "metadata": {},
     "output_type": "execute_result"
    }
   ],
   "source": [
    "64+204+39+593"
   ]
  },
  {
   "cell_type": "code",
   "execution_count": null,
   "metadata": {
    "collapsed": true
   },
   "outputs": [],
   "source": []
  }
 ],
 "metadata": {
  "kernelspec": {
   "display_name": "Python 3",
   "language": "python",
   "name": "python3"
  },
  "language_info": {
   "codemirror_mode": {
    "name": "ipython",
    "version": 3
   },
   "file_extension": ".py",
   "mimetype": "text/x-python",
   "name": "python",
   "nbconvert_exporter": "python",
   "pygments_lexer": "ipython3",
   "version": "3.6.3"
  }
 },
 "nbformat": 4,
 "nbformat_minor": 2
}
