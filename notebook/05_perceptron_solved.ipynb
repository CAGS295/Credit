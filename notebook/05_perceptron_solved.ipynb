{
 "cells": [
  {
   "cell_type": "code",
   "execution_count": null,
   "metadata": {
    "collapsed": true,
    "deletable": true,
    "editable": true
   },
   "outputs": [],
   "source": [
    "%matplotlib inline\n",
    "import pandas as pd\n",
    "import matplotlib.pyplot as plt\n",
    "import numpy as np"
   ]
  },
  {
   "cell_type": "markdown",
   "metadata": {
    "deletable": true,
    "editable": true
   },
   "source": [
    "# Algoritmo del perceptrón\n",
    "\n",
    "Para este ejercicio crearemos un modelo que determine si una moneda es de \\$1 o de \\$5 utilizando su peso y su tamaño. Los datos se encuentran en `coins.csv`"
   ]
  },
  {
   "cell_type": "code",
   "execution_count": null,
   "metadata": {
    "collapsed": false,
    "deletable": true,
    "editable": true
   },
   "outputs": [],
   "source": [
    "dataset = pd.read_csv('../data/coins.csv')\n",
    "dataset.head(5)"
   ]
  },
  {
   "cell_type": "code",
   "execution_count": null,
   "metadata": {
    "collapsed": false,
    "deletable": true,
    "editable": true
   },
   "outputs": [],
   "source": [
    "fig = plt.figure(figsize=(8,8))\n",
    "ax = fig.add_subplot(111)\n",
    "ax = dataset[dataset.type == '$1'].plot.scatter('size', 'weight', c='blue', ax=ax)\n",
    "dataset[dataset.type == '$5'].plot.scatter('size', 'weight', c='red', ax=ax)\n",
    "ax.legend(['$1', '$5'])\n",
    "ax.set_title('Medidas de tamaño y peso de diferentes monedas.');"
   ]
  },
  {
   "cell_type": "markdown",
   "metadata": {
    "deletable": true,
    "editable": true
   },
   "source": [
    "# El conjunto de hipotesis para el perceptrón\n",
    "$$ h(\\mathbf{x}) =  \\mathrm{sign}(\\mathbf{w}^\\intercal\\mathbf{x}_n) $$\n",
    "\n",
    "Escriba una función que represente el conjunto de hipotesis para el perceptrón. Es decir, dado $\\mathrm(w)$ y un $\\mathrm{umbral}$ determine si es una moneda de \\$1 o de \\$5"
   ]
  },
  {
   "cell_type": "code",
   "execution_count": null,
   "metadata": {
    "collapsed": false,
    "deletable": true,
    "editable": true
   },
   "outputs": [],
   "source": [
    "w = np.random.rand(3)\n",
    "w"
   ]
  },
  {
   "cell_type": "code",
   "execution_count": null,
   "metadata": {
    "collapsed": true,
    "deletable": true,
    "editable": true
   },
   "outputs": [],
   "source": [
    "def model(row, w):\n",
    "    return '$1' if row.values.dot(w) > 0 else '$5'"
   ]
  },
  {
   "cell_type": "code",
   "execution_count": null,
   "metadata": {
    "collapsed": true,
    "deletable": true,
    "editable": true
   },
   "outputs": [],
   "source": [
    "train_data = dataset[['size', 'weight']]\n",
    "train_data['x0'] = 1\n",
    "\n",
    "def guess(w):\n",
    "    dataset['guess'] = train_data.apply(lambda row: model(row,w), axis=1)\n",
    "    return dataset"
   ]
  },
  {
   "cell_type": "code",
   "execution_count": null,
   "metadata": {
    "collapsed": false,
    "deletable": true,
    "editable": true
   },
   "outputs": [],
   "source": [
    "guess(w).head(5)"
   ]
  },
  {
   "cell_type": "markdown",
   "metadata": {
    "deletable": true,
    "editable": true
   },
   "source": [
    "## El algoritmo de aprendizaje del perceptrón\n",
    "1. Escoger un punto __mal clasificado__:\n",
    "$$ h(\\mathbf{x}) \\neq y_n$$\n",
    "2. Actualizar el vector de pesos:\n",
    "$$\\mathbf{w} = \\mathbf{w} + y_n\\mathbf{x}_n $$"
   ]
  },
  {
   "cell_type": "code",
   "execution_count": null,
   "metadata": {
    "collapsed": false,
    "deletable": true,
    "editable": true
   },
   "outputs": [],
   "source": [
    "def get_missclasified(dataset):\n",
    "    return dataset[dataset.type != dataset.guess].iloc[0]\n",
    "\n",
    "while True:\n",
    "    dataset = guess(w)\n",
    "\n",
    "    miss = get_missclasified(dataset)\n",
    "    update = (1 if miss.type == '$1' else -1) * \\\n",
    "              np.array([miss['size'], miss.weight, 1])\n",
    "    w = w + update"
   ]
  },
  {
   "cell_type": "code",
   "execution_count": null,
   "metadata": {
    "collapsed": false,
    "deletable": true,
    "editable": true
   },
   "outputs": [],
   "source": [
    "print(w)\n",
    "guess(w)"
   ]
  },
  {
   "cell_type": "markdown",
   "metadata": {
    "deletable": true,
    "editable": true
   },
   "source": [
    "## Grafique como varia el error en la muestra durante el entrenamiento"
   ]
  },
  {
   "cell_type": "code",
   "execution_count": null,
   "metadata": {
    "collapsed": true,
    "deletable": true,
    "editable": true
   },
   "outputs": [],
   "source": []
  },
  {
   "cell_type": "markdown",
   "metadata": {
    "deletable": true,
    "editable": true
   },
   "source": [
    "## Dibuje la linea que divide la clasificación\n",
    "$$\\mathbf{w}^\\intercal\\mathbf{x}_n = 0$$"
   ]
  },
  {
   "cell_type": "code",
   "execution_count": null,
   "metadata": {
    "collapsed": true,
    "deletable": true,
    "editable": true
   },
   "outputs": [],
   "source": [
    "# ax.plot([x0, x1], [y0, y1], 'k-')"
   ]
  },
  {
   "cell_type": "code",
   "execution_count": null,
   "metadata": {
    "collapsed": true,
    "deletable": true,
    "editable": true
   },
   "outputs": [],
   "source": []
  }
 ],
 "metadata": {
  "kernelspec": {
   "display_name": "Python 3",
   "language": "python",
   "name": "python3"
  },
  "language_info": {
   "codemirror_mode": {
    "name": "ipython",
    "version": 3
   },
   "file_extension": ".py",
   "mimetype": "text/x-python",
   "name": "python",
   "nbconvert_exporter": "python",
   "pygments_lexer": "ipython3",
   "version": "3.6.1"
  }
 },
 "nbformat": 4,
 "nbformat_minor": 2
}
