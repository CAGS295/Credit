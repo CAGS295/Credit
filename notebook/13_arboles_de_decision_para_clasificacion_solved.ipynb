{
 "cells": [
  {
   "cell_type": "markdown",
   "metadata": {
    "deletable": true,
    "editable": true
   },
   "source": [
    "# Árboles de decision para `titanic.csv`\n",
    "\n",
    "Modifique los metodos para el arbol de decision, para poder utilizarlo para classificación. Y apliquelo en los datos de `titanic.csv`"
   ]
  },
  {
   "cell_type": "code",
   "execution_count": null,
   "metadata": {
    "collapsed": true,
    "deletable": true,
    "editable": true
   },
   "outputs": [],
   "source": [
    "%matplotlib inline\n",
    "import pandas as pd\n",
    "import numpy as np\n",
    "import matplotlib.pyplot as plt"
   ]
  },
  {
   "cell_type": "code",
   "execution_count": null,
   "metadata": {
    "collapsed": true,
    "deletable": true,
    "editable": true
   },
   "outputs": [],
   "source": [
    "titanic_data = pd.read_csv('../data/titanic.csv', index_col='PassengerId')"
   ]
  },
  {
   "cell_type": "code",
   "execution_count": null,
   "metadata": {
    "collapsed": false,
    "deletable": true,
    "editable": true
   },
   "outputs": [],
   "source": [
    "attrs = ['Pclass', 'Sex', 'Age', 'SibSp', 'Parch', 'Fare', 'Survived']\n",
    "titanic_data = pd.get_dummies(titanic_data[attrs]).dropna()\n",
    "titanic_data"
   ]
  },
  {
   "cell_type": "code",
   "execution_count": null,
   "metadata": {
    "collapsed": false,
    "deletable": true,
    "editable": true
   },
   "outputs": [],
   "source": [
    "titanic_data[titanic_data.Age < 0.99 ]"
   ]
  },
  {
   "cell_type": "markdown",
   "metadata": {
    "deletable": true,
    "editable": true
   },
   "source": [
    "## Gini Index\n",
    "$$ G = \\sum_{k=1}^K p_{mk} (1 - p_{mk})$$"
   ]
  },
  {
   "cell_type": "code",
   "execution_count": null,
   "metadata": {
    "collapsed": false,
    "deletable": true,
    "editable": true
   },
   "outputs": [],
   "source": [
    "# Un árbol esta definido por la siguiente estructura\n",
    "# {'left': None, 'right': None, 'df': df, 'rss': 0}\n",
    "\n",
    "def _gini_index(df, y):\n",
    "    \"\"\"\n",
    "    Calculate gini_index R, using the target y.\n",
    "    \"\"\"\n",
    "    categories = df[y].unique()\n",
    "    gini_index = 0\n",
    "    max_count = -float('inf')\n",
    "    yhat = None\n",
    "    for category in categories:\n",
    "        category_count = (df[y] == category).sum()\n",
    "        pmk = category_count / len(df)\n",
    "        gini_index += pmk * (1 - pmk)\n",
    "        if max_count < category_count:\n",
    "            yhat = category\n",
    "    return gini_index, yhat\n",
    "\n",
    "_gini_index(titanic_data, 'Survived')"
   ]
  },
  {
   "cell_type": "code",
   "execution_count": null,
   "metadata": {
    "collapsed": false,
    "deletable": true,
    "editable": true,
    "scrolled": true
   },
   "outputs": [],
   "source": [
    "def _binary_splitting(df, y, x_j):\n",
    "    \"\"\"\n",
    "    Find the best split using the predictor x_j. \n",
    "    \"\"\"\n",
    "    cut_values = sorted(set(df[x_j]))\n",
    "    min_s = None\n",
    "    min_rss, _ = _gini_index(df, y)\n",
    "    for i in range(len(cut_values) - 1):\n",
    "        s = (cut_values[i] + cut_values[i+1]) / 2\n",
    "    \n",
    "        left_df = df[df[x_j] < s ]\n",
    "        right_df = df[df[x_j] >= s]\n",
    "        left_rss, _ = _gini_index(left_df, y)\n",
    "        right_rss, _ = _gini_index(right_df , y)\n",
    "        \n",
    "        # Weighted sum of impurity\n",
    "        rss = (left_rss*len(left_df) + right_rss*len(right_df))/len(df)\n",
    "         \n",
    "        if rss < min_rss:\n",
    "            min_s = s\n",
    "            min_rss = rss\n",
    "\n",
    "    split = {\n",
    "        'rss': min_rss,\n",
    "        's': min_s,\n",
    "        'x_j': x_j,\n",
    "        'left_df': df[df[x_j] < min_s ],\n",
    "        'right_df': df[df[x_j] >= min_s]\n",
    "    }\n",
    "    return split\n",
    "\n",
    "_binary_splitting(titanic_data, 'Survived', 'Age')"
   ]
  },
  {
   "cell_type": "code",
   "execution_count": null,
   "metadata": {
    "collapsed": false,
    "deletable": true,
    "editable": true
   },
   "outputs": [],
   "source": [
    "def _recursive_binary_splitting(df, y, predictors):\n",
    "    \"\"\"\n",
    "    Select the best variable to reduce the\n",
    "    residual square sum from predictors.\n",
    "    \"\"\"\n",
    "    assert(len(predictors) > 0) # You should have at least one predictor\n",
    "    min_split = None\n",
    "    min_rss = float('inf')\n",
    "    for x_j in predictors:\n",
    "        split = _binary_splitting(df, y, x_j)\n",
    "        if split['rss'] < min_rss:\n",
    "            min_split = split\n",
    "            min_rss = split['rss']\n",
    "     \n",
    "    return {\n",
    "        'rss': min_rss,\n",
    "        's': min_split['s'],\n",
    "        'x_j': min_split['x_j'],\n",
    "        'left_df': min_split['left_df'],\n",
    "        'right_df': min_split['right_df']\n",
    "    }\n",
    "\n",
    "_recursive_binary_splitting(titanic_data, 'Survived', \\\n",
    "['Pclass', 'Age', 'SibSp', 'Parch', 'Fare', 'Sex_female', 'Sex_male'])"
   ]
  },
  {
   "cell_type": "code",
   "execution_count": null,
   "metadata": {
    "collapsed": false,
    "deletable": true,
    "editable": true,
    "scrolled": false
   },
   "outputs": [],
   "source": [
    "def _make_tree(df, y):\n",
    "    rss, yhat = _gini_index(df, y)\n",
    "    return {'left': None, 'right':None, \n",
    "            'rss': rss,\n",
    "            'yhat': yhat,\n",
    "            'df': df,\n",
    "            'y': y}\n",
    "\n",
    "def _grow_tree(tree, predictors, min_points_per_leaf=5):\n",
    "    \"\"\"\n",
    "    Recursively divide tree using the split that\n",
    "    minimize rss. It stops when the region have\n",
    "    less than 5 elements.\n",
    "    \"\"\"\n",
    "    if len(tree['df']) <= min_points_per_leaf:\n",
    "        return tree\n",
    "    \n",
    "    split = _recursive_binary_splitting(tree['df'], tree['y'], predictors)\n",
    "    if split['s'] is None:\n",
    "        return tree\n",
    "    left_tree = _make_tree(split['left_df'], tree['y'])\n",
    "    right_tree = _make_tree(split['right_df'],  tree['y'])\n",
    "\n",
    "    _grow_tree(left_tree, predictors, min_points_per_leaf=min_points_per_leaf)\n",
    "    _grow_tree(right_tree, predictors, min_points_per_leaf=min_points_per_leaf)\n",
    "    \n",
    "    tree['left'] = left_tree\n",
    "    tree['right'] = right_tree\n",
    "    tree['x_j'] = split['x_j']\n",
    "    tree['s'] = split['s']\n",
    "    \n",
    "    return tree\n",
    "\n",
    "titanic_tree = _make_tree(titanic_data, 'Survived')\n",
    "_grow_tree(titanic_tree, \\\n",
    "  ['Age', 'SibSp', 'Parch', 'Fare', 'Sex_female', 'Sex_male'],\n",
    "  min_points_per_leaf=1);"
   ]
  },
  {
   "cell_type": "code",
   "execution_count": null,
   "metadata": {
    "collapsed": false,
    "deletable": true,
    "editable": true
   },
   "outputs": [],
   "source": [
    "import graphviz\n",
    "from IPython import display\n",
    "\n",
    "def make_node(g, name, tree):\n",
    "    attributes = {'label': 'rss: {:0.4f}'.format(tree['rss']),\n",
    "                  'shape': 'square'}\n",
    "    if tree.get('yhat'):\n",
    "        attributes['label'] += '\\n yhat: {:0.2f}'.format(tree['yhat'])\n",
    "    g.node(name, **attributes)\n",
    "    \n",
    "def make_edge(g, parent, child, tree, direction):\n",
    "    attributes = {}\n",
    "    if direction == 'l':\n",
    "        attributes['label'] = '{} < {}'.format(tree['x_j'], tree['s'])\n",
    "    if direction == 'r':\n",
    "        attributes['label'] = '{} >= {}'.format(tree['x_j'], tree['s'])\n",
    "    g.edge(parent, child, **attributes)\n",
    "    \n",
    "\n",
    "def construct_tree(g, dna, tree):\n",
    "    if not tree['left'] and not tree['right']:\n",
    "        make_node(g, dna, tree)\n",
    "    else:\n",
    "        make_node(g, dna + 'l', tree['left'])\n",
    "        make_edge(g, dna, dna + 'l', tree, 'l')\n",
    "        construct_tree(g, dna + 'l', tree['left'])\n",
    "\n",
    "        make_node(g, dna + 'r', tree['right'])\n",
    "        make_edge(g, dna, dna + 'r', tree, 'r')\n",
    "        construct_tree(g, dna + 'r', tree['right'])\n",
    "        \n",
    "def visualize_tree(tree):\n",
    "    g = graphviz.Graph('tree', 'tree.dot', engine='dot')\n",
    "    make_node(g, 'r', tree)\n",
    "    construct_tree(g, 'r', tree)\n",
    "    display.display(g)"
   ]
  },
  {
   "cell_type": "code",
   "execution_count": null,
   "metadata": {
    "collapsed": false,
    "deletable": true,
    "editable": true,
    "scrolled": true
   },
   "outputs": [],
   "source": [
    "visualize_tree(titanic_tree)"
   ]
  },
  {
   "cell_type": "code",
   "execution_count": null,
   "metadata": {
    "collapsed": true,
    "deletable": true,
    "editable": true
   },
   "outputs": [],
   "source": []
  }
 ],
 "metadata": {
  "kernelspec": {
   "display_name": "Python 3",
   "language": "python",
   "name": "python3"
  },
  "language_info": {
   "codemirror_mode": {
    "name": "ipython",
    "version": 3
   },
   "file_extension": ".py",
   "mimetype": "text/x-python",
   "name": "python",
   "nbconvert_exporter": "python",
   "pygments_lexer": "ipython3",
   "version": "3.6.1"
  }
 },
 "nbformat": 4,
 "nbformat_minor": 2
}
