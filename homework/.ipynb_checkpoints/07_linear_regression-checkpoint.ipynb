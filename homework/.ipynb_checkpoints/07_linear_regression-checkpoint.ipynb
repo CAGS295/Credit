{
 "cells": [
  {
   "cell_type": "code",
   "execution_count": 1,
   "metadata": {
    "collapsed": true
   },
   "outputs": [],
   "source": [
    "column_name = ['checking', 'duration_', 'history', 'purpose', 'amount_', 'savings',\n",
    "               'employment', 'installment_', 'personal', 'guarantors', 'recidence_', \n",
    "               'property', 'age_', 'other', 'housing', 'credits_',\n",
    "               'job', 'liable_', 'telephone', 'foreign', 'is_good']"
   ]
  },
  {
   "cell_type": "code",
   "execution_count": 39,
   "metadata": {},
   "outputs": [],
   "source": [
    "import pandas as pd\n",
    "import os\n",
    "import numpy as np\n",
    "%matplotlib inline\n",
    "import matplotlib.pyplot as plt\n",
    "#\"/media/ibu/SHARED/repos/Credit/data/german.data\"\n",
    "gdata=pd.read_csv(\"../data/german.data\", sep=\" \",header = None)\n",
    "gdata.columns = column_name;\n",
    "#os.getcwd()\n",
    "gdata=pd.get_dummies(gdata);\n",
    "#gdata.loc[:,gdata.columns.map(lambda x: x.startswith('hist')).values]\n",
    "W = np.random.randn(gdata.shape[1]);\n",
    "gdata['X0'] = 1\n",
    "gucci=gdata[\"amount_\"]\n",
    "gdata=gdata.drop([\"is_good\",\"amount_\"], axis=1)"
   ]
  },
  {
   "cell_type": "code",
   "execution_count": 40,
   "metadata": {},
   "outputs": [],
   "source": [
    "W = np.linalg.pinv(gdata) @ gucci.values"
   ]
  },
  {
   "cell_type": "code",
   "execution_count": 74,
   "metadata": {},
   "outputs": [],
   "source": [
    "E =(gucci.values - np.dot(gdata,W))\n",
    "MSE = E @ E / len(E)\n",
    "MSE"
   ]
  }
 ],
 "metadata": {
  "kernelspec": {
   "display_name": "Python 3",
   "language": "python",
   "name": "python3"
  },
  "language_info": {
   "codemirror_mode": {
    "name": "ipython",
    "version": 3
   },
   "file_extension": ".py",
   "mimetype": "text/x-python",
   "name": "python",
   "nbconvert_exporter": "python",
   "pygments_lexer": "ipython3",
   "version": "3.6.3"
  }
 },
 "nbformat": 4,
 "nbformat_minor": 2
}
