{
 "cells": [
  {
   "cell_type": "markdown",
   "metadata": {},
   "source": [
    "# Diagnostico"
   ]
  },
  {
   "cell_type": "markdown",
   "metadata": {},
   "source": [
    "## Programación\n",
    "Escribe codigo o pseudo-codigo para resolver los siguientes problemas:\n",
    "\n",
    "1.- Escribe un programa que pida un numero __n__ al usuario e imprima la suma de los numeros del 1 al __n__.\n"
   ]
  },
  {
   "cell_type": "code",
   "execution_count": null,
   "metadata": {},
   "outputs": [],
   "source": []
  },
  {
   "cell_type": "markdown",
   "metadata": {},
   "source": [
    "2.- Escribe una funcion que combine dos listas tomando alternadamante elemtos, e.j. [a,b,c], [1,2,3] → [a,1,b,2,c,3]."
   ]
  },
  {
   "cell_type": "code",
   "execution_count": null,
   "metadata": {},
   "outputs": [],
   "source": []
  },
  {
   "cell_type": "markdown",
   "metadata": {},
   "source": [
    "3.- Escriba un programa que escriba todas las formas de colocar + o - entre los numeros 1,2,..., 9 (en este mismo orden) tal que el resultado sea 100. e.j. 1 + 2 + 3 - 4 + 5 + 6 + 78 + 9 = 100."
   ]
  },
  {
   "cell_type": "code",
   "execution_count": null,
   "metadata": {},
   "outputs": [],
   "source": []
  },
  {
   "cell_type": "markdown",
   "metadata": {},
   "source": [
    "# Estadística\n",
    "4.- La probabilidad de ganar una medalal de oro de cada miembro de el equipo olimpico Mexicano es de 10%. Cual es la probabilidad de obtener cero medallas de oro por el equipo Mexicano."
   ]
  },
  {
   "cell_type": "code",
   "execution_count": null,
   "metadata": {},
   "outputs": [],
   "source": []
  },
  {
   "cell_type": "markdown",
   "metadata": {},
   "source": [
    "Si $P(A) = 0.20$ y $P(B) = 0.51$, donde $P(B|A) = 0.89$.    \n",
    "5.- Cual es $P(A y B)$? Cual es $P(A|B)$?"
   ]
  },
  {
   "cell_type": "code",
   "execution_count": null,
   "metadata": {},
   "outputs": [],
   "source": []
  },
  {
   "cell_type": "markdown",
   "metadata": {},
   "source": [
    "# Cálculo\n",
    "6.- $\\frac{d}{dx} ( x^2 + e^x )$ "
   ]
  },
  {
   "cell_type": "code",
   "execution_count": null,
   "metadata": {},
   "outputs": [],
   "source": []
  },
  {
   "cell_type": "markdown",
   "metadata": {},
   "source": [
    "7.- $\\int_0^1 \\sqrt{ 1 - x^2 }$"
   ]
  },
  {
   "cell_type": "code",
   "execution_count": null,
   "metadata": {},
   "outputs": [],
   "source": []
  },
  {
   "cell_type": "markdown",
   "metadata": {},
   "source": [
    "8.- $\\frac{d}{dx} \\frac{1}{1 + e^{-x}}$"
   ]
  },
  {
   "cell_type": "code",
   "execution_count": null,
   "metadata": {},
   "outputs": [],
   "source": []
  },
  {
   "cell_type": "markdown",
   "metadata": {},
   "source": [
    "# Puntuación Crediticia"
   ]
  },
  {
   "cell_type": "markdown",
   "metadata": {},
   "source": [
    "Considere la siguiente solicitud de credito hipotecario: https://www.bancomer.com/fbin/SolCH_tcm1344-487598.pdf\n",
    "\n",
    "9.- Escriba ejemplos de datos solicitados y que __C__(Caracter, Capacidad, Capital, Colateral) intenta determinar."
   ]
  },
  {
   "cell_type": "code",
   "execution_count": null,
   "metadata": {},
   "outputs": [],
   "source": []
  },
  {
   "cell_type": "markdown",
   "metadata": {},
   "source": [
    "10.- Obtenga su reporte de crédito de Buro de Crédito: https://www.burodecredito.com.mx/ o Círculo de Crédito: https://www.circulodecredito.com.mx/. Por ley puede obtener un reporte gratis cada 12 meses (evite agregar analisis extras que puedan generarle costo). __NO envie su reporte como parte de la tarea__, solo revise la información que contiene."
   ]
  },
  {
   "cell_type": "markdown",
   "metadata": {},
   "source": [
    "Opcional: Credit Reports: Last Week Tonight with John Oliver (HBO) https://www.youtube.com/watch?v=aRrDsbUdY_k"
   ]
  },
  {
   "cell_type": "code",
   "execution_count": null,
   "metadata": {},
   "outputs": [],
   "source": []
  }
 ],
 "metadata": {
  "kernelspec": {
   "display_name": "Python 3",
   "language": "python",
   "name": "python3"
  },
  "language_info": {
   "codemirror_mode": {
    "name": "ipython",
    "version": 3
   },
   "file_extension": ".py",
   "mimetype": "text/x-python",
   "name": "python",
   "nbconvert_exporter": "python",
   "pygments_lexer": "ipython3",
   "version": "3.6.4"
  }
 },
 "nbformat": 4,
 "nbformat_minor": 1
}
